{
 "cells": [
  {
   "cell_type": "markdown",
   "metadata": {},
   "source": [
    "# Import the libraries"
   ]
  },
  {
   "cell_type": "code",
   "execution_count": 2,
   "metadata": {},
   "outputs": [],
   "source": [
    "# Import libraries\n",
    "import numpy as np               # Arrary\n",
    "import pandas as pd              # DataFrame\n",
    "import matplotlib.pyplot as plt  # Plotting\n",
    "import math                      # Pi value\n"
   ]
  },
  {
   "cell_type": "code",
   "execution_count": 3,
   "metadata": {},
   "outputs": [],
   "source": [
    "# libraries\n",
    "import sys\n",
    "import pandas as pd\n",
    "import numpy as np\n",
    "from pandas               import DataFrame\n",
    "from pandas               import Series\n",
    "from pandas               import read_csv\n",
    "from pandas               import get_dummies\n",
    "from numpy                import array\n",
    "from numpy                import random\n",
    "from numpy                import where\n",
    "from numpy                import nan\n",
    "from scipy.stats.mstats   import winsorize\n",
    "from sklearn.linear_model import LogisticRegression \n",
    "from sklearn.metrics      import auc\n",
    "from sklearn.metrics      import roc_auc_score\n",
    "from matplotlib           import pyplot\n",
    "from datetime             import datetime \n",
    "\n",
    "from pandas                 import DataFrame\n",
    "from pandas                 import read_csv\n",
    "from numpy                  import array\n",
    "from numpy                  import random\n",
    "from sklearn.linear_model   import LogisticRegression\n",
    "from sklearn.tree           import DecisionTreeClassifier\n",
    "from sklearn.ensemble       import RandomForestClassifier\n",
    "from sklearn.ensemble       import GradientBoostingClassifier\n",
    "from sklearn.svm            import SVC\n",
    "from sklearn.neural_network import MLPClassifier\n",
    "from sklearn.neighbors      import KNeighborsClassifier\n",
    "from sklearn.metrics        import accuracy_score\n",
    "from sklearn.metrics        import auc\n",
    "from sklearn.metrics        import roc_auc_score\n",
    "from matplotlib             import pyplot\n",
    "from sklearn.utils          import resample\n",
    "from sklearn.metrics        import confusion_matrix"
   ]
  },
  {
   "cell_type": "code",
   "execution_count": 4,
   "metadata": {},
   "outputs": [],
   "source": [
    "#local libraries\n",
    "from ieseg import partition\n",
    "from ieseg import roc\n",
    "from ieseg import lift\n",
    "from ieseg import cumulativeResponse\n",
    "from ieseg import cumulativeGains"
   ]
  },
  {
   "cell_type": "markdown",
   "metadata": {},
   "source": [
    "# Import the raw data"
   ]
  },
  {
   "cell_type": "code",
   "execution_count": 5,
   "metadata": {},
   "outputs": [],
   "source": [
    "# Import donoation data\n",
    "\n",
    "# Each record describes characteristics of a campaign20130411\n",
    "campaign2013 = pd.read_csv(\"C:/Users/jmotyl/Documents/Predictive analysis/group project/campaign20130411.csv\", sep=';')\n",
    "\n",
    "# Each record describes static characteristics of an campaign20140115\n",
    "campaign2014 = pd.read_csv('C:/Users/jmotyl/Documents/Predictive analysis/group project/campaign20140115.csv', sep=';')\n",
    "\n",
    "# Each record describes a credit card issued to an donors\n",
    "donors = pd.read_csv('C:/Users/jmotyl/Documents/Predictive analysis/group project/donors.csv', sep=';')\n",
    "\n",
    "# Each record describes demographic characteristics of a gifts\n",
    "gifts = pd.read_csv('C:/Users/jmotyl/Documents/Predictive analysis/group project/gifts.csv', sep=';')\n"
   ]
  },
  {
   "cell_type": "markdown",
   "metadata": {},
   "source": [
    "# Check the dataframes"
   ]
  },
  {
   "cell_type": "markdown",
   "metadata": {},
   "source": [
    "### Check variables "
   ]
  },
  {
   "cell_type": "code",
   "execution_count": 6,
   "metadata": {},
   "outputs": [
    {
     "data": {
      "text/html": [
       "<div>\n",
       "<style scoped>\n",
       "    .dataframe tbody tr th:only-of-type {\n",
       "        vertical-align: middle;\n",
       "    }\n",
       "\n",
       "    .dataframe tbody tr th {\n",
       "        vertical-align: top;\n",
       "    }\n",
       "\n",
       "    .dataframe thead th {\n",
       "        text-align: right;\n",
       "    }\n",
       "</style>\n",
       "<table border=\"1\" class=\"dataframe\">\n",
       "  <thead>\n",
       "    <tr style=\"text-align: right;\">\n",
       "      <th></th>\n",
       "      <th>donorID</th>\n",
       "      <th>amount</th>\n",
       "    </tr>\n",
       "  </thead>\n",
       "  <tbody>\n",
       "    <tr>\n",
       "      <td>0</td>\n",
       "      <td>100001</td>\n",
       "      <td>0.0</td>\n",
       "    </tr>\n",
       "    <tr>\n",
       "      <td>1</td>\n",
       "      <td>100002</td>\n",
       "      <td>0.0</td>\n",
       "    </tr>\n",
       "    <tr>\n",
       "      <td>2</td>\n",
       "      <td>100004</td>\n",
       "      <td>0.0</td>\n",
       "    </tr>\n",
       "    <tr>\n",
       "      <td>3</td>\n",
       "      <td>100008</td>\n",
       "      <td>0.0</td>\n",
       "    </tr>\n",
       "    <tr>\n",
       "      <td>4</td>\n",
       "      <td>100009</td>\n",
       "      <td>0.0</td>\n",
       "    </tr>\n",
       "  </tbody>\n",
       "</table>\n",
       "</div>"
      ],
      "text/plain": [
       "   donorID  amount\n",
       "0   100001     0.0\n",
       "1   100002     0.0\n",
       "2   100004     0.0\n",
       "3   100008     0.0\n",
       "4   100009     0.0"
      ]
     },
     "execution_count": 6,
     "metadata": {},
     "output_type": "execute_result"
    }
   ],
   "source": [
    "campaign2013.head()"
   ]
  },
  {
   "cell_type": "code",
   "execution_count": 7,
   "metadata": {},
   "outputs": [
    {
     "data": {
      "text/html": [
       "<div>\n",
       "<style scoped>\n",
       "    .dataframe tbody tr th:only-of-type {\n",
       "        vertical-align: middle;\n",
       "    }\n",
       "\n",
       "    .dataframe tbody tr th {\n",
       "        vertical-align: top;\n",
       "    }\n",
       "\n",
       "    .dataframe thead th {\n",
       "        text-align: right;\n",
       "    }\n",
       "</style>\n",
       "<table border=\"1\" class=\"dataframe\">\n",
       "  <thead>\n",
       "    <tr style=\"text-align: right;\">\n",
       "      <th></th>\n",
       "      <th>donorID</th>\n",
       "      <th>amount</th>\n",
       "    </tr>\n",
       "  </thead>\n",
       "  <tbody>\n",
       "    <tr>\n",
       "      <td>0</td>\n",
       "      <td>100001</td>\n",
       "      <td>0.0</td>\n",
       "    </tr>\n",
       "    <tr>\n",
       "      <td>1</td>\n",
       "      <td>100002</td>\n",
       "      <td>0.0</td>\n",
       "    </tr>\n",
       "    <tr>\n",
       "      <td>2</td>\n",
       "      <td>100008</td>\n",
       "      <td>0.0</td>\n",
       "    </tr>\n",
       "    <tr>\n",
       "      <td>3</td>\n",
       "      <td>100009</td>\n",
       "      <td>0.0</td>\n",
       "    </tr>\n",
       "    <tr>\n",
       "      <td>4</td>\n",
       "      <td>100010</td>\n",
       "      <td>0.0</td>\n",
       "    </tr>\n",
       "  </tbody>\n",
       "</table>\n",
       "</div>"
      ],
      "text/plain": [
       "   donorID  amount\n",
       "0   100001     0.0\n",
       "1   100002     0.0\n",
       "2   100008     0.0\n",
       "3   100009     0.0\n",
       "4   100010     0.0"
      ]
     },
     "execution_count": 7,
     "metadata": {},
     "output_type": "execute_result"
    }
   ],
   "source": [
    "campaign2014.head()"
   ]
  },
  {
   "cell_type": "code",
   "execution_count": 8,
   "metadata": {},
   "outputs": [
    {
     "data": {
      "text/html": [
       "<div>\n",
       "<style scoped>\n",
       "    .dataframe tbody tr th:only-of-type {\n",
       "        vertical-align: middle;\n",
       "    }\n",
       "\n",
       "    .dataframe tbody tr th {\n",
       "        vertical-align: top;\n",
       "    }\n",
       "\n",
       "    .dataframe thead th {\n",
       "        text-align: right;\n",
       "    }\n",
       "</style>\n",
       "<table border=\"1\" class=\"dataframe\">\n",
       "  <thead>\n",
       "    <tr style=\"text-align: right;\">\n",
       "      <th></th>\n",
       "      <th>donorID</th>\n",
       "      <th>gender</th>\n",
       "      <th>language</th>\n",
       "      <th>zipcode</th>\n",
       "      <th>region</th>\n",
       "    </tr>\n",
       "  </thead>\n",
       "  <tbody>\n",
       "    <tr>\n",
       "      <td>0</td>\n",
       "      <td>100001</td>\n",
       "      <td>M</td>\n",
       "      <td>N</td>\n",
       "      <td>1861</td>\n",
       "      <td>Missing</td>\n",
       "    </tr>\n",
       "    <tr>\n",
       "      <td>1</td>\n",
       "      <td>100002</td>\n",
       "      <td>M</td>\n",
       "      <td>F</td>\n",
       "      <td>2260</td>\n",
       "      <td>13049A090</td>\n",
       "    </tr>\n",
       "    <tr>\n",
       "      <td>2</td>\n",
       "      <td>100003</td>\n",
       "      <td>M</td>\n",
       "      <td>F</td>\n",
       "      <td>1780</td>\n",
       "      <td>21004A24-</td>\n",
       "    </tr>\n",
       "    <tr>\n",
       "      <td>3</td>\n",
       "      <td>100004</td>\n",
       "      <td>M</td>\n",
       "      <td>N</td>\n",
       "      <td>1020</td>\n",
       "      <td>Missing</td>\n",
       "    </tr>\n",
       "    <tr>\n",
       "      <td>4</td>\n",
       "      <td>100005</td>\n",
       "      <td>F</td>\n",
       "      <td>F</td>\n",
       "      <td>1020</td>\n",
       "      <td>21004F522</td>\n",
       "    </tr>\n",
       "  </tbody>\n",
       "</table>\n",
       "</div>"
      ],
      "text/plain": [
       "   donorID gender language zipcode     region\n",
       "0   100001      M        N    1861    Missing\n",
       "1   100002      M        F    2260  13049A090\n",
       "2   100003      M        F    1780  21004A24-\n",
       "3   100004      M        N    1020    Missing\n",
       "4   100005      F        F    1020  21004F522"
      ]
     },
     "execution_count": 8,
     "metadata": {},
     "output_type": "execute_result"
    }
   ],
   "source": [
    "donors.head()"
   ]
  },
  {
   "cell_type": "code",
   "execution_count": 9,
   "metadata": {
    "scrolled": true
   },
   "outputs": [
    {
     "data": {
      "text/html": [
       "<div>\n",
       "<style scoped>\n",
       "    .dataframe tbody tr th:only-of-type {\n",
       "        vertical-align: middle;\n",
       "    }\n",
       "\n",
       "    .dataframe tbody tr th {\n",
       "        vertical-align: top;\n",
       "    }\n",
       "\n",
       "    .dataframe thead th {\n",
       "        text-align: right;\n",
       "    }\n",
       "</style>\n",
       "<table border=\"1\" class=\"dataframe\">\n",
       "  <thead>\n",
       "    <tr style=\"text-align: right;\">\n",
       "      <th></th>\n",
       "      <th>campID</th>\n",
       "      <th>donorID</th>\n",
       "      <th>amount</th>\n",
       "      <th>date</th>\n",
       "    </tr>\n",
       "  </thead>\n",
       "  <tbody>\n",
       "    <tr>\n",
       "      <td>0</td>\n",
       "      <td>0</td>\n",
       "      <td>100001</td>\n",
       "      <td>12.39</td>\n",
       "      <td>23/10/1998</td>\n",
       "    </tr>\n",
       "    <tr>\n",
       "      <td>1</td>\n",
       "      <td>1577</td>\n",
       "      <td>100001</td>\n",
       "      <td>12.39</td>\n",
       "      <td>18/08/1999</td>\n",
       "    </tr>\n",
       "    <tr>\n",
       "      <td>2</td>\n",
       "      <td>1634</td>\n",
       "      <td>100001</td>\n",
       "      <td>6.69</td>\n",
       "      <td>31/12/1999</td>\n",
       "    </tr>\n",
       "    <tr>\n",
       "      <td>3</td>\n",
       "      <td>1778</td>\n",
       "      <td>100001</td>\n",
       "      <td>24.79</td>\n",
       "      <td>19/10/2000</td>\n",
       "    </tr>\n",
       "    <tr>\n",
       "      <td>4</td>\n",
       "      <td>1808</td>\n",
       "      <td>100001</td>\n",
       "      <td>7.44</td>\n",
       "      <td>29/12/2000</td>\n",
       "    </tr>\n",
       "  </tbody>\n",
       "</table>\n",
       "</div>"
      ],
      "text/plain": [
       "   campID  donorID  amount        date\n",
       "0       0   100001   12.39  23/10/1998\n",
       "1    1577   100001   12.39  18/08/1999\n",
       "2    1634   100001    6.69  31/12/1999\n",
       "3    1778   100001   24.79  19/10/2000\n",
       "4    1808   100001    7.44  29/12/2000"
      ]
     },
     "execution_count": 9,
     "metadata": {},
     "output_type": "execute_result"
    }
   ],
   "source": [
    "gifts.head()"
   ]
  },
  {
   "cell_type": "markdown",
   "metadata": {},
   "source": [
    "### Check for missing values"
   ]
  },
  {
   "cell_type": "code",
   "execution_count": 10,
   "metadata": {},
   "outputs": [
    {
     "data": {
      "text/plain": [
       "0"
      ]
     },
     "execution_count": 10,
     "metadata": {},
     "output_type": "execute_result"
    }
   ],
   "source": [
    "campaign2013.isna().sum().sum()"
   ]
  },
  {
   "cell_type": "code",
   "execution_count": 11,
   "metadata": {},
   "outputs": [
    {
     "data": {
      "text/plain": [
       "0"
      ]
     },
     "execution_count": 11,
     "metadata": {},
     "output_type": "execute_result"
    }
   ],
   "source": [
    "campaign2014.isna().sum().sum()"
   ]
  },
  {
   "cell_type": "code",
   "execution_count": 12,
   "metadata": {},
   "outputs": [
    {
     "data": {
      "text/plain": [
       "donorID     0\n",
       "gender      0\n",
       "language    0\n",
       "zipcode     1\n",
       "region      0\n",
       "dtype: int64"
      ]
     },
     "execution_count": 12,
     "metadata": {},
     "output_type": "execute_result"
    }
   ],
   "source": [
    "donors.isna().sum()"
   ]
  },
  {
   "cell_type": "code",
   "execution_count": 13,
   "metadata": {},
   "outputs": [
    {
     "data": {
      "text/plain": [
       "0"
      ]
     },
     "execution_count": 13,
     "metadata": {},
     "output_type": "execute_result"
    }
   ],
   "source": [
    "gifts.isna().sum().sum()"
   ]
  },
  {
   "cell_type": "markdown",
   "metadata": {},
   "source": [
    "### Check the structure of the dataframes"
   ]
  },
  {
   "cell_type": "code",
   "execution_count": 14,
   "metadata": {},
   "outputs": [
    {
     "name": "stdout",
     "output_type": "stream",
     "text": [
      "<class 'pandas.core.frame.DataFrame'>\n",
      "RangeIndex: 44691 entries, 0 to 44690\n",
      "Data columns (total 5 columns):\n",
      "donorID     44691 non-null int64\n",
      "gender      44691 non-null object\n",
      "language    44691 non-null object\n",
      "zipcode     44690 non-null object\n",
      "region      44691 non-null object\n",
      "dtypes: int64(1), object(4)\n",
      "memory usage: 1.7+ MB\n"
     ]
    }
   ],
   "source": [
    "donors.info()"
   ]
  },
  {
   "cell_type": "code",
   "execution_count": 15,
   "metadata": {
    "scrolled": true
   },
   "outputs": [
    {
     "name": "stdout",
     "output_type": "stream",
     "text": [
      "<class 'pandas.core.frame.DataFrame'>\n",
      "RangeIndex: 215042 entries, 0 to 215041\n",
      "Data columns (total 4 columns):\n",
      "campID     215042 non-null int64\n",
      "donorID    215042 non-null int64\n",
      "amount     215042 non-null float64\n",
      "date       215042 non-null object\n",
      "dtypes: float64(1), int64(2), object(1)\n",
      "memory usage: 6.6+ MB\n"
     ]
    }
   ],
   "source": [
    "gifts.info()"
   ]
  },
  {
   "cell_type": "markdown",
   "metadata": {},
   "source": [
    "# Data Transformation"
   ]
  },
  {
   "cell_type": "markdown",
   "metadata": {},
   "source": [
    "#### Add variable \"above35\" in the campaign dataframes as target variable"
   ]
  },
  {
   "cell_type": "code",
   "execution_count": 16,
   "metadata": {},
   "outputs": [
    {
     "data": {
      "text/plain": [
       "518"
      ]
     },
     "execution_count": 16,
     "metadata": {},
     "output_type": "execute_result"
    }
   ],
   "source": [
    "campaign2013[\"above35\"] = (campaign2013[\"amount\"]>35).astype(int)\n",
    "campaign2013.above35.sum()"
   ]
  },
  {
   "cell_type": "code",
   "execution_count": 17,
   "metadata": {},
   "outputs": [
    {
     "data": {
      "text/plain": [
       "152"
      ]
     },
     "execution_count": 17,
     "metadata": {},
     "output_type": "execute_result"
    }
   ],
   "source": [
    "campaign2014[\"above35\"] = (campaign2014[\"amount\"]>35).astype(int)\n",
    "campaign2014.above35.sum()"
   ]
  },
  {
   "cell_type": "markdown",
   "metadata": {},
   "source": [
    "#### Change the dates in Gifts to datetime format"
   ]
  },
  {
   "cell_type": "code",
   "execution_count": 18,
   "metadata": {},
   "outputs": [
    {
     "name": "stdout",
     "output_type": "stream",
     "text": [
      "<class 'pandas.core.frame.DataFrame'>\n",
      "RangeIndex: 215042 entries, 0 to 215041\n",
      "Data columns (total 4 columns):\n",
      "campID     215042 non-null int64\n",
      "donorID    215042 non-null int64\n",
      "amount     215042 non-null float64\n",
      "date       215042 non-null datetime64[ns]\n",
      "dtypes: datetime64[ns](1), float64(1), int64(2)\n",
      "memory usage: 6.6 MB\n"
     ]
    }
   ],
   "source": [
    "gifts['date']=pd.to_datetime(gifts['date'])\n",
    "\n",
    "gifts.info()"
   ]
  },
  {
   "cell_type": "markdown",
   "metadata": {},
   "source": [
    "#### Separate Gifts into two datasets (training and test) based on the date of the reactivation campaigns"
   ]
  },
  {
   "cell_type": "code",
   "execution_count": 19,
   "metadata": {},
   "outputs": [
    {
     "name": "stdout",
     "output_type": "stream",
     "text": [
      "<class 'pandas.core.frame.DataFrame'>\n",
      "RangeIndex: 208196 entries, 0 to 208195\n",
      "Data columns (total 5 columns):\n",
      "index      208196 non-null int64\n",
      "campID     208196 non-null int64\n",
      "donorID    208196 non-null int64\n",
      "amount     208196 non-null float64\n",
      "date       208196 non-null datetime64[ns]\n",
      "dtypes: datetime64[ns](1), float64(1), int64(3)\n",
      "memory usage: 7.9 MB\n"
     ]
    }
   ],
   "source": [
    "#Gifts subset to be used for training data \n",
    "giftsTraining = gifts.loc[gifts['date']<\"2013-04-11\",:].reset_index()\n",
    "\n",
    "giftsTraining.info()"
   ]
  },
  {
   "cell_type": "code",
   "execution_count": 20,
   "metadata": {},
   "outputs": [
    {
     "name": "stdout",
     "output_type": "stream",
     "text": [
      "<class 'pandas.core.frame.DataFrame'>\n",
      "RangeIndex: 212096 entries, 0 to 212095\n",
      "Data columns (total 5 columns):\n",
      "index      212096 non-null int64\n",
      "campID     212096 non-null int64\n",
      "donorID    212096 non-null int64\n",
      "amount     212096 non-null float64\n",
      "date       212096 non-null datetime64[ns]\n",
      "dtypes: datetime64[ns](1), float64(1), int64(3)\n",
      "memory usage: 8.1 MB\n"
     ]
    }
   ],
   "source": [
    "#Gifts subset to be used for testing data \n",
    "giftsTest = gifts.loc[gifts['date']<\"2014-01-15\",:].reset_index()\n",
    "\n",
    "giftsTest.info()"
   ]
  },
  {
   "cell_type": "markdown",
   "metadata": {},
   "source": [
    "## Calculate and add various variables to be used for modeling "
   ]
  },
  {
   "cell_type": "markdown",
   "metadata": {},
   "source": [
    "## Gifts table "
   ]
  },
  {
   "cell_type": "code",
   "execution_count": 21,
   "metadata": {},
   "outputs": [
    {
     "data": {
      "text/html": [
       "<div>\n",
       "<style scoped>\n",
       "    .dataframe tbody tr th:only-of-type {\n",
       "        vertical-align: middle;\n",
       "    }\n",
       "\n",
       "    .dataframe tbody tr th {\n",
       "        vertical-align: top;\n",
       "    }\n",
       "\n",
       "    .dataframe thead tr th {\n",
       "        text-align: left;\n",
       "    }\n",
       "</style>\n",
       "<table border=\"1\" class=\"dataframe\">\n",
       "  <thead>\n",
       "    <tr>\n",
       "      <th></th>\n",
       "      <th>donorID</th>\n",
       "      <th colspan=\"4\" halign=\"left\">amount</th>\n",
       "      <th colspan=\"2\" halign=\"left\">date</th>\n",
       "    </tr>\n",
       "    <tr>\n",
       "      <th></th>\n",
       "      <th></th>\n",
       "      <th>sum</th>\n",
       "      <th>mean</th>\n",
       "      <th>count</th>\n",
       "      <th>max</th>\n",
       "      <th>max</th>\n",
       "      <th>min</th>\n",
       "    </tr>\n",
       "  </thead>\n",
       "  <tbody>\n",
       "    <tr>\n",
       "      <td>0</td>\n",
       "      <td>100001</td>\n",
       "      <td>178.49</td>\n",
       "      <td>14.874167</td>\n",
       "      <td>12</td>\n",
       "      <td>30.00</td>\n",
       "      <td>2006-12-18</td>\n",
       "      <td>1998-10-23</td>\n",
       "    </tr>\n",
       "    <tr>\n",
       "      <td>1</td>\n",
       "      <td>100002</td>\n",
       "      <td>20.00</td>\n",
       "      <td>20.000000</td>\n",
       "      <td>1</td>\n",
       "      <td>20.00</td>\n",
       "      <td>2010-09-04</td>\n",
       "      <td>2010-09-04</td>\n",
       "    </tr>\n",
       "    <tr>\n",
       "      <td>2</td>\n",
       "      <td>100003</td>\n",
       "      <td>26.00</td>\n",
       "      <td>3.714286</td>\n",
       "      <td>7</td>\n",
       "      <td>5.00</td>\n",
       "      <td>2013-03-10</td>\n",
       "      <td>2011-02-08</td>\n",
       "    </tr>\n",
       "    <tr>\n",
       "      <td>3</td>\n",
       "      <td>100004</td>\n",
       "      <td>716.22</td>\n",
       "      <td>27.546923</td>\n",
       "      <td>26</td>\n",
       "      <td>49.58</td>\n",
       "      <td>2005-12-19</td>\n",
       "      <td>1995-05-18</td>\n",
       "    </tr>\n",
       "    <tr>\n",
       "      <td>4</td>\n",
       "      <td>100005</td>\n",
       "      <td>14.96</td>\n",
       "      <td>3.740000</td>\n",
       "      <td>4</td>\n",
       "      <td>5.00</td>\n",
       "      <td>2012-12-19</td>\n",
       "      <td>1997-11-14</td>\n",
       "    </tr>\n",
       "  </tbody>\n",
       "</table>\n",
       "</div>"
      ],
      "text/plain": [
       "  donorID  amount                               date           \n",
       "              sum       mean count    max        max        min\n",
       "0  100001  178.49  14.874167    12  30.00 2006-12-18 1998-10-23\n",
       "1  100002   20.00  20.000000     1  20.00 2010-09-04 2010-09-04\n",
       "2  100003   26.00   3.714286     7   5.00 2013-03-10 2011-02-08\n",
       "3  100004  716.22  27.546923    26  49.58 2005-12-19 1995-05-18\n",
       "4  100005   14.96   3.740000     4   5.00 2012-12-19 1997-11-14"
      ]
     },
     "execution_count": 21,
     "metadata": {},
     "output_type": "execute_result"
    }
   ],
   "source": [
    "#Gifts for training\n",
    "giftsTrainingV2 = giftsTraining.groupby('donorID').agg({'amount':['sum','mean','count', 'max'],'date':['max', 'min']}).reset_index()\n",
    "\n",
    "giftsTrainingV2.head() "
   ]
  },
  {
   "cell_type": "code",
   "execution_count": 22,
   "metadata": {},
   "outputs": [
    {
     "data": {
      "text/html": [
       "<div>\n",
       "<style scoped>\n",
       "    .dataframe tbody tr th:only-of-type {\n",
       "        vertical-align: middle;\n",
       "    }\n",
       "\n",
       "    .dataframe tbody tr th {\n",
       "        vertical-align: top;\n",
       "    }\n",
       "\n",
       "    .dataframe thead tr th {\n",
       "        text-align: left;\n",
       "    }\n",
       "</style>\n",
       "<table border=\"1\" class=\"dataframe\">\n",
       "  <thead>\n",
       "    <tr>\n",
       "      <th></th>\n",
       "      <th>donorID</th>\n",
       "      <th colspan=\"4\" halign=\"left\">amount</th>\n",
       "      <th colspan=\"2\" halign=\"left\">date</th>\n",
       "    </tr>\n",
       "    <tr>\n",
       "      <th></th>\n",
       "      <th></th>\n",
       "      <th>sum</th>\n",
       "      <th>mean</th>\n",
       "      <th>count</th>\n",
       "      <th>max</th>\n",
       "      <th>max</th>\n",
       "      <th>min</th>\n",
       "    </tr>\n",
       "  </thead>\n",
       "  <tbody>\n",
       "    <tr>\n",
       "      <td>0</td>\n",
       "      <td>100001</td>\n",
       "      <td>178.49</td>\n",
       "      <td>14.874167</td>\n",
       "      <td>12</td>\n",
       "      <td>30.00</td>\n",
       "      <td>2006-12-18</td>\n",
       "      <td>1998-10-23</td>\n",
       "    </tr>\n",
       "    <tr>\n",
       "      <td>1</td>\n",
       "      <td>100002</td>\n",
       "      <td>20.00</td>\n",
       "      <td>20.000000</td>\n",
       "      <td>1</td>\n",
       "      <td>20.00</td>\n",
       "      <td>2010-09-04</td>\n",
       "      <td>2010-09-04</td>\n",
       "    </tr>\n",
       "    <tr>\n",
       "      <td>2</td>\n",
       "      <td>100003</td>\n",
       "      <td>42.00</td>\n",
       "      <td>3.818182</td>\n",
       "      <td>11</td>\n",
       "      <td>5.00</td>\n",
       "      <td>2013-12-19</td>\n",
       "      <td>2011-02-08</td>\n",
       "    </tr>\n",
       "    <tr>\n",
       "      <td>3</td>\n",
       "      <td>100004</td>\n",
       "      <td>716.22</td>\n",
       "      <td>27.546923</td>\n",
       "      <td>26</td>\n",
       "      <td>49.58</td>\n",
       "      <td>2005-12-19</td>\n",
       "      <td>1995-05-18</td>\n",
       "    </tr>\n",
       "    <tr>\n",
       "      <td>4</td>\n",
       "      <td>100005</td>\n",
       "      <td>24.96</td>\n",
       "      <td>4.992000</td>\n",
       "      <td>5</td>\n",
       "      <td>10.00</td>\n",
       "      <td>2013-10-24</td>\n",
       "      <td>1997-11-14</td>\n",
       "    </tr>\n",
       "  </tbody>\n",
       "</table>\n",
       "</div>"
      ],
      "text/plain": [
       "  donorID  amount                               date           \n",
       "              sum       mean count    max        max        min\n",
       "0  100001  178.49  14.874167    12  30.00 2006-12-18 1998-10-23\n",
       "1  100002   20.00  20.000000     1  20.00 2010-09-04 2010-09-04\n",
       "2  100003   42.00   3.818182    11   5.00 2013-12-19 2011-02-08\n",
       "3  100004  716.22  27.546923    26  49.58 2005-12-19 1995-05-18\n",
       "4  100005   24.96   4.992000     5  10.00 2013-10-24 1997-11-14"
      ]
     },
     "execution_count": 22,
     "metadata": {},
     "output_type": "execute_result"
    }
   ],
   "source": [
    "#Gifts for training\n",
    "giftsTestV2 = giftsTest.groupby('donorID').agg({'amount':['sum','mean','count', 'max'],'date':['max', 'min']}).reset_index()\n",
    "\n",
    "giftsTestV2.head() "
   ]
  },
  {
   "cell_type": "code",
   "execution_count": 23,
   "metadata": {},
   "outputs": [
    {
     "data": {
      "text/plain": [
       "MultiIndex([('donorID',      ''),\n",
       "            ( 'amount',   'sum'),\n",
       "            ( 'amount',  'mean'),\n",
       "            ( 'amount', 'count'),\n",
       "            ( 'amount',   'max'),\n",
       "            (   'date',   'max'),\n",
       "            (   'date',   'min')],\n",
       "           )"
      ]
     },
     "execution_count": 23,
     "metadata": {},
     "output_type": "execute_result"
    }
   ],
   "source": [
    "#the resultant dataframe has multi-level index\n",
    "\n",
    "giftsTrainingV2.columns "
   ]
  },
  {
   "cell_type": "code",
   "execution_count": 24,
   "metadata": {},
   "outputs": [],
   "source": [
    "#Remove the multi-level indexing of both gifts tables\n",
    "\n",
    "giftsTrainingV2.columns.droplevel()\n",
    "giftsTrainingV2.columns = [\"donorID\", \"total_donated\", \"average_donated\", \"times_donated\", \"max_donated\", \"last_donation\", \"first_donation\"]\n",
    "\n",
    "giftsTestV2.columns.droplevel()\n",
    "giftsTestV2.columns = [\"donorID\", \"total_donated\", \"average_donated\", \"times_donated\", \"max_donated\", \"last_donation\", \"first_donation\"]"
   ]
  },
  {
   "cell_type": "code",
   "execution_count": 25,
   "metadata": {},
   "outputs": [
    {
     "data": {
      "text/html": [
       "<div>\n",
       "<style scoped>\n",
       "    .dataframe tbody tr th:only-of-type {\n",
       "        vertical-align: middle;\n",
       "    }\n",
       "\n",
       "    .dataframe tbody tr th {\n",
       "        vertical-align: top;\n",
       "    }\n",
       "\n",
       "    .dataframe thead th {\n",
       "        text-align: right;\n",
       "    }\n",
       "</style>\n",
       "<table border=\"1\" class=\"dataframe\">\n",
       "  <thead>\n",
       "    <tr style=\"text-align: right;\">\n",
       "      <th></th>\n",
       "      <th>donorID</th>\n",
       "      <th>total_donated</th>\n",
       "      <th>average_donated</th>\n",
       "      <th>times_donated</th>\n",
       "      <th>max_donated</th>\n",
       "      <th>last_donation</th>\n",
       "      <th>first_donation</th>\n",
       "    </tr>\n",
       "  </thead>\n",
       "  <tbody>\n",
       "    <tr>\n",
       "      <td>0</td>\n",
       "      <td>100001</td>\n",
       "      <td>178.49</td>\n",
       "      <td>14.874167</td>\n",
       "      <td>12</td>\n",
       "      <td>30.00</td>\n",
       "      <td>2006-12-18</td>\n",
       "      <td>1998-10-23</td>\n",
       "    </tr>\n",
       "    <tr>\n",
       "      <td>1</td>\n",
       "      <td>100002</td>\n",
       "      <td>20.00</td>\n",
       "      <td>20.000000</td>\n",
       "      <td>1</td>\n",
       "      <td>20.00</td>\n",
       "      <td>2010-09-04</td>\n",
       "      <td>2010-09-04</td>\n",
       "    </tr>\n",
       "    <tr>\n",
       "      <td>2</td>\n",
       "      <td>100003</td>\n",
       "      <td>26.00</td>\n",
       "      <td>3.714286</td>\n",
       "      <td>7</td>\n",
       "      <td>5.00</td>\n",
       "      <td>2013-03-10</td>\n",
       "      <td>2011-02-08</td>\n",
       "    </tr>\n",
       "    <tr>\n",
       "      <td>3</td>\n",
       "      <td>100004</td>\n",
       "      <td>716.22</td>\n",
       "      <td>27.546923</td>\n",
       "      <td>26</td>\n",
       "      <td>49.58</td>\n",
       "      <td>2005-12-19</td>\n",
       "      <td>1995-05-18</td>\n",
       "    </tr>\n",
       "    <tr>\n",
       "      <td>4</td>\n",
       "      <td>100005</td>\n",
       "      <td>14.96</td>\n",
       "      <td>3.740000</td>\n",
       "      <td>4</td>\n",
       "      <td>5.00</td>\n",
       "      <td>2012-12-19</td>\n",
       "      <td>1997-11-14</td>\n",
       "    </tr>\n",
       "  </tbody>\n",
       "</table>\n",
       "</div>"
      ],
      "text/plain": [
       "   donorID  total_donated  average_donated  times_donated  max_donated  \\\n",
       "0   100001         178.49        14.874167             12        30.00   \n",
       "1   100002          20.00        20.000000              1        20.00   \n",
       "2   100003          26.00         3.714286              7         5.00   \n",
       "3   100004         716.22        27.546923             26        49.58   \n",
       "4   100005          14.96         3.740000              4         5.00   \n",
       "\n",
       "  last_donation first_donation  \n",
       "0    2006-12-18     1998-10-23  \n",
       "1    2010-09-04     2010-09-04  \n",
       "2    2013-03-10     2011-02-08  \n",
       "3    2005-12-19     1995-05-18  \n",
       "4    2012-12-19     1997-11-14  "
      ]
     },
     "execution_count": 25,
     "metadata": {},
     "output_type": "execute_result"
    }
   ],
   "source": [
    "giftsTrainingV2.head()"
   ]
  },
  {
   "cell_type": "code",
   "execution_count": 26,
   "metadata": {},
   "outputs": [],
   "source": [
    "#We only want to target donors that didn't donate 'recently'\n",
    "#We consider that people that did not donate in the last year didn't donate recently.\n",
    "DonorRecently=giftsTrainingV2[giftsTrainingV2.last_donation>'2012-04-10']['donorID']"
   ]
  },
  {
   "cell_type": "code",
   "execution_count": 27,
   "metadata": {},
   "outputs": [],
   "source": [
    "#We are putting aside the IDs of the donors that donated recently on the gifts file.\n",
    "giftsTrainingV2 = giftsTrainingV2[giftsTrainingV2.donorID.isin(DonorRecently)==False]\n",
    "giftsTestV2 = giftsTestV2[giftsTestV2.donorID.isin(DonorRecently)==False]"
   ]
  },
  {
   "cell_type": "code",
   "execution_count": 28,
   "metadata": {},
   "outputs": [
    {
     "data": {
      "text/html": [
       "<div>\n",
       "<style scoped>\n",
       "    .dataframe tbody tr th:only-of-type {\n",
       "        vertical-align: middle;\n",
       "    }\n",
       "\n",
       "    .dataframe tbody tr th {\n",
       "        vertical-align: top;\n",
       "    }\n",
       "\n",
       "    .dataframe thead th {\n",
       "        text-align: right;\n",
       "    }\n",
       "</style>\n",
       "<table border=\"1\" class=\"dataframe\">\n",
       "  <thead>\n",
       "    <tr style=\"text-align: right;\">\n",
       "      <th></th>\n",
       "      <th>donorID</th>\n",
       "      <th>total_donated</th>\n",
       "      <th>average_donated</th>\n",
       "      <th>times_donated</th>\n",
       "      <th>max_donated</th>\n",
       "      <th>last_donation</th>\n",
       "      <th>first_donation</th>\n",
       "    </tr>\n",
       "  </thead>\n",
       "  <tbody>\n",
       "    <tr>\n",
       "      <td>0</td>\n",
       "      <td>100001</td>\n",
       "      <td>178.49</td>\n",
       "      <td>14.874167</td>\n",
       "      <td>12</td>\n",
       "      <td>30.00</td>\n",
       "      <td>2006-12-18</td>\n",
       "      <td>1998-10-23</td>\n",
       "    </tr>\n",
       "    <tr>\n",
       "      <td>1</td>\n",
       "      <td>100002</td>\n",
       "      <td>20.00</td>\n",
       "      <td>20.000000</td>\n",
       "      <td>1</td>\n",
       "      <td>20.00</td>\n",
       "      <td>2010-09-04</td>\n",
       "      <td>2010-09-04</td>\n",
       "    </tr>\n",
       "    <tr>\n",
       "      <td>3</td>\n",
       "      <td>100004</td>\n",
       "      <td>716.22</td>\n",
       "      <td>27.546923</td>\n",
       "      <td>26</td>\n",
       "      <td>49.58</td>\n",
       "      <td>2005-12-19</td>\n",
       "      <td>1995-05-18</td>\n",
       "    </tr>\n",
       "    <tr>\n",
       "      <td>5</td>\n",
       "      <td>100006</td>\n",
       "      <td>5.00</td>\n",
       "      <td>5.000000</td>\n",
       "      <td>1</td>\n",
       "      <td>5.00</td>\n",
       "      <td>2011-02-09</td>\n",
       "      <td>2011-02-09</td>\n",
       "    </tr>\n",
       "    <tr>\n",
       "      <td>7</td>\n",
       "      <td>100008</td>\n",
       "      <td>124.37</td>\n",
       "      <td>41.456667</td>\n",
       "      <td>3</td>\n",
       "      <td>50.00</td>\n",
       "      <td>2006-07-27</td>\n",
       "      <td>1998-10-27</td>\n",
       "    </tr>\n",
       "  </tbody>\n",
       "</table>\n",
       "</div>"
      ],
      "text/plain": [
       "   donorID  total_donated  average_donated  times_donated  max_donated  \\\n",
       "0   100001         178.49        14.874167             12        30.00   \n",
       "1   100002          20.00        20.000000              1        20.00   \n",
       "3   100004         716.22        27.546923             26        49.58   \n",
       "5   100006           5.00         5.000000              1         5.00   \n",
       "7   100008         124.37        41.456667              3        50.00   \n",
       "\n",
       "  last_donation first_donation  \n",
       "0    2006-12-18     1998-10-23  \n",
       "1    2010-09-04     2010-09-04  \n",
       "3    2005-12-19     1995-05-18  \n",
       "5    2011-02-09     2011-02-09  \n",
       "7    2006-07-27     1998-10-27  "
      ]
     },
     "execution_count": 28,
     "metadata": {},
     "output_type": "execute_result"
    }
   ],
   "source": [
    "giftsTestV2.head()"
   ]
  },
  {
   "cell_type": "code",
   "execution_count": 29,
   "metadata": {},
   "outputs": [],
   "source": [
    "#Create the average number of days in between each donation\n",
    "\n",
    "giftsTrainingV2['avg_days_gap'] = ((giftsTrainingV2['last_donation']-giftsTrainingV2['first_donation'])/giftsTrainingV2['times_donated']).astype('timedelta64[D]').astype(int)\n",
    "\n",
    "giftsTestV2['avg_days_gap'] = ((giftsTestV2['last_donation']-giftsTestV2['first_donation'])/giftsTestV2['times_donated']).astype('timedelta64[D]').astype(int)"
   ]
  },
  {
   "cell_type": "code",
   "execution_count": 30,
   "metadata": {},
   "outputs": [],
   "source": [
    "#Create the average number of days since last donation\n",
    "\n",
    "giftsTrainingV2['days_since_first']=(datetime(2013,4,11)-giftsTrainingV2['first_donation']).astype('timedelta64[D]')\n",
    "giftsTestV2['days_since_first']=(datetime(2014,1,15)-giftsTestV2['first_donation']).astype('timedelta64[D]')\n",
    "\n",
    "giftsTrainingV2['days_since_last']=(datetime(2013,4,11)-giftsTrainingV2['last_donation']).astype('timedelta64[D]')\n",
    "giftsTestV2['days_since_last']=(datetime(2014,1,15)-giftsTestV2['last_donation']).astype('timedelta64[D]')"
   ]
  },
  {
   "cell_type": "code",
   "execution_count": 31,
   "metadata": {},
   "outputs": [
    {
     "data": {
      "text/html": [
       "<div>\n",
       "<style scoped>\n",
       "    .dataframe tbody tr th:only-of-type {\n",
       "        vertical-align: middle;\n",
       "    }\n",
       "\n",
       "    .dataframe tbody tr th {\n",
       "        vertical-align: top;\n",
       "    }\n",
       "\n",
       "    .dataframe thead th {\n",
       "        text-align: right;\n",
       "    }\n",
       "</style>\n",
       "<table border=\"1\" class=\"dataframe\">\n",
       "  <thead>\n",
       "    <tr style=\"text-align: right;\">\n",
       "      <th></th>\n",
       "      <th>donorID</th>\n",
       "      <th>total_donated</th>\n",
       "      <th>average_donated</th>\n",
       "      <th>times_donated</th>\n",
       "      <th>max_donated</th>\n",
       "      <th>last_donation</th>\n",
       "      <th>first_donation</th>\n",
       "      <th>avg_days_gap</th>\n",
       "      <th>days_since_first</th>\n",
       "      <th>days_since_last</th>\n",
       "    </tr>\n",
       "  </thead>\n",
       "  <tbody>\n",
       "    <tr>\n",
       "      <td>0</td>\n",
       "      <td>100001</td>\n",
       "      <td>178.49</td>\n",
       "      <td>14.874167</td>\n",
       "      <td>12</td>\n",
       "      <td>30.00</td>\n",
       "      <td>2006-12-18</td>\n",
       "      <td>1998-10-23</td>\n",
       "      <td>248</td>\n",
       "      <td>5284.0</td>\n",
       "      <td>2306.0</td>\n",
       "    </tr>\n",
       "    <tr>\n",
       "      <td>1</td>\n",
       "      <td>100002</td>\n",
       "      <td>20.00</td>\n",
       "      <td>20.000000</td>\n",
       "      <td>1</td>\n",
       "      <td>20.00</td>\n",
       "      <td>2010-09-04</td>\n",
       "      <td>2010-09-04</td>\n",
       "      <td>0</td>\n",
       "      <td>950.0</td>\n",
       "      <td>950.0</td>\n",
       "    </tr>\n",
       "    <tr>\n",
       "      <td>3</td>\n",
       "      <td>100004</td>\n",
       "      <td>716.22</td>\n",
       "      <td>27.546923</td>\n",
       "      <td>26</td>\n",
       "      <td>49.58</td>\n",
       "      <td>2005-12-19</td>\n",
       "      <td>1995-05-18</td>\n",
       "      <td>148</td>\n",
       "      <td>6538.0</td>\n",
       "      <td>2670.0</td>\n",
       "    </tr>\n",
       "    <tr>\n",
       "      <td>5</td>\n",
       "      <td>100006</td>\n",
       "      <td>5.00</td>\n",
       "      <td>5.000000</td>\n",
       "      <td>1</td>\n",
       "      <td>5.00</td>\n",
       "      <td>2011-02-09</td>\n",
       "      <td>2011-02-09</td>\n",
       "      <td>0</td>\n",
       "      <td>792.0</td>\n",
       "      <td>792.0</td>\n",
       "    </tr>\n",
       "    <tr>\n",
       "      <td>7</td>\n",
       "      <td>100008</td>\n",
       "      <td>124.37</td>\n",
       "      <td>41.456667</td>\n",
       "      <td>3</td>\n",
       "      <td>50.00</td>\n",
       "      <td>2006-07-27</td>\n",
       "      <td>1998-10-27</td>\n",
       "      <td>943</td>\n",
       "      <td>5280.0</td>\n",
       "      <td>2450.0</td>\n",
       "    </tr>\n",
       "  </tbody>\n",
       "</table>\n",
       "</div>"
      ],
      "text/plain": [
       "   donorID  total_donated  average_donated  times_donated  max_donated  \\\n",
       "0   100001         178.49        14.874167             12        30.00   \n",
       "1   100002          20.00        20.000000              1        20.00   \n",
       "3   100004         716.22        27.546923             26        49.58   \n",
       "5   100006           5.00         5.000000              1         5.00   \n",
       "7   100008         124.37        41.456667              3        50.00   \n",
       "\n",
       "  last_donation first_donation  avg_days_gap  days_since_first  \\\n",
       "0    2006-12-18     1998-10-23           248            5284.0   \n",
       "1    2010-09-04     2010-09-04             0             950.0   \n",
       "3    2005-12-19     1995-05-18           148            6538.0   \n",
       "5    2011-02-09     2011-02-09             0             792.0   \n",
       "7    2006-07-27     1998-10-27           943            5280.0   \n",
       "\n",
       "   days_since_last  \n",
       "0           2306.0  \n",
       "1            950.0  \n",
       "3           2670.0  \n",
       "5            792.0  \n",
       "7           2450.0  "
      ]
     },
     "execution_count": 31,
     "metadata": {},
     "output_type": "execute_result"
    }
   ],
   "source": [
    "giftsTrainingV2.head()"
   ]
  },
  {
   "cell_type": "code",
   "execution_count": 32,
   "metadata": {},
   "outputs": [
    {
     "data": {
      "text/html": [
       "<div>\n",
       "<style scoped>\n",
       "    .dataframe tbody tr th:only-of-type {\n",
       "        vertical-align: middle;\n",
       "    }\n",
       "\n",
       "    .dataframe tbody tr th {\n",
       "        vertical-align: top;\n",
       "    }\n",
       "\n",
       "    .dataframe thead th {\n",
       "        text-align: right;\n",
       "    }\n",
       "</style>\n",
       "<table border=\"1\" class=\"dataframe\">\n",
       "  <thead>\n",
       "    <tr style=\"text-align: right;\">\n",
       "      <th></th>\n",
       "      <th>donorID</th>\n",
       "      <th>total_donated</th>\n",
       "      <th>average_donated</th>\n",
       "      <th>times_donated</th>\n",
       "      <th>max_donated</th>\n",
       "      <th>last_donation</th>\n",
       "      <th>first_donation</th>\n",
       "      <th>avg_days_gap</th>\n",
       "      <th>days_since_first</th>\n",
       "      <th>days_since_last</th>\n",
       "    </tr>\n",
       "  </thead>\n",
       "  <tbody>\n",
       "    <tr>\n",
       "      <td>0</td>\n",
       "      <td>100001</td>\n",
       "      <td>178.49</td>\n",
       "      <td>14.874167</td>\n",
       "      <td>12</td>\n",
       "      <td>30.00</td>\n",
       "      <td>2006-12-18</td>\n",
       "      <td>1998-10-23</td>\n",
       "      <td>248</td>\n",
       "      <td>5563.0</td>\n",
       "      <td>2585.0</td>\n",
       "    </tr>\n",
       "    <tr>\n",
       "      <td>1</td>\n",
       "      <td>100002</td>\n",
       "      <td>20.00</td>\n",
       "      <td>20.000000</td>\n",
       "      <td>1</td>\n",
       "      <td>20.00</td>\n",
       "      <td>2010-09-04</td>\n",
       "      <td>2010-09-04</td>\n",
       "      <td>0</td>\n",
       "      <td>1229.0</td>\n",
       "      <td>1229.0</td>\n",
       "    </tr>\n",
       "    <tr>\n",
       "      <td>3</td>\n",
       "      <td>100004</td>\n",
       "      <td>716.22</td>\n",
       "      <td>27.546923</td>\n",
       "      <td>26</td>\n",
       "      <td>49.58</td>\n",
       "      <td>2005-12-19</td>\n",
       "      <td>1995-05-18</td>\n",
       "      <td>148</td>\n",
       "      <td>6817.0</td>\n",
       "      <td>2949.0</td>\n",
       "    </tr>\n",
       "    <tr>\n",
       "      <td>5</td>\n",
       "      <td>100006</td>\n",
       "      <td>5.00</td>\n",
       "      <td>5.000000</td>\n",
       "      <td>1</td>\n",
       "      <td>5.00</td>\n",
       "      <td>2011-02-09</td>\n",
       "      <td>2011-02-09</td>\n",
       "      <td>0</td>\n",
       "      <td>1071.0</td>\n",
       "      <td>1071.0</td>\n",
       "    </tr>\n",
       "    <tr>\n",
       "      <td>7</td>\n",
       "      <td>100008</td>\n",
       "      <td>124.37</td>\n",
       "      <td>41.456667</td>\n",
       "      <td>3</td>\n",
       "      <td>50.00</td>\n",
       "      <td>2006-07-27</td>\n",
       "      <td>1998-10-27</td>\n",
       "      <td>943</td>\n",
       "      <td>5559.0</td>\n",
       "      <td>2729.0</td>\n",
       "    </tr>\n",
       "  </tbody>\n",
       "</table>\n",
       "</div>"
      ],
      "text/plain": [
       "   donorID  total_donated  average_donated  times_donated  max_donated  \\\n",
       "0   100001         178.49        14.874167             12        30.00   \n",
       "1   100002          20.00        20.000000              1        20.00   \n",
       "3   100004         716.22        27.546923             26        49.58   \n",
       "5   100006           5.00         5.000000              1         5.00   \n",
       "7   100008         124.37        41.456667              3        50.00   \n",
       "\n",
       "  last_donation first_donation  avg_days_gap  days_since_first  \\\n",
       "0    2006-12-18     1998-10-23           248            5563.0   \n",
       "1    2010-09-04     2010-09-04             0            1229.0   \n",
       "3    2005-12-19     1995-05-18           148            6817.0   \n",
       "5    2011-02-09     2011-02-09             0            1071.0   \n",
       "7    2006-07-27     1998-10-27           943            5559.0   \n",
       "\n",
       "   days_since_last  \n",
       "0           2585.0  \n",
       "1           1229.0  \n",
       "3           2949.0  \n",
       "5           1071.0  \n",
       "7           2729.0  "
      ]
     },
     "execution_count": 32,
     "metadata": {},
     "output_type": "execute_result"
    }
   ],
   "source": [
    "giftsTestV2.head()"
   ]
  },
  {
   "cell_type": "code",
   "execution_count": 33,
   "metadata": {},
   "outputs": [],
   "source": [
    "#drop the columns with dates as they are not needed anymore\n",
    "\n",
    "giftsTrainingV3 = giftsTrainingV2.drop(columns=[\"last_donation\", \"first_donation\"])"
   ]
  },
  {
   "cell_type": "code",
   "execution_count": 34,
   "metadata": {},
   "outputs": [
    {
     "data": {
      "text/html": [
       "<div>\n",
       "<style scoped>\n",
       "    .dataframe tbody tr th:only-of-type {\n",
       "        vertical-align: middle;\n",
       "    }\n",
       "\n",
       "    .dataframe tbody tr th {\n",
       "        vertical-align: top;\n",
       "    }\n",
       "\n",
       "    .dataframe thead th {\n",
       "        text-align: right;\n",
       "    }\n",
       "</style>\n",
       "<table border=\"1\" class=\"dataframe\">\n",
       "  <thead>\n",
       "    <tr style=\"text-align: right;\">\n",
       "      <th></th>\n",
       "      <th>donorID</th>\n",
       "      <th>total_donated</th>\n",
       "      <th>average_donated</th>\n",
       "      <th>times_donated</th>\n",
       "      <th>max_donated</th>\n",
       "      <th>avg_days_gap</th>\n",
       "      <th>days_since_first</th>\n",
       "      <th>days_since_last</th>\n",
       "    </tr>\n",
       "  </thead>\n",
       "  <tbody>\n",
       "    <tr>\n",
       "      <td>0</td>\n",
       "      <td>100001</td>\n",
       "      <td>178.49</td>\n",
       "      <td>14.874167</td>\n",
       "      <td>12</td>\n",
       "      <td>30.00</td>\n",
       "      <td>248</td>\n",
       "      <td>5284.0</td>\n",
       "      <td>2306.0</td>\n",
       "    </tr>\n",
       "    <tr>\n",
       "      <td>1</td>\n",
       "      <td>100002</td>\n",
       "      <td>20.00</td>\n",
       "      <td>20.000000</td>\n",
       "      <td>1</td>\n",
       "      <td>20.00</td>\n",
       "      <td>0</td>\n",
       "      <td>950.0</td>\n",
       "      <td>950.0</td>\n",
       "    </tr>\n",
       "    <tr>\n",
       "      <td>3</td>\n",
       "      <td>100004</td>\n",
       "      <td>716.22</td>\n",
       "      <td>27.546923</td>\n",
       "      <td>26</td>\n",
       "      <td>49.58</td>\n",
       "      <td>148</td>\n",
       "      <td>6538.0</td>\n",
       "      <td>2670.0</td>\n",
       "    </tr>\n",
       "    <tr>\n",
       "      <td>5</td>\n",
       "      <td>100006</td>\n",
       "      <td>5.00</td>\n",
       "      <td>5.000000</td>\n",
       "      <td>1</td>\n",
       "      <td>5.00</td>\n",
       "      <td>0</td>\n",
       "      <td>792.0</td>\n",
       "      <td>792.0</td>\n",
       "    </tr>\n",
       "    <tr>\n",
       "      <td>7</td>\n",
       "      <td>100008</td>\n",
       "      <td>124.37</td>\n",
       "      <td>41.456667</td>\n",
       "      <td>3</td>\n",
       "      <td>50.00</td>\n",
       "      <td>943</td>\n",
       "      <td>5280.0</td>\n",
       "      <td>2450.0</td>\n",
       "    </tr>\n",
       "  </tbody>\n",
       "</table>\n",
       "</div>"
      ],
      "text/plain": [
       "   donorID  total_donated  average_donated  times_donated  max_donated  \\\n",
       "0   100001         178.49        14.874167             12        30.00   \n",
       "1   100002          20.00        20.000000              1        20.00   \n",
       "3   100004         716.22        27.546923             26        49.58   \n",
       "5   100006           5.00         5.000000              1         5.00   \n",
       "7   100008         124.37        41.456667              3        50.00   \n",
       "\n",
       "   avg_days_gap  days_since_first  days_since_last  \n",
       "0           248            5284.0           2306.0  \n",
       "1             0             950.0            950.0  \n",
       "3           148            6538.0           2670.0  \n",
       "5             0             792.0            792.0  \n",
       "7           943            5280.0           2450.0  "
      ]
     },
     "execution_count": 34,
     "metadata": {},
     "output_type": "execute_result"
    }
   ],
   "source": [
    "giftsTrainingV3.head()"
   ]
  },
  {
   "cell_type": "code",
   "execution_count": 35,
   "metadata": {},
   "outputs": [],
   "source": [
    "#drop the columns with dates as they are not needed anymore\n",
    "\n",
    "giftsTestV3 = giftsTestV2.drop(columns=[\"last_donation\", \"first_donation\"])"
   ]
  },
  {
   "cell_type": "code",
   "execution_count": 36,
   "metadata": {},
   "outputs": [
    {
     "data": {
      "text/html": [
       "<div>\n",
       "<style scoped>\n",
       "    .dataframe tbody tr th:only-of-type {\n",
       "        vertical-align: middle;\n",
       "    }\n",
       "\n",
       "    .dataframe tbody tr th {\n",
       "        vertical-align: top;\n",
       "    }\n",
       "\n",
       "    .dataframe thead th {\n",
       "        text-align: right;\n",
       "    }\n",
       "</style>\n",
       "<table border=\"1\" class=\"dataframe\">\n",
       "  <thead>\n",
       "    <tr style=\"text-align: right;\">\n",
       "      <th></th>\n",
       "      <th>donorID</th>\n",
       "      <th>total_donated</th>\n",
       "      <th>average_donated</th>\n",
       "      <th>times_donated</th>\n",
       "      <th>max_donated</th>\n",
       "      <th>avg_days_gap</th>\n",
       "      <th>days_since_first</th>\n",
       "      <th>days_since_last</th>\n",
       "    </tr>\n",
       "  </thead>\n",
       "  <tbody>\n",
       "    <tr>\n",
       "      <td>0</td>\n",
       "      <td>100001</td>\n",
       "      <td>178.49</td>\n",
       "      <td>14.874167</td>\n",
       "      <td>12</td>\n",
       "      <td>30.00</td>\n",
       "      <td>248</td>\n",
       "      <td>5563.0</td>\n",
       "      <td>2585.0</td>\n",
       "    </tr>\n",
       "    <tr>\n",
       "      <td>1</td>\n",
       "      <td>100002</td>\n",
       "      <td>20.00</td>\n",
       "      <td>20.000000</td>\n",
       "      <td>1</td>\n",
       "      <td>20.00</td>\n",
       "      <td>0</td>\n",
       "      <td>1229.0</td>\n",
       "      <td>1229.0</td>\n",
       "    </tr>\n",
       "    <tr>\n",
       "      <td>3</td>\n",
       "      <td>100004</td>\n",
       "      <td>716.22</td>\n",
       "      <td>27.546923</td>\n",
       "      <td>26</td>\n",
       "      <td>49.58</td>\n",
       "      <td>148</td>\n",
       "      <td>6817.0</td>\n",
       "      <td>2949.0</td>\n",
       "    </tr>\n",
       "    <tr>\n",
       "      <td>5</td>\n",
       "      <td>100006</td>\n",
       "      <td>5.00</td>\n",
       "      <td>5.000000</td>\n",
       "      <td>1</td>\n",
       "      <td>5.00</td>\n",
       "      <td>0</td>\n",
       "      <td>1071.0</td>\n",
       "      <td>1071.0</td>\n",
       "    </tr>\n",
       "    <tr>\n",
       "      <td>7</td>\n",
       "      <td>100008</td>\n",
       "      <td>124.37</td>\n",
       "      <td>41.456667</td>\n",
       "      <td>3</td>\n",
       "      <td>50.00</td>\n",
       "      <td>943</td>\n",
       "      <td>5559.0</td>\n",
       "      <td>2729.0</td>\n",
       "    </tr>\n",
       "  </tbody>\n",
       "</table>\n",
       "</div>"
      ],
      "text/plain": [
       "   donorID  total_donated  average_donated  times_donated  max_donated  \\\n",
       "0   100001         178.49        14.874167             12        30.00   \n",
       "1   100002          20.00        20.000000              1        20.00   \n",
       "3   100004         716.22        27.546923             26        49.58   \n",
       "5   100006           5.00         5.000000              1         5.00   \n",
       "7   100008         124.37        41.456667              3        50.00   \n",
       "\n",
       "   avg_days_gap  days_since_first  days_since_last  \n",
       "0           248            5563.0           2585.0  \n",
       "1             0            1229.0           1229.0  \n",
       "3           148            6817.0           2949.0  \n",
       "5             0            1071.0           1071.0  \n",
       "7           943            5559.0           2729.0  "
      ]
     },
     "execution_count": 36,
     "metadata": {},
     "output_type": "execute_result"
    }
   ],
   "source": [
    "giftsTestV3.head()"
   ]
  },
  {
   "cell_type": "markdown",
   "metadata": {},
   "source": [
    "## Donors Table"
   ]
  },
  {
   "cell_type": "code",
   "execution_count": 37,
   "metadata": {},
   "outputs": [
    {
     "data": {
      "text/html": [
       "<div>\n",
       "<style scoped>\n",
       "    .dataframe tbody tr th:only-of-type {\n",
       "        vertical-align: middle;\n",
       "    }\n",
       "\n",
       "    .dataframe tbody tr th {\n",
       "        vertical-align: top;\n",
       "    }\n",
       "\n",
       "    .dataframe thead th {\n",
       "        text-align: right;\n",
       "    }\n",
       "</style>\n",
       "<table border=\"1\" class=\"dataframe\">\n",
       "  <thead>\n",
       "    <tr style=\"text-align: right;\">\n",
       "      <th></th>\n",
       "      <th>donorID</th>\n",
       "      <th>gender</th>\n",
       "      <th>language</th>\n",
       "      <th>zipcode</th>\n",
       "      <th>region</th>\n",
       "    </tr>\n",
       "  </thead>\n",
       "  <tbody>\n",
       "    <tr>\n",
       "      <td>0</td>\n",
       "      <td>100001</td>\n",
       "      <td>M</td>\n",
       "      <td>N</td>\n",
       "      <td>1861</td>\n",
       "      <td>Missing</td>\n",
       "    </tr>\n",
       "    <tr>\n",
       "      <td>1</td>\n",
       "      <td>100002</td>\n",
       "      <td>M</td>\n",
       "      <td>F</td>\n",
       "      <td>2260</td>\n",
       "      <td>13049A090</td>\n",
       "    </tr>\n",
       "    <tr>\n",
       "      <td>2</td>\n",
       "      <td>100003</td>\n",
       "      <td>M</td>\n",
       "      <td>F</td>\n",
       "      <td>1780</td>\n",
       "      <td>21004A24-</td>\n",
       "    </tr>\n",
       "    <tr>\n",
       "      <td>3</td>\n",
       "      <td>100004</td>\n",
       "      <td>M</td>\n",
       "      <td>N</td>\n",
       "      <td>1020</td>\n",
       "      <td>Missing</td>\n",
       "    </tr>\n",
       "    <tr>\n",
       "      <td>4</td>\n",
       "      <td>100005</td>\n",
       "      <td>F</td>\n",
       "      <td>F</td>\n",
       "      <td>1020</td>\n",
       "      <td>21004F522</td>\n",
       "    </tr>\n",
       "  </tbody>\n",
       "</table>\n",
       "</div>"
      ],
      "text/plain": [
       "   donorID gender language zipcode     region\n",
       "0   100001      M        N    1861    Missing\n",
       "1   100002      M        F    2260  13049A090\n",
       "2   100003      M        F    1780  21004A24-\n",
       "3   100004      M        N    1020    Missing\n",
       "4   100005      F        F    1020  21004F522"
      ]
     },
     "execution_count": 37,
     "metadata": {},
     "output_type": "execute_result"
    }
   ],
   "source": [
    "donors.head()"
   ]
  },
  {
   "cell_type": "code",
   "execution_count": 38,
   "metadata": {},
   "outputs": [
    {
     "data": {
      "text/html": [
       "<div>\n",
       "<style scoped>\n",
       "    .dataframe tbody tr th:only-of-type {\n",
       "        vertical-align: middle;\n",
       "    }\n",
       "\n",
       "    .dataframe tbody tr th {\n",
       "        vertical-align: top;\n",
       "    }\n",
       "\n",
       "    .dataframe thead th {\n",
       "        text-align: right;\n",
       "    }\n",
       "</style>\n",
       "<table border=\"1\" class=\"dataframe\">\n",
       "  <thead>\n",
       "    <tr style=\"text-align: right;\">\n",
       "      <th></th>\n",
       "      <th>donorID</th>\n",
       "      <th>gender</th>\n",
       "      <th>language</th>\n",
       "      <th>zipcode</th>\n",
       "    </tr>\n",
       "  </thead>\n",
       "  <tbody>\n",
       "    <tr>\n",
       "      <td>0</td>\n",
       "      <td>100001</td>\n",
       "      <td>M</td>\n",
       "      <td>N</td>\n",
       "      <td>1861</td>\n",
       "    </tr>\n",
       "    <tr>\n",
       "      <td>1</td>\n",
       "      <td>100002</td>\n",
       "      <td>M</td>\n",
       "      <td>F</td>\n",
       "      <td>2260</td>\n",
       "    </tr>\n",
       "    <tr>\n",
       "      <td>2</td>\n",
       "      <td>100003</td>\n",
       "      <td>M</td>\n",
       "      <td>F</td>\n",
       "      <td>1780</td>\n",
       "    </tr>\n",
       "    <tr>\n",
       "      <td>3</td>\n",
       "      <td>100004</td>\n",
       "      <td>M</td>\n",
       "      <td>N</td>\n",
       "      <td>1020</td>\n",
       "    </tr>\n",
       "    <tr>\n",
       "      <td>4</td>\n",
       "      <td>100005</td>\n",
       "      <td>F</td>\n",
       "      <td>F</td>\n",
       "      <td>1020</td>\n",
       "    </tr>\n",
       "  </tbody>\n",
       "</table>\n",
       "</div>"
      ],
      "text/plain": [
       "   donorID gender language zipcode\n",
       "0   100001      M        N    1861\n",
       "1   100002      M        F    2260\n",
       "2   100003      M        F    1780\n",
       "3   100004      M        N    1020\n",
       "4   100005      F        F    1020"
      ]
     },
     "execution_count": 38,
     "metadata": {},
     "output_type": "execute_result"
    }
   ],
   "source": [
    "#delete region because have too many missing values\n",
    "\n",
    "donorsV2= donors.drop(['region'], axis=1) \n",
    "\n",
    "donorsV2.head()"
   ]
  },
  {
   "cell_type": "code",
   "execution_count": 39,
   "metadata": {},
   "outputs": [
    {
     "data": {
      "text/html": [
       "<div>\n",
       "<style scoped>\n",
       "    .dataframe tbody tr th:only-of-type {\n",
       "        vertical-align: middle;\n",
       "    }\n",
       "\n",
       "    .dataframe tbody tr th {\n",
       "        vertical-align: top;\n",
       "    }\n",
       "\n",
       "    .dataframe thead th {\n",
       "        text-align: right;\n",
       "    }\n",
       "</style>\n",
       "<table border=\"1\" class=\"dataframe\">\n",
       "  <thead>\n",
       "    <tr style=\"text-align: right;\">\n",
       "      <th></th>\n",
       "      <th>donorID</th>\n",
       "      <th>gender</th>\n",
       "      <th>language</th>\n",
       "      <th>zipcode</th>\n",
       "    </tr>\n",
       "  </thead>\n",
       "  <tbody>\n",
       "    <tr>\n",
       "      <td>0</td>\n",
       "      <td>100001</td>\n",
       "      <td>M</td>\n",
       "      <td>0</td>\n",
       "      <td>1861</td>\n",
       "    </tr>\n",
       "    <tr>\n",
       "      <td>1</td>\n",
       "      <td>100002</td>\n",
       "      <td>M</td>\n",
       "      <td>1</td>\n",
       "      <td>2260</td>\n",
       "    </tr>\n",
       "    <tr>\n",
       "      <td>2</td>\n",
       "      <td>100003</td>\n",
       "      <td>M</td>\n",
       "      <td>1</td>\n",
       "      <td>1780</td>\n",
       "    </tr>\n",
       "    <tr>\n",
       "      <td>3</td>\n",
       "      <td>100004</td>\n",
       "      <td>M</td>\n",
       "      <td>0</td>\n",
       "      <td>1020</td>\n",
       "    </tr>\n",
       "    <tr>\n",
       "      <td>4</td>\n",
       "      <td>100005</td>\n",
       "      <td>F</td>\n",
       "      <td>1</td>\n",
       "      <td>1020</td>\n",
       "    </tr>\n",
       "  </tbody>\n",
       "</table>\n",
       "</div>"
      ],
      "text/plain": [
       "   donorID gender  language zipcode\n",
       "0   100001      M         0    1861\n",
       "1   100002      M         1    2260\n",
       "2   100003      M         1    1780\n",
       "3   100004      M         0    1020\n",
       "4   100005      F         1    1020"
      ]
     },
     "execution_count": 39,
     "metadata": {},
     "output_type": "execute_result"
    }
   ],
   "source": [
    "#Turn language into dummies (0 for N, 1 for F)\n",
    "\n",
    "dictionary1= {\"N\":0, \"F\":1}\n",
    "\n",
    "donorsV3 = donorsV2.replace({\"language\": dictionary1})\n",
    "\n",
    "donorsV3.head()"
   ]
  },
  {
   "cell_type": "code",
   "execution_count": 40,
   "metadata": {},
   "outputs": [
    {
     "name": "stderr",
     "output_type": "stream",
     "text": [
      "C:\\Users\\jmotyl\\AppData\\Local\\Continuum\\anaconda3\\lib\\site-packages\\ipykernel_launcher.py:7: SettingWithCopyWarning: \n",
      "A value is trying to be set on a copy of a slice from a DataFrame.\n",
      "Try using .loc[row_indexer,col_indexer] = value instead\n",
      "\n",
      "See the caveats in the documentation: http://pandas.pydata.org/pandas-docs/stable/user_guide/indexing.html#returning-a-view-versus-a-copy\n",
      "  import sys\n"
     ]
    }
   ],
   "source": [
    "#drop the erroneous zipcodes and keep only those which are 4 digits long\n",
    "\n",
    "donorsV4= donorsV3[donorsV3.zipcode.str.len()==4]\n",
    "\n",
    "#Convert the zipcodes into integer data format\n",
    "\n",
    "donorsV4['zipcode']=donorsV4['zipcode'].astype(int)"
   ]
  },
  {
   "cell_type": "code",
   "execution_count": 41,
   "metadata": {},
   "outputs": [],
   "source": [
    "#create a function to convert zipcode into Regions\n",
    "def reg(z):\n",
    "    region = \"\"\n",
    "    if z >= 1000 and z<= 1299:\n",
    "        region = 'Brussels Capital Region'\n",
    "    elif z >= 1300 and z<= 1499:\n",
    "        region = 'Walloon Brabant'\n",
    "    elif z >= 1500 and z<= 1999:\n",
    "        region = 'Flemish Brabant'\n",
    "    elif z >= 2000 and z<= 2999:\n",
    "        region = 'Antwerp'\n",
    "    elif z >= 3000 and z<= 3499:\n",
    "        region = 'Flemish Brabant'\n",
    "    elif z >= 3500 and z<= 3999:\n",
    "        region = 'Limburg'\n",
    "    elif z >= 4000 and z<= 4999:\n",
    "        region = 'Liège'\n",
    "    elif z >= 5000 and z<= 5999:\n",
    "        region = 'Namur'\n",
    "    elif z >= 6000 and z<= 6599:\n",
    "        region = 'Hainaut'\n",
    "    elif z >= 6600 and z<= 6999:\n",
    "        region = 'Luxembourg'\n",
    "    elif z >= 7000 and z<= 7999:\n",
    "        region = 'Hainaut'\n",
    "    elif z >= 8000 and z<= 8999:\n",
    "        region = 'West Flanders'\n",
    "    elif z >= 9000 and z<= 9999:\n",
    "        region = 'East Flanders'\n",
    "    else :\n",
    "        print('error')\n",
    "    return(region)"
   ]
  },
  {
   "cell_type": "code",
   "execution_count": 42,
   "metadata": {},
   "outputs": [
    {
     "name": "stderr",
     "output_type": "stream",
     "text": [
      "C:\\Users\\jmotyl\\AppData\\Local\\Continuum\\anaconda3\\lib\\site-packages\\ipykernel_launcher.py:4: SettingWithCopyWarning: \n",
      "A value is trying to be set on a copy of a slice from a DataFrame.\n",
      "Try using .loc[row_indexer,col_indexer] = value instead\n",
      "\n",
      "See the caveats in the documentation: http://pandas.pydata.org/pandas-docs/stable/user_guide/indexing.html#returning-a-view-versus-a-copy\n",
      "  after removing the cwd from sys.path.\n"
     ]
    }
   ],
   "source": [
    "#Apply the above created function to convert the zipcode into Regions \n",
    "\n",
    "donorsV5 = donorsV4\n",
    "donorsV5[\"zipcode\"] = donorsV5[\"zipcode\"].apply(reg)"
   ]
  },
  {
   "cell_type": "code",
   "execution_count": 43,
   "metadata": {},
   "outputs": [
    {
     "data": {
      "text/html": [
       "<div>\n",
       "<style scoped>\n",
       "    .dataframe tbody tr th:only-of-type {\n",
       "        vertical-align: middle;\n",
       "    }\n",
       "\n",
       "    .dataframe tbody tr th {\n",
       "        vertical-align: top;\n",
       "    }\n",
       "\n",
       "    .dataframe thead th {\n",
       "        text-align: right;\n",
       "    }\n",
       "</style>\n",
       "<table border=\"1\" class=\"dataframe\">\n",
       "  <thead>\n",
       "    <tr style=\"text-align: right;\">\n",
       "      <th></th>\n",
       "      <th>donorID</th>\n",
       "      <th>gender</th>\n",
       "      <th>language</th>\n",
       "      <th>zipcode</th>\n",
       "    </tr>\n",
       "  </thead>\n",
       "  <tbody>\n",
       "    <tr>\n",
       "      <td>0</td>\n",
       "      <td>100001</td>\n",
       "      <td>M</td>\n",
       "      <td>0</td>\n",
       "      <td>Flemish Brabant</td>\n",
       "    </tr>\n",
       "    <tr>\n",
       "      <td>1</td>\n",
       "      <td>100002</td>\n",
       "      <td>M</td>\n",
       "      <td>1</td>\n",
       "      <td>Antwerp</td>\n",
       "    </tr>\n",
       "    <tr>\n",
       "      <td>2</td>\n",
       "      <td>100003</td>\n",
       "      <td>M</td>\n",
       "      <td>1</td>\n",
       "      <td>Flemish Brabant</td>\n",
       "    </tr>\n",
       "    <tr>\n",
       "      <td>3</td>\n",
       "      <td>100004</td>\n",
       "      <td>M</td>\n",
       "      <td>0</td>\n",
       "      <td>Brussels Capital Region</td>\n",
       "    </tr>\n",
       "    <tr>\n",
       "      <td>4</td>\n",
       "      <td>100005</td>\n",
       "      <td>F</td>\n",
       "      <td>1</td>\n",
       "      <td>Brussels Capital Region</td>\n",
       "    </tr>\n",
       "  </tbody>\n",
       "</table>\n",
       "</div>"
      ],
      "text/plain": [
       "   donorID gender  language                  zipcode\n",
       "0   100001      M         0          Flemish Brabant\n",
       "1   100002      M         1                  Antwerp\n",
       "2   100003      M         1          Flemish Brabant\n",
       "3   100004      M         0  Brussels Capital Region\n",
       "4   100005      F         1  Brussels Capital Region"
      ]
     },
     "execution_count": 43,
     "metadata": {},
     "output_type": "execute_result"
    }
   ],
   "source": [
    "donorsV5.head()"
   ]
  },
  {
   "cell_type": "code",
   "execution_count": 44,
   "metadata": {},
   "outputs": [
    {
     "data": {
      "text/html": [
       "<div>\n",
       "<style scoped>\n",
       "    .dataframe tbody tr th:only-of-type {\n",
       "        vertical-align: middle;\n",
       "    }\n",
       "\n",
       "    .dataframe tbody tr th {\n",
       "        vertical-align: top;\n",
       "    }\n",
       "\n",
       "    .dataframe thead th {\n",
       "        text-align: right;\n",
       "    }\n",
       "</style>\n",
       "<table border=\"1\" class=\"dataframe\">\n",
       "  <thead>\n",
       "    <tr style=\"text-align: right;\">\n",
       "      <th></th>\n",
       "      <th>donorID</th>\n",
       "      <th>language</th>\n",
       "      <th>is_C</th>\n",
       "      <th>is_F</th>\n",
       "      <th>is_M</th>\n",
       "      <th>is_S</th>\n",
       "      <th>is_U</th>\n",
       "      <th>from_Antwerp</th>\n",
       "      <th>from_Brussels Capital Region</th>\n",
       "      <th>from_East Flanders</th>\n",
       "      <th>from_Flemish Brabant</th>\n",
       "      <th>from_Hainaut</th>\n",
       "      <th>from_Limburg</th>\n",
       "      <th>from_Liège</th>\n",
       "      <th>from_Luxembourg</th>\n",
       "      <th>from_Namur</th>\n",
       "      <th>from_Walloon Brabant</th>\n",
       "      <th>from_West Flanders</th>\n",
       "    </tr>\n",
       "  </thead>\n",
       "  <tbody>\n",
       "    <tr>\n",
       "      <td>0</td>\n",
       "      <td>100001</td>\n",
       "      <td>0</td>\n",
       "      <td>0</td>\n",
       "      <td>0</td>\n",
       "      <td>1</td>\n",
       "      <td>0</td>\n",
       "      <td>0</td>\n",
       "      <td>0</td>\n",
       "      <td>0</td>\n",
       "      <td>0</td>\n",
       "      <td>1</td>\n",
       "      <td>0</td>\n",
       "      <td>0</td>\n",
       "      <td>0</td>\n",
       "      <td>0</td>\n",
       "      <td>0</td>\n",
       "      <td>0</td>\n",
       "      <td>0</td>\n",
       "    </tr>\n",
       "    <tr>\n",
       "      <td>1</td>\n",
       "      <td>100002</td>\n",
       "      <td>1</td>\n",
       "      <td>0</td>\n",
       "      <td>0</td>\n",
       "      <td>1</td>\n",
       "      <td>0</td>\n",
       "      <td>0</td>\n",
       "      <td>1</td>\n",
       "      <td>0</td>\n",
       "      <td>0</td>\n",
       "      <td>0</td>\n",
       "      <td>0</td>\n",
       "      <td>0</td>\n",
       "      <td>0</td>\n",
       "      <td>0</td>\n",
       "      <td>0</td>\n",
       "      <td>0</td>\n",
       "      <td>0</td>\n",
       "    </tr>\n",
       "    <tr>\n",
       "      <td>2</td>\n",
       "      <td>100003</td>\n",
       "      <td>1</td>\n",
       "      <td>0</td>\n",
       "      <td>0</td>\n",
       "      <td>1</td>\n",
       "      <td>0</td>\n",
       "      <td>0</td>\n",
       "      <td>0</td>\n",
       "      <td>0</td>\n",
       "      <td>0</td>\n",
       "      <td>1</td>\n",
       "      <td>0</td>\n",
       "      <td>0</td>\n",
       "      <td>0</td>\n",
       "      <td>0</td>\n",
       "      <td>0</td>\n",
       "      <td>0</td>\n",
       "      <td>0</td>\n",
       "    </tr>\n",
       "    <tr>\n",
       "      <td>3</td>\n",
       "      <td>100004</td>\n",
       "      <td>0</td>\n",
       "      <td>0</td>\n",
       "      <td>0</td>\n",
       "      <td>1</td>\n",
       "      <td>0</td>\n",
       "      <td>0</td>\n",
       "      <td>0</td>\n",
       "      <td>1</td>\n",
       "      <td>0</td>\n",
       "      <td>0</td>\n",
       "      <td>0</td>\n",
       "      <td>0</td>\n",
       "      <td>0</td>\n",
       "      <td>0</td>\n",
       "      <td>0</td>\n",
       "      <td>0</td>\n",
       "      <td>0</td>\n",
       "    </tr>\n",
       "    <tr>\n",
       "      <td>4</td>\n",
       "      <td>100005</td>\n",
       "      <td>1</td>\n",
       "      <td>0</td>\n",
       "      <td>1</td>\n",
       "      <td>0</td>\n",
       "      <td>0</td>\n",
       "      <td>0</td>\n",
       "      <td>0</td>\n",
       "      <td>1</td>\n",
       "      <td>0</td>\n",
       "      <td>0</td>\n",
       "      <td>0</td>\n",
       "      <td>0</td>\n",
       "      <td>0</td>\n",
       "      <td>0</td>\n",
       "      <td>0</td>\n",
       "      <td>0</td>\n",
       "      <td>0</td>\n",
       "    </tr>\n",
       "  </tbody>\n",
       "</table>\n",
       "</div>"
      ],
      "text/plain": [
       "   donorID  language  is_C  is_F  is_M  is_S  is_U  from_Antwerp  \\\n",
       "0   100001         0     0     0     1     0     0             0   \n",
       "1   100002         1     0     0     1     0     0             1   \n",
       "2   100003         1     0     0     1     0     0             0   \n",
       "3   100004         0     0     0     1     0     0             0   \n",
       "4   100005         1     0     1     0     0     0             0   \n",
       "\n",
       "   from_Brussels Capital Region  from_East Flanders  from_Flemish Brabant  \\\n",
       "0                             0                   0                     1   \n",
       "1                             0                   0                     0   \n",
       "2                             0                   0                     1   \n",
       "3                             1                   0                     0   \n",
       "4                             1                   0                     0   \n",
       "\n",
       "   from_Hainaut  from_Limburg  from_Liège  from_Luxembourg  from_Namur  \\\n",
       "0             0             0           0                0           0   \n",
       "1             0             0           0                0           0   \n",
       "2             0             0           0                0           0   \n",
       "3             0             0           0                0           0   \n",
       "4             0             0           0                0           0   \n",
       "\n",
       "   from_Walloon Brabant  from_West Flanders  \n",
       "0                     0                   0  \n",
       "1                     0                   0  \n",
       "2                     0                   0  \n",
       "3                     0                   0  \n",
       "4                     0                   0  "
      ]
     },
     "execution_count": 44,
     "metadata": {},
     "output_type": "execute_result"
    }
   ],
   "source": [
    "#Convert zipcode and gender into dummy variables\n",
    "\n",
    "donorsV6 = donorsV5\n",
    "donorsV6 = donorsV6.join(get_dummies(donorsV6[\"gender\"], prefix=\"is\",drop_first=False))\n",
    "donorsV6 = donorsV6.join(get_dummies(donorsV6[\"zipcode\"], prefix=\"from\",drop_first=False))\n",
    "\n",
    "donorsV6 = donorsV6.drop(columns=\"zipcode\")\n",
    "donorsV6 = donorsV6.drop(columns=\"gender\")\n",
    "donorsV6.head()"
   ]
  },
  {
   "cell_type": "code",
   "execution_count": 45,
   "metadata": {},
   "outputs": [],
   "source": [
    "#Rename the gender column:\n",
    "#C -> Couple  S -> Sotro (small business ?)  U -> Unknown\n",
    "\n",
    "donorsV6.rename(columns={'is_C': 'is_Couple','is_F': 'is_Female','is_M':'is_Male','is_S':'is_Sotro','is_U':'is_Unknown'}, inplace=True)"
   ]
  },
  {
   "cell_type": "code",
   "execution_count": 46,
   "metadata": {},
   "outputs": [
    {
     "data": {
      "text/plain": [
       "Index(['donorID', 'language', 'is_Couple', 'is_Female', 'is_Male', 'is_Sotro',\n",
       "       'is_Unknown', 'from_Antwerp', 'from_Brussels Capital Region',\n",
       "       'from_East Flanders', 'from_Flemish Brabant', 'from_Hainaut',\n",
       "       'from_Limburg', 'from_Liège', 'from_Luxembourg', 'from_Namur',\n",
       "       'from_Walloon Brabant', 'from_West Flanders'],\n",
       "      dtype='object')"
      ]
     },
     "execution_count": 46,
     "metadata": {},
     "output_type": "execute_result"
    }
   ],
   "source": [
    "donorsV6.columns"
   ]
  },
  {
   "cell_type": "code",
   "execution_count": 47,
   "metadata": {},
   "outputs": [
    {
     "data": {
      "text/plain": [
       "donorID                         0\n",
       "language                        0\n",
       "is_Couple                       0\n",
       "is_Female                       0\n",
       "is_Male                         0\n",
       "is_Sotro                        0\n",
       "is_Unknown                      0\n",
       "from_Antwerp                    0\n",
       "from_Brussels Capital Region    0\n",
       "from_East Flanders              0\n",
       "from_Flemish Brabant            0\n",
       "from_Hainaut                    0\n",
       "from_Limburg                    0\n",
       "from_Liège                      0\n",
       "from_Luxembourg                 0\n",
       "from_Namur                      0\n",
       "from_Walloon Brabant            0\n",
       "from_West Flanders              0\n",
       "dtype: int64"
      ]
     },
     "execution_count": 47,
     "metadata": {},
     "output_type": "execute_result"
    }
   ],
   "source": [
    "donorsV6.isna().sum()"
   ]
  },
  {
   "cell_type": "markdown",
   "metadata": {},
   "source": [
    "# Merge the dataframes"
   ]
  },
  {
   "cell_type": "markdown",
   "metadata": {},
   "source": [
    "### 1st merge:  to create a dataset of profile information for training"
   ]
  },
  {
   "cell_type": "code",
   "execution_count": 48,
   "metadata": {},
   "outputs": [
    {
     "data": {
      "text/plain": [
       "donorID                         0\n",
       "total_donated                   0\n",
       "average_donated                 0\n",
       "times_donated                   0\n",
       "max_donated                     0\n",
       "avg_days_gap                    0\n",
       "days_since_first                0\n",
       "days_since_last                 0\n",
       "language                        0\n",
       "is_Couple                       0\n",
       "is_Female                       0\n",
       "is_Male                         0\n",
       "is_Sotro                        0\n",
       "is_Unknown                      0\n",
       "from_Antwerp                    0\n",
       "from_Brussels Capital Region    0\n",
       "from_East Flanders              0\n",
       "from_Flemish Brabant            0\n",
       "from_Hainaut                    0\n",
       "from_Limburg                    0\n",
       "from_Liège                      0\n",
       "from_Luxembourg                 0\n",
       "from_Namur                      0\n",
       "from_Walloon Brabant            0\n",
       "from_West Flanders              0\n",
       "dtype: int64"
      ]
     },
     "execution_count": 48,
     "metadata": {},
     "output_type": "execute_result"
    }
   ],
   "source": [
    "#Pandas merge to make master database of donors' demographic profile and gifts given before 11th Apr 2013 \n",
    "\n",
    "left_table = giftsTrainingV3\n",
    "right_table = donorsV6\n",
    "\n",
    "MasterTraining = pd.merge(left_table,\n",
    "                      right_table,\n",
    "                      how=\"inner\",\n",
    "                      left_on=\"donorID\",\n",
    "                      right_on=\"donorID\"\n",
    "                     )\n",
    "MasterTraining.isna().sum()"
   ]
  },
  {
   "cell_type": "markdown",
   "metadata": {},
   "source": [
    "### 2nd merge: to create the 2013 Training set "
   ]
  },
  {
   "cell_type": "code",
   "execution_count": 49,
   "metadata": {
    "scrolled": true
   },
   "outputs": [
    {
     "data": {
      "text/plain": [
       "donorID                         0\n",
       "total_donated                   0\n",
       "average_donated                 0\n",
       "times_donated                   0\n",
       "max_donated                     0\n",
       "avg_days_gap                    0\n",
       "days_since_first                0\n",
       "days_since_last                 0\n",
       "language                        0\n",
       "is_Couple                       0\n",
       "is_Female                       0\n",
       "is_Male                         0\n",
       "is_Sotro                        0\n",
       "is_Unknown                      0\n",
       "from_Antwerp                    0\n",
       "from_Brussels Capital Region    0\n",
       "from_East Flanders              0\n",
       "from_Flemish Brabant            0\n",
       "from_Hainaut                    0\n",
       "from_Limburg                    0\n",
       "from_Liège                      0\n",
       "from_Luxembourg                 0\n",
       "from_Namur                      0\n",
       "from_Walloon Brabant            0\n",
       "from_West Flanders              0\n",
       "amount                          0\n",
       "above35                         0\n",
       "dtype: int64"
      ]
     },
     "execution_count": 49,
     "metadata": {},
     "output_type": "execute_result"
    }
   ],
   "source": [
    "#Pandas 2nd merge to build the 2013 dataset as training set\n",
    "\n",
    "left_table = MasterTraining\n",
    "right_table = campaign2013\n",
    "\n",
    "campaign2013V1 = pd.merge(left_table,\n",
    "                      right_table,\n",
    "                      how=\"inner\",\n",
    "                      left_on=\"donorID\",\n",
    "                      right_on=\"donorID\"\n",
    "                     )\n",
    "campaign2013V1.isna().sum()"
   ]
  },
  {
   "cell_type": "code",
   "execution_count": 50,
   "metadata": {},
   "outputs": [
    {
     "name": "stdout",
     "output_type": "stream",
     "text": [
      "<class 'pandas.core.frame.DataFrame'>\n",
      "Int64Index: 34545 entries, 0 to 34544\n",
      "Data columns (total 27 columns):\n",
      "donorID                         34545 non-null int64\n",
      "total_donated                   34545 non-null float64\n",
      "average_donated                 34545 non-null float64\n",
      "times_donated                   34545 non-null int64\n",
      "max_donated                     34545 non-null float64\n",
      "avg_days_gap                    34545 non-null int32\n",
      "days_since_first                34545 non-null float64\n",
      "days_since_last                 34545 non-null float64\n",
      "language                        34545 non-null int64\n",
      "is_Couple                       34545 non-null uint8\n",
      "is_Female                       34545 non-null uint8\n",
      "is_Male                         34545 non-null uint8\n",
      "is_Sotro                        34545 non-null uint8\n",
      "is_Unknown                      34545 non-null uint8\n",
      "from_Antwerp                    34545 non-null uint8\n",
      "from_Brussels Capital Region    34545 non-null uint8\n",
      "from_East Flanders              34545 non-null uint8\n",
      "from_Flemish Brabant            34545 non-null uint8\n",
      "from_Hainaut                    34545 non-null uint8\n",
      "from_Limburg                    34545 non-null uint8\n",
      "from_Liège                      34545 non-null uint8\n",
      "from_Luxembourg                 34545 non-null uint8\n",
      "from_Namur                      34545 non-null uint8\n",
      "from_Walloon Brabant            34545 non-null uint8\n",
      "from_West Flanders              34545 non-null uint8\n",
      "amount                          34545 non-null float64\n",
      "above35                         34545 non-null int32\n",
      "dtypes: float64(6), int32(2), int64(3), uint8(16)\n",
      "memory usage: 3.4 MB\n"
     ]
    }
   ],
   "source": [
    "#check the size of the database after the merge. \n",
    "#5 observations lost as donors who donated in campaign but no history of gifts \n",
    "\n",
    "campaign2013V1.info()"
   ]
  },
  {
   "cell_type": "code",
   "execution_count": 51,
   "metadata": {},
   "outputs": [
    {
     "data": {
      "text/html": [
       "<div>\n",
       "<style scoped>\n",
       "    .dataframe tbody tr th:only-of-type {\n",
       "        vertical-align: middle;\n",
       "    }\n",
       "\n",
       "    .dataframe tbody tr th {\n",
       "        vertical-align: top;\n",
       "    }\n",
       "\n",
       "    .dataframe thead th {\n",
       "        text-align: right;\n",
       "    }\n",
       "</style>\n",
       "<table border=\"1\" class=\"dataframe\">\n",
       "  <thead>\n",
       "    <tr style=\"text-align: right;\">\n",
       "      <th></th>\n",
       "      <th>donorID</th>\n",
       "      <th>total_donated</th>\n",
       "      <th>average_donated</th>\n",
       "      <th>times_donated</th>\n",
       "      <th>max_donated</th>\n",
       "      <th>avg_days_gap</th>\n",
       "      <th>days_since_first</th>\n",
       "      <th>days_since_last</th>\n",
       "      <th>language</th>\n",
       "      <th>is_Couple</th>\n",
       "      <th>...</th>\n",
       "      <th>from_Flemish Brabant</th>\n",
       "      <th>from_Hainaut</th>\n",
       "      <th>from_Limburg</th>\n",
       "      <th>from_Liège</th>\n",
       "      <th>from_Luxembourg</th>\n",
       "      <th>from_Namur</th>\n",
       "      <th>from_Walloon Brabant</th>\n",
       "      <th>from_West Flanders</th>\n",
       "      <th>amount</th>\n",
       "      <th>above35</th>\n",
       "    </tr>\n",
       "  </thead>\n",
       "  <tbody>\n",
       "    <tr>\n",
       "      <td>0</td>\n",
       "      <td>100001</td>\n",
       "      <td>178.49</td>\n",
       "      <td>14.874167</td>\n",
       "      <td>12</td>\n",
       "      <td>30.00</td>\n",
       "      <td>248</td>\n",
       "      <td>5284.0</td>\n",
       "      <td>2306.0</td>\n",
       "      <td>0</td>\n",
       "      <td>0</td>\n",
       "      <td>...</td>\n",
       "      <td>1</td>\n",
       "      <td>0</td>\n",
       "      <td>0</td>\n",
       "      <td>0</td>\n",
       "      <td>0</td>\n",
       "      <td>0</td>\n",
       "      <td>0</td>\n",
       "      <td>0</td>\n",
       "      <td>0.0</td>\n",
       "      <td>0</td>\n",
       "    </tr>\n",
       "    <tr>\n",
       "      <td>1</td>\n",
       "      <td>100002</td>\n",
       "      <td>20.00</td>\n",
       "      <td>20.000000</td>\n",
       "      <td>1</td>\n",
       "      <td>20.00</td>\n",
       "      <td>0</td>\n",
       "      <td>950.0</td>\n",
       "      <td>950.0</td>\n",
       "      <td>1</td>\n",
       "      <td>0</td>\n",
       "      <td>...</td>\n",
       "      <td>0</td>\n",
       "      <td>0</td>\n",
       "      <td>0</td>\n",
       "      <td>0</td>\n",
       "      <td>0</td>\n",
       "      <td>0</td>\n",
       "      <td>0</td>\n",
       "      <td>0</td>\n",
       "      <td>0.0</td>\n",
       "      <td>0</td>\n",
       "    </tr>\n",
       "    <tr>\n",
       "      <td>2</td>\n",
       "      <td>100004</td>\n",
       "      <td>716.22</td>\n",
       "      <td>27.546923</td>\n",
       "      <td>26</td>\n",
       "      <td>49.58</td>\n",
       "      <td>148</td>\n",
       "      <td>6538.0</td>\n",
       "      <td>2670.0</td>\n",
       "      <td>0</td>\n",
       "      <td>0</td>\n",
       "      <td>...</td>\n",
       "      <td>0</td>\n",
       "      <td>0</td>\n",
       "      <td>0</td>\n",
       "      <td>0</td>\n",
       "      <td>0</td>\n",
       "      <td>0</td>\n",
       "      <td>0</td>\n",
       "      <td>0</td>\n",
       "      <td>0.0</td>\n",
       "      <td>0</td>\n",
       "    </tr>\n",
       "    <tr>\n",
       "      <td>3</td>\n",
       "      <td>100008</td>\n",
       "      <td>124.37</td>\n",
       "      <td>41.456667</td>\n",
       "      <td>3</td>\n",
       "      <td>50.00</td>\n",
       "      <td>943</td>\n",
       "      <td>5280.0</td>\n",
       "      <td>2450.0</td>\n",
       "      <td>0</td>\n",
       "      <td>0</td>\n",
       "      <td>...</td>\n",
       "      <td>1</td>\n",
       "      <td>0</td>\n",
       "      <td>0</td>\n",
       "      <td>0</td>\n",
       "      <td>0</td>\n",
       "      <td>0</td>\n",
       "      <td>0</td>\n",
       "      <td>0</td>\n",
       "      <td>0.0</td>\n",
       "      <td>0</td>\n",
       "    </tr>\n",
       "    <tr>\n",
       "      <td>4</td>\n",
       "      <td>100009</td>\n",
       "      <td>326.78</td>\n",
       "      <td>17.198947</td>\n",
       "      <td>19</td>\n",
       "      <td>25.00</td>\n",
       "      <td>208</td>\n",
       "      <td>6157.0</td>\n",
       "      <td>2198.0</td>\n",
       "      <td>0</td>\n",
       "      <td>0</td>\n",
       "      <td>...</td>\n",
       "      <td>0</td>\n",
       "      <td>0</td>\n",
       "      <td>0</td>\n",
       "      <td>0</td>\n",
       "      <td>0</td>\n",
       "      <td>0</td>\n",
       "      <td>0</td>\n",
       "      <td>0</td>\n",
       "      <td>0.0</td>\n",
       "      <td>0</td>\n",
       "    </tr>\n",
       "  </tbody>\n",
       "</table>\n",
       "<p>5 rows × 27 columns</p>\n",
       "</div>"
      ],
      "text/plain": [
       "   donorID  total_donated  average_donated  times_donated  max_donated  \\\n",
       "0   100001         178.49        14.874167             12        30.00   \n",
       "1   100002          20.00        20.000000              1        20.00   \n",
       "2   100004         716.22        27.546923             26        49.58   \n",
       "3   100008         124.37        41.456667              3        50.00   \n",
       "4   100009         326.78        17.198947             19        25.00   \n",
       "\n",
       "   avg_days_gap  days_since_first  days_since_last  language  is_Couple  ...  \\\n",
       "0           248            5284.0           2306.0         0          0  ...   \n",
       "1             0             950.0            950.0         1          0  ...   \n",
       "2           148            6538.0           2670.0         0          0  ...   \n",
       "3           943            5280.0           2450.0         0          0  ...   \n",
       "4           208            6157.0           2198.0         0          0  ...   \n",
       "\n",
       "   from_Flemish Brabant  from_Hainaut  from_Limburg  from_Liège  \\\n",
       "0                     1             0             0           0   \n",
       "1                     0             0             0           0   \n",
       "2                     0             0             0           0   \n",
       "3                     1             0             0           0   \n",
       "4                     0             0             0           0   \n",
       "\n",
       "   from_Luxembourg  from_Namur  from_Walloon Brabant  from_West Flanders  \\\n",
       "0                0           0                     0                   0   \n",
       "1                0           0                     0                   0   \n",
       "2                0           0                     0                   0   \n",
       "3                0           0                     0                   0   \n",
       "4                0           0                     0                   0   \n",
       "\n",
       "   amount  above35  \n",
       "0     0.0        0  \n",
       "1     0.0        0  \n",
       "2     0.0        0  \n",
       "3     0.0        0  \n",
       "4     0.0        0  \n",
       "\n",
       "[5 rows x 27 columns]"
      ]
     },
     "execution_count": 51,
     "metadata": {},
     "output_type": "execute_result"
    }
   ],
   "source": [
    "campaign2013V1.head()"
   ]
  },
  {
   "cell_type": "markdown",
   "metadata": {},
   "source": [
    "### 3rd merge:  to create a dataset of profile information for testing"
   ]
  },
  {
   "cell_type": "code",
   "execution_count": 52,
   "metadata": {},
   "outputs": [
    {
     "data": {
      "text/plain": [
       "donorID                         0\n",
       "total_donated                   0\n",
       "average_donated                 0\n",
       "times_donated                   0\n",
       "max_donated                     0\n",
       "avg_days_gap                    0\n",
       "days_since_first                0\n",
       "days_since_last                 0\n",
       "language                        0\n",
       "is_Couple                       0\n",
       "is_Female                       0\n",
       "is_Male                         0\n",
       "is_Sotro                        0\n",
       "is_Unknown                      0\n",
       "from_Antwerp                    0\n",
       "from_Brussels Capital Region    0\n",
       "from_East Flanders              0\n",
       "from_Flemish Brabant            0\n",
       "from_Hainaut                    0\n",
       "from_Limburg                    0\n",
       "from_Liège                      0\n",
       "from_Luxembourg                 0\n",
       "from_Namur                      0\n",
       "from_Walloon Brabant            0\n",
       "from_West Flanders              0\n",
       "dtype: int64"
      ]
     },
     "execution_count": 52,
     "metadata": {},
     "output_type": "execute_result"
    }
   ],
   "source": [
    "#Pandas merge to make master database of donors' demographic profile and gifts given before 15th Jan2014 \n",
    "left_table = giftsTestV3\n",
    "right_table = donorsV6\n",
    "\n",
    "MasterTest = pd.merge(left_table,\n",
    "                      right_table,\n",
    "                      how=\"inner\",\n",
    "                      left_on=\"donorID\",\n",
    "                      right_on=\"donorID\"\n",
    "                     )\n",
    "MasterTest.isna().sum()"
   ]
  },
  {
   "cell_type": "markdown",
   "metadata": {},
   "source": [
    "### 4th merge:  to create the 2014 Test set "
   ]
  },
  {
   "cell_type": "code",
   "execution_count": 53,
   "metadata": {},
   "outputs": [
    {
     "name": "stdout",
     "output_type": "stream",
     "text": [
      "<class 'pandas.core.frame.DataFrame'>\n",
      "Int64Index: 25509 entries, 0 to 25508\n",
      "Data columns (total 27 columns):\n",
      "donorID                         25509 non-null int64\n",
      "total_donated                   25509 non-null float64\n",
      "average_donated                 25509 non-null float64\n",
      "times_donated                   25509 non-null int64\n",
      "max_donated                     25509 non-null float64\n",
      "avg_days_gap                    25509 non-null int32\n",
      "days_since_first                25509 non-null float64\n",
      "days_since_last                 25509 non-null float64\n",
      "language                        25509 non-null int64\n",
      "is_Couple                       25509 non-null uint8\n",
      "is_Female                       25509 non-null uint8\n",
      "is_Male                         25509 non-null uint8\n",
      "is_Sotro                        25509 non-null uint8\n",
      "is_Unknown                      25509 non-null uint8\n",
      "from_Antwerp                    25509 non-null uint8\n",
      "from_Brussels Capital Region    25509 non-null uint8\n",
      "from_East Flanders              25509 non-null uint8\n",
      "from_Flemish Brabant            25509 non-null uint8\n",
      "from_Hainaut                    25509 non-null uint8\n",
      "from_Limburg                    25509 non-null uint8\n",
      "from_Liège                      25509 non-null uint8\n",
      "from_Luxembourg                 25509 non-null uint8\n",
      "from_Namur                      25509 non-null uint8\n",
      "from_Walloon Brabant            25509 non-null uint8\n",
      "from_West Flanders              25509 non-null uint8\n",
      "amount                          25509 non-null float64\n",
      "above35                         25509 non-null int32\n",
      "dtypes: float64(6), int32(2), int64(3), uint8(16)\n",
      "memory usage: 2.5 MB\n"
     ]
    }
   ],
   "source": [
    "#create the final test set by merging the master data set with the 2014 campaign data \n",
    "\n",
    "FinalTest2014 = pd.merge(MasterTest,\n",
    "                         campaign2014,\n",
    "                         how=\"inner\",\n",
    "                        left_on=\"donorID\",\n",
    "                        right_on=\"donorID\") \n",
    "\n",
    "FinalTest2014.info()"
   ]
  },
  {
   "cell_type": "code",
   "execution_count": 54,
   "metadata": {},
   "outputs": [
    {
     "data": {
      "text/plain": [
       "donorID                         0\n",
       "total_donated                   0\n",
       "average_donated                 0\n",
       "times_donated                   0\n",
       "max_donated                     0\n",
       "avg_days_gap                    0\n",
       "days_since_first                0\n",
       "days_since_last                 0\n",
       "language                        0\n",
       "is_Couple                       0\n",
       "is_Female                       0\n",
       "is_Male                         0\n",
       "is_Sotro                        0\n",
       "is_Unknown                      0\n",
       "from_Antwerp                    0\n",
       "from_Brussels Capital Region    0\n",
       "from_East Flanders              0\n",
       "from_Flemish Brabant            0\n",
       "from_Hainaut                    0\n",
       "from_Limburg                    0\n",
       "from_Liège                      0\n",
       "from_Luxembourg                 0\n",
       "from_Namur                      0\n",
       "from_Walloon Brabant            0\n",
       "from_West Flanders              0\n",
       "amount                          0\n",
       "above35                         0\n",
       "dtype: int64"
      ]
     },
     "execution_count": 54,
     "metadata": {},
     "output_type": "execute_result"
    }
   ],
   "source": [
    "#check the size of the database after the merge. \n",
    "#2 observations lost as donors who donated in campaign but no history of gifts \n",
    "\n",
    "FinalTest2014.isna().sum()"
   ]
  },
  {
   "cell_type": "code",
   "execution_count": 55,
   "metadata": {},
   "outputs": [
    {
     "data": {
      "text/html": [
       "<div>\n",
       "<style scoped>\n",
       "    .dataframe tbody tr th:only-of-type {\n",
       "        vertical-align: middle;\n",
       "    }\n",
       "\n",
       "    .dataframe tbody tr th {\n",
       "        vertical-align: top;\n",
       "    }\n",
       "\n",
       "    .dataframe thead th {\n",
       "        text-align: right;\n",
       "    }\n",
       "</style>\n",
       "<table border=\"1\" class=\"dataframe\">\n",
       "  <thead>\n",
       "    <tr style=\"text-align: right;\">\n",
       "      <th></th>\n",
       "      <th>donorID</th>\n",
       "      <th>total_donated</th>\n",
       "      <th>average_donated</th>\n",
       "      <th>times_donated</th>\n",
       "      <th>max_donated</th>\n",
       "      <th>avg_days_gap</th>\n",
       "      <th>days_since_first</th>\n",
       "      <th>days_since_last</th>\n",
       "      <th>language</th>\n",
       "      <th>is_Couple</th>\n",
       "      <th>...</th>\n",
       "      <th>from_Flemish Brabant</th>\n",
       "      <th>from_Hainaut</th>\n",
       "      <th>from_Limburg</th>\n",
       "      <th>from_Liège</th>\n",
       "      <th>from_Luxembourg</th>\n",
       "      <th>from_Namur</th>\n",
       "      <th>from_Walloon Brabant</th>\n",
       "      <th>from_West Flanders</th>\n",
       "      <th>amount</th>\n",
       "      <th>above35</th>\n",
       "    </tr>\n",
       "  </thead>\n",
       "  <tbody>\n",
       "    <tr>\n",
       "      <td>0</td>\n",
       "      <td>100001</td>\n",
       "      <td>178.49</td>\n",
       "      <td>14.874167</td>\n",
       "      <td>12</td>\n",
       "      <td>30.0</td>\n",
       "      <td>248</td>\n",
       "      <td>5563.0</td>\n",
       "      <td>2585.0</td>\n",
       "      <td>0</td>\n",
       "      <td>0</td>\n",
       "      <td>...</td>\n",
       "      <td>1</td>\n",
       "      <td>0</td>\n",
       "      <td>0</td>\n",
       "      <td>0</td>\n",
       "      <td>0</td>\n",
       "      <td>0</td>\n",
       "      <td>0</td>\n",
       "      <td>0</td>\n",
       "      <td>0.0</td>\n",
       "      <td>0</td>\n",
       "    </tr>\n",
       "    <tr>\n",
       "      <td>1</td>\n",
       "      <td>100002</td>\n",
       "      <td>20.00</td>\n",
       "      <td>20.000000</td>\n",
       "      <td>1</td>\n",
       "      <td>20.0</td>\n",
       "      <td>0</td>\n",
       "      <td>1229.0</td>\n",
       "      <td>1229.0</td>\n",
       "      <td>1</td>\n",
       "      <td>0</td>\n",
       "      <td>...</td>\n",
       "      <td>0</td>\n",
       "      <td>0</td>\n",
       "      <td>0</td>\n",
       "      <td>0</td>\n",
       "      <td>0</td>\n",
       "      <td>0</td>\n",
       "      <td>0</td>\n",
       "      <td>0</td>\n",
       "      <td>0.0</td>\n",
       "      <td>0</td>\n",
       "    </tr>\n",
       "    <tr>\n",
       "      <td>2</td>\n",
       "      <td>100008</td>\n",
       "      <td>124.37</td>\n",
       "      <td>41.456667</td>\n",
       "      <td>3</td>\n",
       "      <td>50.0</td>\n",
       "      <td>943</td>\n",
       "      <td>5559.0</td>\n",
       "      <td>2729.0</td>\n",
       "      <td>0</td>\n",
       "      <td>0</td>\n",
       "      <td>...</td>\n",
       "      <td>1</td>\n",
       "      <td>0</td>\n",
       "      <td>0</td>\n",
       "      <td>0</td>\n",
       "      <td>0</td>\n",
       "      <td>0</td>\n",
       "      <td>0</td>\n",
       "      <td>0</td>\n",
       "      <td>0.0</td>\n",
       "      <td>0</td>\n",
       "    </tr>\n",
       "    <tr>\n",
       "      <td>3</td>\n",
       "      <td>100009</td>\n",
       "      <td>326.78</td>\n",
       "      <td>17.198947</td>\n",
       "      <td>19</td>\n",
       "      <td>25.0</td>\n",
       "      <td>208</td>\n",
       "      <td>6436.0</td>\n",
       "      <td>2477.0</td>\n",
       "      <td>0</td>\n",
       "      <td>0</td>\n",
       "      <td>...</td>\n",
       "      <td>0</td>\n",
       "      <td>0</td>\n",
       "      <td>0</td>\n",
       "      <td>0</td>\n",
       "      <td>0</td>\n",
       "      <td>0</td>\n",
       "      <td>0</td>\n",
       "      <td>0</td>\n",
       "      <td>0.0</td>\n",
       "      <td>0</td>\n",
       "    </tr>\n",
       "    <tr>\n",
       "      <td>4</td>\n",
       "      <td>100010</td>\n",
       "      <td>40.00</td>\n",
       "      <td>40.000000</td>\n",
       "      <td>1</td>\n",
       "      <td>40.0</td>\n",
       "      <td>0</td>\n",
       "      <td>1291.0</td>\n",
       "      <td>1291.0</td>\n",
       "      <td>1</td>\n",
       "      <td>1</td>\n",
       "      <td>...</td>\n",
       "      <td>0</td>\n",
       "      <td>0</td>\n",
       "      <td>0</td>\n",
       "      <td>0</td>\n",
       "      <td>0</td>\n",
       "      <td>0</td>\n",
       "      <td>0</td>\n",
       "      <td>0</td>\n",
       "      <td>0.0</td>\n",
       "      <td>0</td>\n",
       "    </tr>\n",
       "  </tbody>\n",
       "</table>\n",
       "<p>5 rows × 27 columns</p>\n",
       "</div>"
      ],
      "text/plain": [
       "   donorID  total_donated  average_donated  times_donated  max_donated  \\\n",
       "0   100001         178.49        14.874167             12         30.0   \n",
       "1   100002          20.00        20.000000              1         20.0   \n",
       "2   100008         124.37        41.456667              3         50.0   \n",
       "3   100009         326.78        17.198947             19         25.0   \n",
       "4   100010          40.00        40.000000              1         40.0   \n",
       "\n",
       "   avg_days_gap  days_since_first  days_since_last  language  is_Couple  ...  \\\n",
       "0           248            5563.0           2585.0         0          0  ...   \n",
       "1             0            1229.0           1229.0         1          0  ...   \n",
       "2           943            5559.0           2729.0         0          0  ...   \n",
       "3           208            6436.0           2477.0         0          0  ...   \n",
       "4             0            1291.0           1291.0         1          1  ...   \n",
       "\n",
       "   from_Flemish Brabant  from_Hainaut  from_Limburg  from_Liège  \\\n",
       "0                     1             0             0           0   \n",
       "1                     0             0             0           0   \n",
       "2                     1             0             0           0   \n",
       "3                     0             0             0           0   \n",
       "4                     0             0             0           0   \n",
       "\n",
       "   from_Luxembourg  from_Namur  from_Walloon Brabant  from_West Flanders  \\\n",
       "0                0           0                     0                   0   \n",
       "1                0           0                     0                   0   \n",
       "2                0           0                     0                   0   \n",
       "3                0           0                     0                   0   \n",
       "4                0           0                     0                   0   \n",
       "\n",
       "   amount  above35  \n",
       "0     0.0        0  \n",
       "1     0.0        0  \n",
       "2     0.0        0  \n",
       "3     0.0        0  \n",
       "4     0.0        0  \n",
       "\n",
       "[5 rows x 27 columns]"
      ]
     },
     "execution_count": 55,
     "metadata": {},
     "output_type": "execute_result"
    }
   ],
   "source": [
    "FinalTest2014.head()"
   ]
  },
  {
   "cell_type": "markdown",
   "metadata": {},
   "source": [
    "### Windsorization and Log conversion"
   ]
  },
  {
   "cell_type": "code",
   "execution_count": 56,
   "metadata": {},
   "outputs": [
    {
     "data": {
      "text/plain": [
       "count    34545.000000\n",
       "mean         3.872234\n",
       "std          1.195065\n",
       "min          1.609438\n",
       "25%          3.210440\n",
       "50%          3.688879\n",
       "75%          4.667018\n",
       "max          6.879479\n",
       "Name: total_donated, dtype: float64"
      ]
     },
     "execution_count": 56,
     "metadata": {},
     "output_type": "execute_result"
    }
   ],
   "source": [
    "#applying logarithm/winsorize to all continuous variable to avoid biases\n",
    "\n",
    "#Test Data\n",
    "\n",
    "#campaign2013V1[\"days_since_first\"] = winsorize(array(campaign2013V1[\"days_since_first\"]), limits=[0.00,0.01])\n",
    "campaign2013V1[\"days_since_first\"]= np.log(campaign2013V1[\"days_since_first\"])\n",
    "\n",
    "#campaign2013V1[\"days_since_last\"] = winsorize(array(campaign2013V1[\"days_since_last\"]), limits=[0.00,0.01])\n",
    "campaign2013V1[\"days_since_last\"]= campaign2013V1[\"days_since_last\"].apply(lambda row : np.log(row) if (row>0) else 0)\n",
    "\n",
    "campaign2013V1[\"total_donated\"] = winsorize(array(campaign2013V1[\"total_donated\"]), limits=[0.00,0.01])\n",
    "campaign2013V1[\"total_donated\"]= np.log(campaign2013V1[\"total_donated\"])\n",
    "\n",
    "campaign2013V1[\"times_donated\"] = winsorize(array(campaign2013V1[\"times_donated\"]), limits=[0.00,0.01])\n",
    "campaign2013V1[\"times_donated\"]=round(campaign2013V1[\"times_donated\"],4)\n",
    "\n",
    "campaign2013V1[\"average_donated\"] = winsorize(array(campaign2013V1[\"average_donated\"]), limits=[0.00,0.01])\n",
    "campaign2013V1[\"average_donated\"]= np.log(campaign2013V1[\"average_donated\"])\n",
    "\n",
    "campaign2013V1[\"avg_days_gap\"] = winsorize(array(campaign2013V1[\"avg_days_gap\"]), limits=[0.00,0.01])\n",
    "campaign2013V1[\"avg_days_gap\"]= campaign2013V1[\"avg_days_gap\"].apply(lambda row : np.log(row) if (row>0) else 0)\n",
    "\n",
    "campaign2013V1[\"max_donated\"] = winsorize(array(campaign2013V1[\"max_donated\"]), limits=[0.00,0.01])\n",
    "campaign2013V1[\"max_donated\"]= campaign2013V1[\"max_donated\"].apply(lambda row : np.log(row) if (row>0) else 0)\n",
    "\n",
    "\n",
    "#Training Data\n",
    "\n",
    "#FinalTest2014[\"days_since_first\"] = winsorize(array(FinalTest2014[\"days_since_first\"]), limits=[0.00,0.01])\n",
    "FinalTest2014[\"days_since_first\"]= np.log(FinalTest2014[\"days_since_first\"])\n",
    "\n",
    "#FinalTest2014[\"days_since_last\"] = winsorize(array(FinalTest2014[\"days_since_last\"]), limits=[0.00,0.01])\n",
    "FinalTest2014[\"days_since_last\"]= np.log(FinalTest2014[\"days_since_last\"])\n",
    "\n",
    "FinalTest2014[\"total_donated\"] = winsorize(array(FinalTest2014[\"total_donated\"]), limits=[0.00,0.01])\n",
    "FinalTest2014[\"total_donated\"]= np.log(FinalTest2014[\"total_donated\"])\n",
    "\n",
    "FinalTest2014[\"average_donated\"] = winsorize(array(FinalTest2014[\"average_donated\"]), limits=[0.00,0.01])\n",
    "FinalTest2014[\"average_donated\"]= np.log(FinalTest2014[\"average_donated\"])\n",
    "\n",
    "FinalTest2014[\"avg_days_gap\"] = winsorize(array(FinalTest2014[\"avg_days_gap\"]), limits=[0.00,0.01])\n",
    "FinalTest2014[\"avg_days_gap\"]= FinalTest2014[\"avg_days_gap\"].apply(lambda row : np.log(row) if (row>0) else 0)\n",
    "\n",
    "FinalTest2014[\"times_donated\"] = winsorize(array(FinalTest2014[\"times_donated\"]), limits=[0.00,0.01])\n",
    "FinalTest2014[\"times_donated\"] = np.log(FinalTest2014[\"times_donated\"])\n",
    "\n",
    "FinalTest2014[\"max_donated\"] = winsorize(array(FinalTest2014[\"max_donated\"]), limits=[0.00,0.01])\n",
    "FinalTest2014[\"max_donated\"] = np.log(FinalTest2014[\"max_donated\"])\n",
    "\n",
    "campaign2013V1[\"total_donated\"].describe()"
   ]
  },
  {
   "cell_type": "code",
   "execution_count": 57,
   "metadata": {},
   "outputs": [
    {
     "data": {
      "text/plain": [
       "count    34545.000000\n",
       "mean         3.880417\n",
       "std          5.178051\n",
       "min          1.000000\n",
       "25%          1.000000\n",
       "50%          2.000000\n",
       "75%          4.000000\n",
       "max         31.000000\n",
       "Name: times_donated, dtype: float64"
      ]
     },
     "execution_count": 57,
     "metadata": {},
     "output_type": "execute_result"
    }
   ],
   "source": [
    "campaign2013V1[\"times_donated\"].describe()"
   ]
  },
  {
   "cell_type": "code",
   "execution_count": 58,
   "metadata": {},
   "outputs": [],
   "source": [
    "indextoNull= FinalTest2014.index[FinalTest2014.average_donated.isnull()==True]\n",
    "FinalTest2014.iloc[indextoNull,2]= FinalTest2014.average_donated.mean()"
   ]
  },
  {
   "cell_type": "code",
   "execution_count": 59,
   "metadata": {},
   "outputs": [
    {
     "data": {
      "text/plain": [
       "donorID                         1.464294e+08\n",
       "total_donated                   1.494269e+00\n",
       "average_donated                 5.046678e-01\n",
       "times_donated                   8.873324e-01\n",
       "max_donated                     5.689763e-01\n",
       "avg_days_gap                    7.789089e+00\n",
       "days_since_first                3.207756e-01\n",
       "days_since_last                 3.096282e-01\n",
       "language                        7.476277e-02\n",
       "is_Couple                       1.453449e-01\n",
       "is_Female                       2.324886e-01\n",
       "is_Male                         2.354070e-01\n",
       "is_Sotro                        4.500854e-02\n",
       "is_Unknown                      2.861185e-02\n",
       "from_Antwerp                    1.774438e-01\n",
       "from_Brussels Capital Region    2.835354e-02\n",
       "from_East Flanders              1.669969e-01\n",
       "from_Flemish Brabant            1.288091e-01\n",
       "from_Hainaut                    1.676266e-02\n",
       "from_Limburg                    1.022455e-01\n",
       "from_Liège                      1.725467e-02\n",
       "from_Luxembourg                 5.768438e-03\n",
       "from_Namur                      7.586222e-03\n",
       "from_Walloon Brabant            8.434767e-03\n",
       "from_West Flanders              1.625334e-01\n",
       "amount                          1.472901e+01\n",
       "above35                         5.884670e-03\n",
       "dtype: float64"
      ]
     },
     "execution_count": 59,
     "metadata": {},
     "output_type": "execute_result"
    }
   ],
   "source": [
    "FinalTest2014.var()"
   ]
  },
  {
   "cell_type": "code",
   "execution_count": 60,
   "metadata": {},
   "outputs": [
    {
     "name": "stdout",
     "output_type": "stream",
     "text": [
      "490\n",
      "(34545, 27)\n"
     ]
    },
    {
     "data": {
      "text/plain": [
       "34392"
      ]
     },
     "execution_count": 60,
     "metadata": {},
     "output_type": "execute_result"
    }
   ],
   "source": [
    "print(campaign2013V1[campaign2013V1.above35==1][\"above35\"].sum())\n",
    "print(campaign2013V1.shape)\n",
    "test = 34909-517\n",
    "test"
   ]
  },
  {
   "cell_type": "code",
   "execution_count": 61,
   "metadata": {},
   "outputs": [
    {
     "data": {
      "text/plain": [
       "0    34055\n",
       "1      490\n",
       "Name: above35, dtype: int64"
      ]
     },
     "execution_count": 61,
     "metadata": {},
     "output_type": "execute_result"
    }
   ],
   "source": [
    "campaign2013V1.above35.value_counts()"
   ]
  },
  {
   "cell_type": "code",
   "execution_count": 62,
   "metadata": {},
   "outputs": [],
   "source": [
    "# Separate majority and minority classes\n",
    "campaign2013V1_majority = campaign2013V1[campaign2013V1.above35==0]\n",
    "campaign2013V1_minority = campaign2013V1[campaign2013V1.above35==1]"
   ]
  },
  {
   "cell_type": "code",
   "execution_count": 63,
   "metadata": {},
   "outputs": [],
   "source": [
    "# Upsample minority class\n",
    "campaign2013V1_minority_upsampled = resample(campaign2013V1_minority, \n",
    "                                             replace=True,     # sample with replacement\n",
    "                                             n_samples=34392,    # to match majority class\n",
    "                                             random_state=123) # reproducible results"
   ]
  },
  {
   "cell_type": "code",
   "execution_count": 64,
   "metadata": {},
   "outputs": [
    {
     "data": {
      "text/plain": [
       "1    34392\n",
       "0    34055\n",
       "Name: above35, dtype: int64"
      ]
     },
     "execution_count": 64,
     "metadata": {},
     "output_type": "execute_result"
    }
   ],
   "source": [
    "# Combine majority class with upsampled minority class\n",
    "campaign2013V1_upsampled = pd.concat([campaign2013V1_majority, campaign2013V1_minority_upsampled])\n",
    " \n",
    "# Display new class counts\n",
    "campaign2013V1_upsampled.above35.value_counts()\n",
    "#campaign2013V1_upsampled is the new set to partition"
   ]
  },
  {
   "cell_type": "code",
   "execution_count": 65,
   "metadata": {},
   "outputs": [
    {
     "name": "stdout",
     "output_type": "stream",
     "text": [
      "Partition 0 shape : (54758, 27) (1.5851208568533797)\n",
      "Partition 1 shape : (13689, 27) (0.39626574033868867)\n"
     ]
    }
   ],
   "source": [
    "partitions = partition(dataFrame = campaign2013V1_upsampled, splitStrategy = [0.8,0.2])\n",
    "for (index,dataFrame) in enumerate(partitions):\n",
    "    print(f\"Partition {index} shape : {dataFrame.shape} ({len(dataFrame)/len(campaign2013V1_upsampled)})\")"
   ]
  },
  {
   "cell_type": "code",
   "execution_count": 66,
   "metadata": {},
   "outputs": [],
   "source": [
    "trainingSet   = partitions[0]\n",
    "validationSet = partitions[1]\n",
    "testSet       = FinalTest2014"
   ]
  },
  {
   "cell_type": "code",
   "execution_count": 67,
   "metadata": {},
   "outputs": [
    {
     "data": {
      "text/plain": [
       "<matplotlib.axes._subplots.AxesSubplot at 0x23238efd948>"
      ]
     },
     "execution_count": 67,
     "metadata": {},
     "output_type": "execute_result"
    },
    {
     "data": {
      "image/png": "[encoded data removed]",
      "text/plain": [
       "<Figure size 432x288 with 2 Axes>"
      ]
     },
     "metadata": {},
     "output_type": "display_data"
    }
   ],
   "source": [
    "#Displaying graphically the correlation between all the feature.\n",
    "import seaborn as sns; sns.set()\n",
    "sns.heatmap(trainingSet.corr(), square=True, cmap='RdYlGn')"
   ]
  },
  {
   "cell_type": "markdown",
   "metadata": {},
   "source": [
    "# Modelling"
   ]
  },
  {
   "cell_type": "markdown",
   "metadata": {},
   "source": [
    "# BELOW IS THE TESTS FOR THE RANDOM FOREST"
   ]
  },
  {
   "cell_type": "code",
   "execution_count": 68,
   "metadata": {},
   "outputs": [
    {
     "name": "stdout",
     "output_type": "stream",
     "text": [
      "['total_donated' 'average_donated' 'times_donated' 'max_donated'\n",
      " 'avg_days_gap' 'days_since_first' 'days_since_last' 'language'\n",
      " 'is_Couple' 'is_Female' 'is_Male' 'is_Sotro' 'is_Unknown' 'from_Antwerp'\n",
      " 'from_Brussels Capital Region' 'from_East Flanders'\n",
      " 'from_Flemish Brabant' 'from_Hainaut' 'from_Limburg' 'from_Liège'\n",
      " 'from_Luxembourg' 'from_Namur' 'from_Walloon Brabant'\n",
      " 'from_West Flanders']\n"
     ]
    }
   ],
   "source": [
    "#Separating the features from the target for random forest fitting\n",
    "target = \"above35\"\n",
    "selected = trainingSet.drop(columns=[\"donorID\", \"amount\", \"above35\"])\n",
    "selected = selected.columns.values\n",
    "print(selected)"
   ]
  },
  {
   "cell_type": "code",
   "execution_count": 69,
   "metadata": {},
   "outputs": [],
   "source": [
    "def fisherscore(X, y):\n",
    "    \"\"\"\n",
    "    This function calculate the Fisher score of all variables of the basetable.\n",
    "    \n",
    "    Input:\n",
    "        \n",
    "        X: [Pandas Dataframe] the independent variables basetable for modeling.\n",
    "        y: [Pandas Series] the target variable.\n",
    "        \n",
    "    Output:\n",
    "        \n",
    "        Pandas Dataframe contains the Fisher score for each independent varibales.\n",
    "    \n",
    "    Ref:\n",
    "    ---\n",
    "    Verbeke, W., Dejaeger, K., Martens, D., Hur, J., & Baesens, B. (2012). New insights into churn prediction in the telecommunication sector: A profit driven data mining approach. European Journal of Operational Research, 218(1), 211-229.\n",
    "    \"\"\"\n",
    "    \n",
    "    # Get the list of independent variables\n",
    "    vars_list = X.columns\n",
    "    \n",
    "    # Get the unique values of dependent/target variable\n",
    "    # Should be 2 classes [0, 1]\n",
    "    target_unique = y.unique()\n",
    "  \n",
    "    iv_fisherscore = []\n",
    "    \n",
    "    for v in vars_list:\n",
    "        fs = np.abs(np.mean(X.loc[y == target_unique[0], v]) - \\\n",
    "                    np.mean(X.loc[y == target_unique[1], v])) / \\\n",
    "             np.sqrt(np.var(X.loc[y == target_unique[0], v]) + \\\n",
    "                     np.var(X.loc[y == target_unique[1], v]))\n",
    "        iv_fisherscore.append(fs)\n",
    "        \n",
    "    return pd.DataFrame(iv_fisherscore, index=vars_list, columns=['fisher_score'])"
   ]
  },
  {
   "cell_type": "code",
   "execution_count": 70,
   "metadata": {},
   "outputs": [],
   "source": [
    "# Apply Fisher Score\n",
    "fs = fisherscore(trainingSet[selected],trainingSet[target])\n",
    "fs = fs.sort_values(by='fisher_score', ascending=False)"
   ]
  },
  {
   "cell_type": "code",
   "execution_count": 71,
   "metadata": {},
   "outputs": [
    {
     "data": {
      "text/html": [
       "<div>\n",
       "<style scoped>\n",
       "    .dataframe tbody tr th:only-of-type {\n",
       "        vertical-align: middle;\n",
       "    }\n",
       "\n",
       "    .dataframe tbody tr th {\n",
       "        vertical-align: top;\n",
       "    }\n",
       "\n",
       "    .dataframe thead th {\n",
       "        text-align: right;\n",
       "    }\n",
       "</style>\n",
       "<table border=\"1\" class=\"dataframe\">\n",
       "  <thead>\n",
       "    <tr style=\"text-align: right;\">\n",
       "      <th></th>\n",
       "      <th>fisher_score</th>\n",
       "    </tr>\n",
       "  </thead>\n",
       "  <tbody>\n",
       "    <tr>\n",
       "      <td>average_donated</td>\n",
       "      <td>0.357040</td>\n",
       "    </tr>\n",
       "    <tr>\n",
       "      <td>max_donated</td>\n",
       "      <td>0.314969</td>\n",
       "    </tr>\n",
       "    <tr>\n",
       "      <td>total_donated</td>\n",
       "      <td>0.245852</td>\n",
       "    </tr>\n",
       "    <tr>\n",
       "      <td>is_Unknown</td>\n",
       "      <td>0.127677</td>\n",
       "    </tr>\n",
       "    <tr>\n",
       "      <td>avg_days_gap</td>\n",
       "      <td>0.123835</td>\n",
       "    </tr>\n",
       "    <tr>\n",
       "      <td>days_since_last</td>\n",
       "      <td>0.122245</td>\n",
       "    </tr>\n",
       "    <tr>\n",
       "      <td>language</td>\n",
       "      <td>0.091121</td>\n",
       "    </tr>\n",
       "    <tr>\n",
       "      <td>from_Walloon Brabant</td>\n",
       "      <td>0.090707</td>\n",
       "    </tr>\n",
       "    <tr>\n",
       "      <td>is_Sotro</td>\n",
       "      <td>0.086398</td>\n",
       "    </tr>\n",
       "    <tr>\n",
       "      <td>is_Couple</td>\n",
       "      <td>0.080646</td>\n",
       "    </tr>\n",
       "    <tr>\n",
       "      <td>from_Brussels Capital Region</td>\n",
       "      <td>0.065234</td>\n",
       "    </tr>\n",
       "    <tr>\n",
       "      <td>from_Limburg</td>\n",
       "      <td>0.049697</td>\n",
       "    </tr>\n",
       "    <tr>\n",
       "      <td>from_Hainaut</td>\n",
       "      <td>0.048508</td>\n",
       "    </tr>\n",
       "    <tr>\n",
       "      <td>is_Male</td>\n",
       "      <td>0.048493</td>\n",
       "    </tr>\n",
       "    <tr>\n",
       "      <td>is_Female</td>\n",
       "      <td>0.044839</td>\n",
       "    </tr>\n",
       "  </tbody>\n",
       "</table>\n",
       "</div>"
      ],
      "text/plain": [
       "                              fisher_score\n",
       "average_donated                   0.357040\n",
       "max_donated                       0.314969\n",
       "total_donated                     0.245852\n",
       "is_Unknown                        0.127677\n",
       "avg_days_gap                      0.123835\n",
       "days_since_last                   0.122245\n",
       "language                          0.091121\n",
       "from_Walloon Brabant              0.090707\n",
       "is_Sotro                          0.086398\n",
       "is_Couple                         0.080646\n",
       "from_Brussels Capital Region      0.065234\n",
       "from_Limburg                      0.049697\n",
       "from_Hainaut                      0.048508\n",
       "is_Male                           0.048493\n",
       "is_Female                         0.044839"
      ]
     },
     "execution_count": 71,
     "metadata": {},
     "output_type": "execute_result"
    }
   ],
   "source": [
    "# Extract top 15 variables\n",
    "fs[:15]"
   ]
  },
  {
   "cell_type": "code",
   "execution_count": 72,
   "metadata": {},
   "outputs": [
    {
     "data": {
      "text/plain": [
       "Index(['average_donated', 'max_donated', 'total_donated', 'is_Unknown',\n",
       "       'avg_days_gap', 'days_since_last', 'language', 'from_Walloon Brabant',\n",
       "       'is_Sotro', 'is_Couple', 'from_Brussels Capital Region', 'from_Limburg',\n",
       "       'from_Hainaut', 'is_Male', 'is_Female'],\n",
       "      dtype='object')"
      ]
     },
     "execution_count": 72,
     "metadata": {},
     "output_type": "execute_result"
    }
   ],
   "source": [
    "fs.index[:15]"
   ]
  },
  {
   "cell_type": "code",
   "execution_count": 73,
   "metadata": {},
   "outputs": [],
   "source": [
    "#Fitting the random forest with custom parameters (we experienced different sets of parameters, varying from 10 to 1000 estimators, 1 to 50 depth)\n",
    "randomForest = RandomForestClassifier(n_estimators = 300, class_weight='balanced',max_depth=4)\n"
   ]
  },
  {
   "cell_type": "code",
   "execution_count": 74,
   "metadata": {},
   "outputs": [
    {
     "name": "stdout",
     "output_type": "stream",
     "text": [
      "['total_donated' 'average_donated' 'times_donated' 'max_donated'\n",
      " 'avg_days_gap' 'days_since_first' 'days_since_last' 'language'\n",
      " 'is_Couple' 'is_Female' 'is_Male' 'is_Sotro' 'is_Unknown' 'from_Antwerp'\n",
      " 'from_Brussels Capital Region' 'from_East Flanders'\n",
      " 'from_Flemish Brabant' 'from_Hainaut' 'from_Limburg' 'from_Liège'\n",
      " 'from_Luxembourg' 'from_Namur' 'from_Walloon Brabant'\n",
      " 'from_West Flanders'] 0.7351515680636397 0.7276453899915936 0.6907973188183623\n"
     ]
    }
   ],
   "source": [
    "randomForest.fit(trainingSet[selected], trainingSet[target])\n",
    "\n",
    "trainingSet[\"proba donated\"] = DataFrame(randomForest.predict_proba(trainingSet[selected]))[1]\n",
    "validationSet[\"proba donated\"]     = DataFrame(randomForest.predict_proba(validationSet[selected]))[1]\n",
    "testSet[\"proba donated\"]     = DataFrame(randomForest.predict_proba(testSet[selected]))[1]\n",
    "\n",
    "aucTraining       = roc_auc_score(array(trainingSet[target]),array(trainingSet[\"proba donated\"]))\n",
    "aucValidation     = roc_auc_score(array(validationSet[target]),array(validationSet[\"proba donated\"]))\n",
    "aucTest           = roc_auc_score(array(testSet[target]),array(testSet[\"proba donated\"]))\n",
    "        \n",
    "trainingSet.drop(\"proba donated\", axis = 1)\n",
    "validationSet.drop(\"proba donated\", axis = 1)\n",
    "testSet.drop(\"proba donated\",axis=1)\n",
    "\n",
    "print(selected,aucTraining,aucValidation,aucTest)"
   ]
  },
  {
   "cell_type": "code",
   "execution_count": 75,
   "metadata": {},
   "outputs": [
    {
     "data": {
      "text/plain": [
       "array([1.32849659e-01, 3.00676087e-01, 2.90974637e-02, 2.31860496e-01,\n",
       "       7.97398158e-02, 4.29948013e-02, 8.98926209e-02, 1.08676653e-02,\n",
       "       8.36975686e-03, 4.61028977e-03, 2.35581018e-03, 1.29838835e-02,\n",
       "       2.46349640e-02, 1.24306397e-03, 3.54439021e-03, 4.83070338e-03,\n",
       "       3.53113174e-03, 1.46737759e-03, 2.05593832e-03, 3.43951086e-04,\n",
       "       5.26483289e-04, 1.12233224e-04, 1.04370838e-02, 9.74329735e-04])"
      ]
     },
     "execution_count": 75,
     "metadata": {},
     "output_type": "execute_result"
    }
   ],
   "source": [
    "randomForest.feature_importances_"
   ]
  },
  {
   "cell_type": "code",
   "execution_count": 76,
   "metadata": {},
   "outputs": [
    {
     "data": {
      "text/plain": [
       "array([[3013, 3838],\n",
       "       [ 900, 5938]], dtype=int64)"
      ]
     },
     "execution_count": 76,
     "metadata": {},
     "output_type": "execute_result"
    }
   ],
   "source": [
    "#what is it missing in the validationSet ?\n",
    "confusion_matrix(validationSet[target], randomForest.predict(validationSet[selected]))\n",
    "#It is missing some true but mostly predicting false positive"
   ]
  },
  {
   "cell_type": "code",
   "execution_count": 77,
   "metadata": {},
   "outputs": [
    {
     "data": {
      "text/plain": [
       "array([[11897, 15307],\n",
       "       [ 3463, 24091]], dtype=int64)"
      ]
     },
     "execution_count": 77,
     "metadata": {},
     "output_type": "execute_result"
    }
   ],
   "source": [
    "confusion_matrix(trainingSet[target], randomForest.predict(trainingSet[selected]))"
   ]
  },
  {
   "cell_type": "code",
   "execution_count": 78,
   "metadata": {},
   "outputs": [
    {
     "data": {
      "text/plain": [
       "array([[10815, 14543],\n",
       "       [   23,   128]], dtype=int64)"
      ]
     },
     "execution_count": 78,
     "metadata": {},
     "output_type": "execute_result"
    }
   ],
   "source": [
    "confusion_matrix(testSet[target], randomForest.predict(testSet[selected]))"
   ]
  },
  {
   "cell_type": "markdown",
   "metadata": {},
   "source": [
    "#### END OF THE TEST FOR RANDOM FOREST"
   ]
  },
  {
   "cell_type": "code",
   "execution_count": 79,
   "metadata": {},
   "outputs": [],
   "source": [
    "trainingSet = trainingSet.drop(columns=[\"proba donated\"])\n",
    "validationSet = validationSet.drop(columns=[\"proba donated\"])"
   ]
  },
  {
   "cell_type": "markdown",
   "metadata": {},
   "source": [
    "# Testing Linear Regression"
   ]
  },
  {
   "cell_type": "code",
   "execution_count": 80,
   "metadata": {},
   "outputs": [],
   "source": [
    "def stepwiseRegresion (trainingSet: DataFrame, validationSet: DataFrame, selectedFeatures: [str], target: [str], Model = DecisionTreeClassifier()) -> DataFrame:\n",
    "\n",
    "    def computeAUC (forFeatures: [str]) -> ([str],float,float):\n",
    "    \n",
    "        Model.fit(trainingSet[forFeatures], trainingSet[target])\n",
    "\n",
    "        trainingSet[\"proba donated stepwise\"] = DataFrame(Model.predict_proba(trainingSet[forFeatures]))[1]\n",
    "        validationSet[\"proba donated stepwise\"]     = DataFrame(Model.predict_proba(validationSet[forFeatures]))[1]\n",
    "\n",
    "        aucTraining = roc_auc_score(array(trainingSet[target]),array(trainingSet[\"proba donated stepwise\"]))\n",
    "        aucTest     = roc_auc_score(array(validationSet[target]),array(validationSet[\"proba donated stepwise\"]))\n",
    "        \n",
    "        trainingSet.drop(\"proba donated stepwise\", axis = 1)\n",
    "        validationSet.drop(\"proba donated stepwise\", axis = 1)\n",
    "\n",
    "        return (forFeatures,aucTraining,aucTest)\n",
    "\n",
    "    featuresOrder = []\n",
    "    forwardSelection = []\n",
    "    df={}\n",
    "    \n",
    "    for step in range(len(selectedFeatures)):\n",
    "        out=step\n",
    "        print(f\"step {step+1}\" + \" of \" + str(Model)[:12])\n",
    "        aucs = []\n",
    "        for feature in selectedFeatures:\n",
    "            if feature not in featuresOrder:\n",
    "                modelFeatures = featuresOrder.copy()\n",
    "                modelFeatures.append(feature)\n",
    "                aucs.append(computeAUC(forFeatures = modelFeatures))\n",
    "            \n",
    "        steps = DataFrame(aucs)\n",
    "        steps.columns = [\"Feature\",\"AUC training\", \"AUC test\"]\n",
    "        steps = steps.sort_values(by=[\"AUC test\"], ascending = False)\n",
    "\n",
    "        featuresOrder = steps[\"Feature\"].iloc[0]\n",
    "        forwardSelection.append((step+1, steps[\"Feature\"].iloc[0],steps[\"AUC training\"].iloc[0],steps[\"AUC test\"].iloc[0]))\n",
    "        #print(forwardSelection[step][2])\n",
    "        #if (forwardSelection[step][3] < (forwardSelection[step-1][3] -0.01)):\n",
    "         #   print(\"AUC score decreasing ! Stopping stepwise regression.\")\n",
    "          #  out=step-1\n",
    "           # break\n",
    "        \n",
    "        \n",
    "    #df = DataFrame(forwardSelection)\n",
    "    #df.columns = (\"Step\",\"Features\",\"AUC Train\",\"AUC Test\")\n",
    "    \n",
    "    #df[\"model{0}\".format(str(models[testing])[:12])]=forwardSelection[step][1:4]\n",
    "    #print(df)\n",
    "   \n",
    "    return forwardSelection"
   ]
  },
  {
   "cell_type": "code",
   "execution_count": 81,
   "metadata": {},
   "outputs": [
    {
     "name": "stdout",
     "output_type": "stream",
     "text": [
      "step 1 of LogisticRegr\n",
      "step 2 of LogisticRegr\n",
      "step 3 of LogisticRegr\n",
      "step 4 of LogisticRegr\n",
      "step 5 of LogisticRegr\n",
      "step 6 of LogisticRegr\n",
      "step 7 of LogisticRegr\n",
      "step 8 of LogisticRegr\n",
      "step 9 of LogisticRegr\n",
      "step 10 of LogisticRegr\n",
      "step 11 of LogisticRegr\n",
      "step 12 of LogisticRegr\n",
      "step 13 of LogisticRegr\n",
      "step 14 of LogisticRegr\n",
      "step 15 of LogisticRegr\n",
      "step 16 of LogisticRegr\n",
      "step 17 of LogisticRegr\n",
      "step 18 of LogisticRegr\n",
      "step 19 of LogisticRegr\n",
      "step 20 of LogisticRegr\n",
      "step 21 of LogisticRegr\n",
      "step 22 of LogisticRegr\n",
      "step 23 of LogisticRegr\n",
      "step 24 of LogisticRegr\n"
     ]
    }
   ],
   "source": [
    "logistic     = LogisticRegression(solver = \"lbfgs\", max_iter = 1000)\n",
    "linear = stepwiseRegresion(trainingSet      = trainingSet, \n",
    "                                     validationSet          = validationSet, \n",
    "                                     selectedFeatures = selected,\n",
    "                                     target           = target,\n",
    "                                        Model = logistic)\n",
    "    "
   ]
  },
  {
   "cell_type": "code",
   "execution_count": 82,
   "metadata": {},
   "outputs": [
    {
     "name": "stdout",
     "output_type": "stream",
     "text": [
      "     0                                                  1         2         3\n",
      "0    1                                  [average_donated]  0.633302  0.631112\n",
      "1    2                    [average_donated, avg_days_gap]  0.644746  0.642038\n",
      "2    3         [average_donated, avg_days_gap, is_Couple]  0.650030  0.649967\n",
      "3    4  [average_donated, avg_days_gap, is_Couple, is_...  0.655601  0.655544\n",
      "4    5  [average_donated, avg_days_gap, is_Couple, is_...  0.661734  0.660679\n",
      "5    6  [average_donated, avg_days_gap, is_Couple, is_...  0.665872  0.663027\n",
      "6    7  [average_donated, avg_days_gap, is_Couple, is_...  0.668987  0.665455\n",
      "7    8  [average_donated, avg_days_gap, is_Couple, is_...  0.670405  0.667672\n",
      "8    9  [average_donated, avg_days_gap, is_Couple, is_...  0.674143  0.670065\n",
      "9   10  [average_donated, avg_days_gap, is_Couple, is_...  0.677375  0.672700\n",
      "10  11  [average_donated, avg_days_gap, is_Couple, is_...  0.678824  0.674254\n",
      "11  12  [average_donated, avg_days_gap, is_Couple, is_...  0.679483  0.675048\n",
      "12  13  [average_donated, avg_days_gap, is_Couple, is_...  0.680988  0.675484\n",
      "13  14  [average_donated, avg_days_gap, is_Couple, is_...  0.681002  0.675629\n",
      "14  15  [average_donated, avg_days_gap, is_Couple, is_...  0.681108  0.675821\n",
      "15  16  [average_donated, avg_days_gap, is_Couple, is_...  0.681075  0.676013\n",
      "16  17  [average_donated, avg_days_gap, is_Couple, is_...  0.681705  0.676303\n",
      "17  18  [average_donated, avg_days_gap, is_Couple, is_...  0.681829  0.676458\n",
      "18  19  [average_donated, avg_days_gap, is_Couple, is_...  0.681929  0.676486\n",
      "19  20  [average_donated, avg_days_gap, is_Couple, is_...  0.681912  0.676449\n",
      "20  21  [average_donated, avg_days_gap, is_Couple, is_...  0.682324  0.676268\n",
      "21  22  [average_donated, avg_days_gap, is_Couple, is_...  0.682331  0.676112\n",
      "22  23  [average_donated, avg_days_gap, is_Couple, is_...  0.682332  0.675929\n",
      "23  24  [average_donated, avg_days_gap, is_Couple, is_...  0.682310  0.675934\n"
     ]
    }
   ],
   "source": [
    "linear2 = DataFrame(linear)\n",
    "print(linear2)\n",
    "feat=linear2.iloc[19,1]"
   ]
  },
  {
   "cell_type": "code",
   "execution_count": 83,
   "metadata": {},
   "outputs": [
    {
     "data": {
      "image/png": "[encoded data removed]",
      "text/plain": [
       "<Figure size 432x288 with 1 Axes>"
      ]
     },
     "metadata": {},
     "output_type": "display_data"
    }
   ],
   "source": [
    "plt.plot(linear2.iloc[:,2])\n",
    "plt.plot(linear2.iloc[:,3])\n",
    "plt.show()"
   ]
  },
  {
   "cell_type": "code",
   "execution_count": 84,
   "metadata": {},
   "outputs": [],
   "source": [
    "logistic.fit(trainingSet[feat], trainingSet[target])\n",
    "\n",
    "trainingSet[\"proba donated stepwise\"] = DataFrame(logistic.predict_proba(trainingSet[feat]))[1]\n",
    "validationSet[\"proba donated stepwise\"]     = DataFrame(logistic.predict_proba(validationSet[feat]))[1]\n",
    "testSet[\"proba donated stepwise\"]     = DataFrame(logistic.predict_proba(testSet[feat]))[1]\n",
    "\n",
    "aucTraining = roc_auc_score(array(trainingSet[target]),array(trainingSet[\"proba donated stepwise\"]))\n",
    "aucValidation     = roc_auc_score(array(validationSet[target]),array(validationSet[\"proba donated stepwise\"]))\n",
    "aucTest     = roc_auc_score(array(testSet[target]),array(testSet[\"proba donated stepwise\"]))\n",
    "        \n",
    "#trainingSet.drop(\"proba donated stepwise\", axis = 1)\n",
    "#validationSet.drop(\"proba donated stepwise\", axis = 1)"
   ]
  },
  {
   "cell_type": "code",
   "execution_count": 85,
   "metadata": {},
   "outputs": [
    {
     "name": "stdout",
     "output_type": "stream",
     "text": [
      "[[14534 12670]\n",
      " [ 7570 19984]]\n",
      "[[3663 3188]\n",
      " [1901 4937]]\n",
      "[[12277 13081]\n",
      " [   35   116]]\n"
     ]
    }
   ],
   "source": [
    "# Let's see the proportions of true positive predicted by the logistic regression\n",
    "print(confusion_matrix(trainingSet[target], logistic.predict(trainingSet[feat])))\n",
    "print(confusion_matrix(validationSet[target], logistic.predict(validationSet[feat])))\n",
    "print(confusion_matrix(testSet[target], logistic.predict(testSet[feat])))"
   ]
  },
  {
   "cell_type": "code",
   "execution_count": 86,
   "metadata": {},
   "outputs": [],
   "source": [
    "rocTraining = roc(dataSet = trainingSet, actuals = target, probability = \"proba donated stepwise\")\n",
    "rocValidation     = roc(dataSet = validationSet, actuals = target, probability = \"proba donated stepwise\")\n",
    "rocTest     = roc(dataSet = testSet, actuals = target, probability = \"proba donated stepwise\")"
   ]
  },
  {
   "cell_type": "code",
   "execution_count": 87,
   "metadata": {},
   "outputs": [
    {
     "data": {
      "text/plain": [
       "Text(0.5, 1.0, 'Receiver Operating Characteristic')"
      ]
     },
     "execution_count": 87,
     "metadata": {},
     "output_type": "execute_result"
    },
    {
     "data": {
      "image/png": "[encoded data removed]",
      "text/plain": [
       "<Figure size 432x288 with 1 Axes>"
      ]
     },
     "metadata": {},
     "output_type": "display_data"
    }
   ],
   "source": [
    "pyplot.plot(rocTraining[\"False positive rate\"], rocTraining[\"True positive rate\"])\n",
    "pyplot.plot([0, 1], [0, 1], 'k--')\n",
    "pyplot.xlim([0.0, 1.0])\n",
    "pyplot.ylim([0.0, 1.0])\n",
    "pyplot.xlabel(\"False Positive Rate or (1 - Specifity)\")\n",
    "pyplot.ylabel(\"True Positive Rate or (Sensitivity)\")\n",
    "pyplot.title(\"Receiver Operating Characteristic\")"
   ]
  },
  {
   "cell_type": "code",
   "execution_count": 88,
   "metadata": {},
   "outputs": [
    {
     "data": {
      "text/plain": [
       "Text(0.5, 1.0, 'Receiver Operating Characteristic')"
      ]
     },
     "execution_count": 88,
     "metadata": {},
     "output_type": "execute_result"
    },
    {
     "data": {
      "image/png": "[encoded data removed]",
      "text/plain": [
       "<Figure size 432x288 with 1 Axes>"
      ]
     },
     "metadata": {},
     "output_type": "display_data"
    }
   ],
   "source": [
    "pyplot.plot(rocValidation[\"False positive rate\"], rocValidation[\"True positive rate\"])\n",
    "pyplot.plot([0, 1], [0, 1], 'k--')\n",
    "pyplot.xlim([0.0, 1.0])\n",
    "pyplot.ylim([0.0, 1.0])\n",
    "pyplot.xlabel(\"False Positive Rate or (1 - Specifity)\")\n",
    "pyplot.ylabel(\"True Positive Rate or (Sensitivity)\")\n",
    "pyplot.title(\"Receiver Operating Characteristic\")"
   ]
  },
  {
   "cell_type": "code",
   "execution_count": 89,
   "metadata": {},
   "outputs": [
    {
     "data": {
      "text/plain": [
       "Text(0.5, 1.0, 'Receiver Operating Characteristic')"
      ]
     },
     "execution_count": 89,
     "metadata": {},
     "output_type": "execute_result"
    },
    {
     "data": {
      "image/png": "[encoded data removed]",
      "text/plain": [
       "<Figure size 432x288 with 1 Axes>"
      ]
     },
     "metadata": {},
     "output_type": "display_data"
    }
   ],
   "source": [
    "pyplot.plot(rocTest[\"False positive rate\"], rocTest[\"True positive rate\"])\n",
    "pyplot.plot([0, 1], [0, 1], 'k--')\n",
    "pyplot.xlim([0.0, 1.0])\n",
    "pyplot.ylim([0.0, 1.0])\n",
    "pyplot.xlabel(\"False Positive Rate or (1 - Specifity)\")\n",
    "pyplot.ylabel(\"True Positive Rate or (Sensitivity)\")\n",
    "pyplot.title(\"Receiver Operating Characteristic\")"
   ]
  },
  {
   "cell_type": "code",
   "execution_count": 90,
   "metadata": {},
   "outputs": [
    {
     "name": "stderr",
     "output_type": "stream",
     "text": [
      "C:\\Users\\jmotyl\\Documents\\Predictive analysis\\group project\\ieseg.py:70: SettingWithCopyWarning: \n",
      "A value is trying to be set on a copy of a slice from a DataFrame.\n",
      "Try using .loc[row_indexer,col_indexer] = value instead\n",
      "\n",
      "See the caveats in the documentation: http://pandas.pydata.org/pandas-docs/stable/user_guide/indexing.html#returning-a-view-versus-a-copy\n",
      "  internalSet[\"Bin\"] = 0\n",
      "C:\\Users\\jmotyl\\AppData\\Local\\Continuum\\anaconda3\\lib\\site-packages\\pandas\\core\\indexing.py:376: SettingWithCopyWarning: \n",
      "A value is trying to be set on a copy of a slice from a DataFrame.\n",
      "Try using .loc[row_indexer,col_indexer] = value instead\n",
      "\n",
      "See the caveats in the documentation: http://pandas.pydata.org/pandas-docs/stable/user_guide/indexing.html#returning-a-view-versus-a-copy\n",
      "  self.obj[key] = _infer_fill_value(value)\n",
      "C:\\Users\\jmotyl\\AppData\\Local\\Continuum\\anaconda3\\lib\\site-packages\\pandas\\core\\indexing.py:494: SettingWithCopyWarning: \n",
      "A value is trying to be set on a copy of a slice from a DataFrame.\n",
      "Try using .loc[row_indexer,col_indexer] = value instead\n",
      "\n",
      "See the caveats in the documentation: http://pandas.pydata.org/pandas-docs/stable/user_guide/indexing.html#returning-a-view-versus-a-copy\n",
      "  self.obj[item] = s\n",
      "C:\\Users\\jmotyl\\Documents\\Predictive analysis\\group project\\ieseg.py:31: SettingWithCopyWarning: \n",
      "A value is trying to be set on a copy of a slice from a DataFrame.\n",
      "Try using .loc[row_indexer,col_indexer] = value instead\n",
      "\n",
      "See the caveats in the documentation: http://pandas.pydata.org/pandas-docs/stable/user_guide/indexing.html#returning-a-view-versus-a-copy\n",
      "  internalSet[\"Quantile\"] = internalSet[probability + \"_bin\"] / precision\n",
      "C:\\Users\\jmotyl\\Documents\\Predictive analysis\\group project\\ieseg.py:32: SettingWithCopyWarning: \n",
      "A value is trying to be set on a copy of a slice from a DataFrame.\n",
      "Try using .loc[row_indexer,col_indexer] = value instead\n",
      "\n",
      "See the caveats in the documentation: http://pandas.pydata.org/pandas-docs/stable/user_guide/indexing.html#returning-a-view-versus-a-copy\n",
      "  internalSet[\"obs\"]      = 1\n"
     ]
    }
   ],
   "source": [
    "lifts = lift(dataSet = validationSet, actuals = target, probability = \"proba donated stepwise\")"
   ]
  },
  {
   "cell_type": "code",
   "execution_count": 91,
   "metadata": {},
   "outputs": [
    {
     "data": {
      "text/html": [
       "<div>\n",
       "<style scoped>\n",
       "    .dataframe tbody tr th:only-of-type {\n",
       "        vertical-align: middle;\n",
       "    }\n",
       "\n",
       "    .dataframe tbody tr th {\n",
       "        vertical-align: top;\n",
       "    }\n",
       "\n",
       "    .dataframe thead th {\n",
       "        text-align: right;\n",
       "    }\n",
       "</style>\n",
       "<table border=\"1\" class=\"dataframe\">\n",
       "  <thead>\n",
       "    <tr style=\"text-align: right;\">\n",
       "      <th></th>\n",
       "      <th>Quantile</th>\n",
       "      <th>Lift</th>\n",
       "      <th>Base</th>\n",
       "    </tr>\n",
       "  </thead>\n",
       "  <tbody>\n",
       "    <tr>\n",
       "      <td>19</td>\n",
       "      <td>1.00</td>\n",
       "      <td>1.192373</td>\n",
       "      <td>1.0</td>\n",
       "    </tr>\n",
       "    <tr>\n",
       "      <td>18</td>\n",
       "      <td>0.95</td>\n",
       "      <td>1.304446</td>\n",
       "      <td>1.0</td>\n",
       "    </tr>\n",
       "    <tr>\n",
       "      <td>17</td>\n",
       "      <td>0.90</td>\n",
       "      <td>1.314783</td>\n",
       "      <td>1.0</td>\n",
       "    </tr>\n",
       "    <tr>\n",
       "      <td>16</td>\n",
       "      <td>0.85</td>\n",
       "      <td>1.302917</td>\n",
       "      <td>1.0</td>\n",
       "    </tr>\n",
       "    <tr>\n",
       "      <td>15</td>\n",
       "      <td>0.80</td>\n",
       "      <td>1.334212</td>\n",
       "      <td>1.0</td>\n",
       "    </tr>\n",
       "  </tbody>\n",
       "</table>\n",
       "</div>"
      ],
      "text/plain": [
       "    Quantile      Lift  Base\n",
       "19      1.00  1.192373   1.0\n",
       "18      0.95  1.304446   1.0\n",
       "17      0.90  1.314783   1.0\n",
       "16      0.85  1.302917   1.0\n",
       "15      0.80  1.334212   1.0"
      ]
     },
     "execution_count": 91,
     "metadata": {},
     "output_type": "execute_result"
    }
   ],
   "source": [
    "lifts.head()"
   ]
  },
  {
   "cell_type": "code",
   "execution_count": 92,
   "metadata": {},
   "outputs": [
    {
     "data": {
      "text/plain": [
       "Text(0.5, 1.0, 'Lift')"
      ]
     },
     "execution_count": 92,
     "metadata": {},
     "output_type": "execute_result"
    },
    {
     "data": {
      "image/png": "[encoded data removed]",
      "text/plain": [
       "<Figure size 432x288 with 1 Axes>"
      ]
     },
     "metadata": {},
     "output_type": "display_data"
    }
   ],
   "source": [
    "pyplot.plot(lifts[\"Quantile\"], lifts[\"Lift\"])\n",
    "pyplot.gca().invert_xaxis()\n",
    "pyplot.xlabel(\"Quantile\")\n",
    "pyplot.ylabel(\"lift\")\n",
    "pyplot.title(\"Lift\")"
   ]
  },
  {
   "cell_type": "code",
   "execution_count": 93,
   "metadata": {},
   "outputs": [
    {
     "name": "stdout",
     "output_type": "stream",
     "text": [
      "feature: total_donated, cor: 0.04024707128569949, pval:7.25362383072975e-14\n",
      "feature: average_donated, cor: 0.05086846261526995, pval:3.0694353812558243e-21\n",
      "feature: times_donated, cor: 0.006552414900166243, pval:0.22329256153718718\n",
      "feature: max_donated, cor: 0.04609159881667218, pval:1.0262500111260855e-17\n",
      "feature: avg_days_gap, cor: 0.021049761277522935, pval:9.128479623969136e-05\n",
      "feature: days_since_first, cor: 0.003487750934773777, pval:0.5168414700203735\n",
      "feature: days_since_last, cor: -0.020042408690439998, pval:0.0001950222767853204\n",
      "feature: language, cor: -0.013930490077234276, pval:0.009620128374073762\n",
      "feature: is_Couple, cor: 0.013603044293669014, pval:0.011460784719974994\n",
      "feature: is_Female, cor: -0.007204105833847856, pval:0.18058871444457644\n",
      "feature: is_Male, cor: 0.008268287545133824, pval:0.12435744076307846\n",
      "feature: is_Sotro, cor: -0.012864319274827564, pval:0.01680202720021728\n",
      "feature: is_Unknown, cor: -0.01638143748764678, pval:0.002328391019382245\n",
      "feature: from_Antwerp, cor: 0.002136233793324652, pval:0.6913434264164763\n",
      "feature: from_Brussels Capital Region, cor: -0.009704201062836027, pval:0.07128969211588669\n",
      "feature: from_East Flanders, cor: 0.0047757680120925445, pval:0.3747501378513047\n",
      "feature: from_Flemish Brabant, cor: 0.003945156301990402, pval:0.46341552375808365\n",
      "feature: from_Hainaut, cor: -0.007349911867011718, pval:0.17192496395084073\n",
      "feature: from_Limburg, cor: -0.0074451494107058095, pval:0.16643630082143868\n",
      "feature: from_Liège, cor: -0.0019059598031561154, pval:0.7231630536403943\n",
      "feature: from_Luxembourg, cor: 0.0014669533202707045, pval:0.7851281084945217\n",
      "feature: from_Namur, cor: -0.000624531097176836, pval:0.9075947328159049\n",
      "feature: from_Walloon Brabant, cor: -0.01072554799537802, pval:0.04621042716022257\n",
      "feature: from_West Flanders, cor: 0.00441107894732703, pval:0.4123130047903574\n",
      "['total_donated', 'average_donated', 'max_donated', 'avg_days_gap', 'days_since_last', 'language', 'is_Couple', 'is_Sotro', 'is_Unknown', 'from_Walloon Brabant']\n"
     ]
    }
   ],
   "source": [
    "#feature selection\n",
    "from scipy.stats import pearsonr\n",
    "target = \"above35\"\n",
    "featselected = []\n",
    "featureSet= trainingSet.columns\n",
    "drop = [\"donorID\", \"amount\", \"above35\", \"proba donated stepwise\"]\n",
    "for col in featureSet:\n",
    "    if col not in drop:\n",
    "        cor, pval = pearsonr(campaign2013V1[col], campaign2013V1[target])\n",
    "        print(f\"feature: {col}, cor: {cor}, pval:{pval}\")\n",
    "        if (cor > 0.01) | (cor < -0.01): #We only want to select features that are correlated to at least 1% to our target\n",
    "            featselected.append(col)\n",
    "print(featselected)"
   ]
  },
  {
   "cell_type": "markdown",
   "metadata": {},
   "source": [
    "#### Checking if some features are higly correlated"
   ]
  },
  {
   "cell_type": "code",
   "execution_count": 94,
   "metadata": {},
   "outputs": [
    {
     "data": {
      "text/html": [
       "<div>\n",
       "<style scoped>\n",
       "    .dataframe tbody tr th:only-of-type {\n",
       "        vertical-align: middle;\n",
       "    }\n",
       "\n",
       "    .dataframe tbody tr th {\n",
       "        vertical-align: top;\n",
       "    }\n",
       "\n",
       "    .dataframe thead th {\n",
       "        text-align: right;\n",
       "    }\n",
       "</style>\n",
       "<table border=\"1\" class=\"dataframe\">\n",
       "  <thead>\n",
       "    <tr style=\"text-align: right;\">\n",
       "      <th></th>\n",
       "      <th>total_donated</th>\n",
       "      <th>average_donated</th>\n",
       "      <th>max_donated</th>\n",
       "      <th>avg_days_gap</th>\n",
       "      <th>days_since_last</th>\n",
       "      <th>language</th>\n",
       "      <th>is_Couple</th>\n",
       "      <th>is_Sotro</th>\n",
       "      <th>is_Unknown</th>\n",
       "      <th>from_Walloon Brabant</th>\n",
       "    </tr>\n",
       "  </thead>\n",
       "  <tbody>\n",
       "    <tr>\n",
       "      <td>total_donated</td>\n",
       "      <td>1.000000</td>\n",
       "      <td>0.597672</td>\n",
       "      <td>0.743726</td>\n",
       "      <td>0.683444</td>\n",
       "      <td>-0.199925</td>\n",
       "      <td>-0.129515</td>\n",
       "      <td>-0.051447</td>\n",
       "      <td>0.059294</td>\n",
       "      <td>-0.054142</td>\n",
       "      <td>-0.036912</td>\n",
       "    </tr>\n",
       "    <tr>\n",
       "      <td>average_donated</td>\n",
       "      <td>0.597672</td>\n",
       "      <td>1.000000</td>\n",
       "      <td>0.939486</td>\n",
       "      <td>0.112006</td>\n",
       "      <td>-0.072113</td>\n",
       "      <td>-0.027905</td>\n",
       "      <td>-0.010632</td>\n",
       "      <td>0.114785</td>\n",
       "      <td>-0.041831</td>\n",
       "      <td>-0.013566</td>\n",
       "    </tr>\n",
       "    <tr>\n",
       "      <td>max_donated</td>\n",
       "      <td>0.743726</td>\n",
       "      <td>0.939486</td>\n",
       "      <td>1.000000</td>\n",
       "      <td>0.277866</td>\n",
       "      <td>-0.104870</td>\n",
       "      <td>-0.053901</td>\n",
       "      <td>-0.021958</td>\n",
       "      <td>0.115307</td>\n",
       "      <td>-0.047425</td>\n",
       "      <td>-0.019712</td>\n",
       "    </tr>\n",
       "    <tr>\n",
       "      <td>avg_days_gap</td>\n",
       "      <td>0.683444</td>\n",
       "      <td>0.112006</td>\n",
       "      <td>0.277866</td>\n",
       "      <td>1.000000</td>\n",
       "      <td>-0.137350</td>\n",
       "      <td>-0.152548</td>\n",
       "      <td>-0.036974</td>\n",
       "      <td>-0.023544</td>\n",
       "      <td>-0.032683</td>\n",
       "      <td>-0.036885</td>\n",
       "    </tr>\n",
       "    <tr>\n",
       "      <td>days_since_last</td>\n",
       "      <td>-0.199925</td>\n",
       "      <td>-0.072113</td>\n",
       "      <td>-0.104870</td>\n",
       "      <td>-0.137350</td>\n",
       "      <td>1.000000</td>\n",
       "      <td>-0.220825</td>\n",
       "      <td>-0.122200</td>\n",
       "      <td>0.075624</td>\n",
       "      <td>0.063974</td>\n",
       "      <td>-0.046079</td>\n",
       "    </tr>\n",
       "    <tr>\n",
       "      <td>language</td>\n",
       "      <td>-0.129515</td>\n",
       "      <td>-0.027905</td>\n",
       "      <td>-0.053901</td>\n",
       "      <td>-0.152548</td>\n",
       "      <td>-0.220825</td>\n",
       "      <td>1.000000</td>\n",
       "      <td>-0.034858</td>\n",
       "      <td>0.001653</td>\n",
       "      <td>-0.022227</td>\n",
       "      <td>0.220895</td>\n",
       "    </tr>\n",
       "    <tr>\n",
       "      <td>is_Couple</td>\n",
       "      <td>-0.051447</td>\n",
       "      <td>-0.010632</td>\n",
       "      <td>-0.021958</td>\n",
       "      <td>-0.036974</td>\n",
       "      <td>-0.122200</td>\n",
       "      <td>-0.034858</td>\n",
       "      <td>1.000000</td>\n",
       "      <td>-0.094510</td>\n",
       "      <td>-0.062875</td>\n",
       "      <td>-0.006790</td>\n",
       "    </tr>\n",
       "    <tr>\n",
       "      <td>is_Sotro</td>\n",
       "      <td>0.059294</td>\n",
       "      <td>0.114785</td>\n",
       "      <td>0.115307</td>\n",
       "      <td>-0.023544</td>\n",
       "      <td>0.075624</td>\n",
       "      <td>0.001653</td>\n",
       "      <td>-0.094510</td>\n",
       "      <td>1.000000</td>\n",
       "      <td>-0.026965</td>\n",
       "      <td>-0.003933</td>\n",
       "    </tr>\n",
       "    <tr>\n",
       "      <td>is_Unknown</td>\n",
       "      <td>-0.054142</td>\n",
       "      <td>-0.041831</td>\n",
       "      <td>-0.047425</td>\n",
       "      <td>-0.032683</td>\n",
       "      <td>0.063974</td>\n",
       "      <td>-0.022227</td>\n",
       "      <td>-0.062875</td>\n",
       "      <td>-0.026965</td>\n",
       "      <td>1.000000</td>\n",
       "      <td>-0.006361</td>\n",
       "    </tr>\n",
       "    <tr>\n",
       "      <td>from_Walloon Brabant</td>\n",
       "      <td>-0.036912</td>\n",
       "      <td>-0.013566</td>\n",
       "      <td>-0.019712</td>\n",
       "      <td>-0.036885</td>\n",
       "      <td>-0.046079</td>\n",
       "      <td>0.220895</td>\n",
       "      <td>-0.006790</td>\n",
       "      <td>-0.003933</td>\n",
       "      <td>-0.006361</td>\n",
       "      <td>1.000000</td>\n",
       "    </tr>\n",
       "  </tbody>\n",
       "</table>\n",
       "</div>"
      ],
      "text/plain": [
       "                      total_donated  average_donated  max_donated  \\\n",
       "total_donated              1.000000         0.597672     0.743726   \n",
       "average_donated            0.597672         1.000000     0.939486   \n",
       "max_donated                0.743726         0.939486     1.000000   \n",
       "avg_days_gap               0.683444         0.112006     0.277866   \n",
       "days_since_last           -0.199925        -0.072113    -0.104870   \n",
       "language                  -0.129515        -0.027905    -0.053901   \n",
       "is_Couple                 -0.051447        -0.010632    -0.021958   \n",
       "is_Sotro                   0.059294         0.114785     0.115307   \n",
       "is_Unknown                -0.054142        -0.041831    -0.047425   \n",
       "from_Walloon Brabant      -0.036912        -0.013566    -0.019712   \n",
       "\n",
       "                      avg_days_gap  days_since_last  language  is_Couple  \\\n",
       "total_donated             0.683444        -0.199925 -0.129515  -0.051447   \n",
       "average_donated           0.112006        -0.072113 -0.027905  -0.010632   \n",
       "max_donated               0.277866        -0.104870 -0.053901  -0.021958   \n",
       "avg_days_gap              1.000000        -0.137350 -0.152548  -0.036974   \n",
       "days_since_last          -0.137350         1.000000 -0.220825  -0.122200   \n",
       "language                 -0.152548        -0.220825  1.000000  -0.034858   \n",
       "is_Couple                -0.036974        -0.122200 -0.034858   1.000000   \n",
       "is_Sotro                 -0.023544         0.075624  0.001653  -0.094510   \n",
       "is_Unknown               -0.032683         0.063974 -0.022227  -0.062875   \n",
       "from_Walloon Brabant     -0.036885        -0.046079  0.220895  -0.006790   \n",
       "\n",
       "                      is_Sotro  is_Unknown  from_Walloon Brabant  \n",
       "total_donated         0.059294   -0.054142             -0.036912  \n",
       "average_donated       0.114785   -0.041831             -0.013566  \n",
       "max_donated           0.115307   -0.047425             -0.019712  \n",
       "avg_days_gap         -0.023544   -0.032683             -0.036885  \n",
       "days_since_last       0.075624    0.063974             -0.046079  \n",
       "language              0.001653   -0.022227              0.220895  \n",
       "is_Couple            -0.094510   -0.062875             -0.006790  \n",
       "is_Sotro              1.000000   -0.026965             -0.003933  \n",
       "is_Unknown           -0.026965    1.000000             -0.006361  \n",
       "from_Walloon Brabant -0.003933   -0.006361              1.000000  "
      ]
     },
     "execution_count": 94,
     "metadata": {},
     "output_type": "execute_result"
    }
   ],
   "source": [
    "trainingSet[featselected].corr()"
   ]
  },
  {
   "cell_type": "code",
   "execution_count": 95,
   "metadata": {},
   "outputs": [],
   "source": [
    "#dropping max_donated as it has a lower Fisher score than average_donated\n",
    "featselected.remove(\"max_donated\")"
   ]
  },
  {
   "cell_type": "code",
   "execution_count": 96,
   "metadata": {},
   "outputs": [
    {
     "name": "stdout",
     "output_type": "stream",
     "text": [
      "['total_donated', 'average_donated', 'avg_days_gap', 'days_since_last', 'language', 'is_Couple', 'is_Sotro', 'is_Unknown', 'from_Walloon Brabant']\n"
     ]
    }
   ],
   "source": [
    "print(featselected)"
   ]
  },
  {
   "cell_type": "markdown",
   "metadata": {},
   "source": [
    "### Let's make sure our feature selection is relevant by comparing it with the Fisher score method"
   ]
  },
  {
   "cell_type": "code",
   "execution_count": 97,
   "metadata": {},
   "outputs": [
    {
     "data": {
      "text/plain": [
       "0.7121698417956465"
      ]
     },
     "execution_count": 97,
     "metadata": {},
     "output_type": "execute_result"
    }
   ],
   "source": [
    "# Decision Tree (DT)\n",
    "from sklearn.model_selection import cross_val_score\n",
    "\n",
    "dt_churn = DecisionTreeClassifier(max_depth=10)\n",
    "dt_churn.fit(trainingSet[featselected],trainingSet[target])\n",
    "\n",
    "# Evaluate using cross-validation\n",
    "score = cross_val_score(dt_churn, campaign2013V1_upsampled[featselected],campaign2013V1_upsampled[target], cv=5, scoring='roc_auc')  # k=5\n",
    "score.mean()"
   ]
  },
  {
   "cell_type": "code",
   "execution_count": 98,
   "metadata": {},
   "outputs": [
    {
     "data": {
      "text/plain": [
       "0.7027791466505867"
      ]
     },
     "execution_count": 98,
     "metadata": {},
     "output_type": "execute_result"
    }
   ],
   "source": [
    "# Decision Tree (DT)\n",
    "dt_churn = DecisionTreeClassifier(max_depth=10)\n",
    "dt_churn.fit(trainingSet[fs.index[:15]],trainingSet[target])\n",
    "\n",
    "# Evaluate using cross-validation\n",
    "score = cross_val_score(dt_churn, campaign2013V1_upsampled[fs.index[:15]],campaign2013V1_upsampled[target], cv=5, scoring='roc_auc')  # k=5\n",
    "score.mean()"
   ]
  },
  {
   "cell_type": "code",
   "execution_count": 99,
   "metadata": {},
   "outputs": [
    {
     "data": {
      "text/plain": [
       "0.5993509820309628"
      ]
     },
     "execution_count": 99,
     "metadata": {},
     "output_type": "execute_result"
    }
   ],
   "source": [
    "# Logistic Regression\n",
    "lr_churn = LogisticRegression(solver = \"lbfgs\", max_iter = 1000, class_weight='balanced')\n",
    "lr_churn.fit(trainingSet[featselected],trainingSet[target])\n",
    "\n",
    "# Evaluate using cross-validation\n",
    "score = cross_val_score(lr_churn, campaign2013V1_upsampled[featselected],campaign2013V1_upsampled[target], cv=5, scoring='roc_auc')  # k=5\n",
    "score.mean()"
   ]
  },
  {
   "cell_type": "code",
   "execution_count": 100,
   "metadata": {},
   "outputs": [
    {
     "data": {
      "text/plain": [
       "0.6037508794438191"
      ]
     },
     "execution_count": 100,
     "metadata": {},
     "output_type": "execute_result"
    }
   ],
   "source": [
    "# Logistic Regression\n",
    "lr_churn = LogisticRegression(solver = \"lbfgs\", max_iter = 1000, class_weight='balanced')\n",
    "lr_churn.fit(trainingSet[fs.index[:15]],trainingSet[target])\n",
    "\n",
    "# Evaluate using cross-validation\n",
    "score = cross_val_score(lr_churn, campaign2013V1_upsampled[fs.index[:15]],campaign2013V1_upsampled[target], cv=5, scoring='roc_auc')  # k=5\n",
    "score.mean()"
   ]
  },
  {
   "cell_type": "code",
   "execution_count": 101,
   "metadata": {},
   "outputs": [
    {
     "data": {
      "text/plain": [
       "0.623694511966671"
      ]
     },
     "execution_count": 101,
     "metadata": {},
     "output_type": "execute_result"
    }
   ],
   "source": [
    "#random forest\n",
    "rf_churn = RandomForestClassifier(n_estimators = 300, class_weight='balanced',max_depth=4,random_state=123)\n",
    "rf_churn.fit(trainingSet[featselected],trainingSet[target])\n",
    "\n",
    "# Evaluate using cross-validation\n",
    "score = cross_val_score(rf_churn, campaign2013V1_upsampled[featselected],campaign2013V1_upsampled[target], cv=5, scoring='roc_auc')  # k=5\n",
    "score.mean()"
   ]
  },
  {
   "cell_type": "code",
   "execution_count": 102,
   "metadata": {},
   "outputs": [
    {
     "data": {
      "text/plain": [
       "0.6440836781027766"
      ]
     },
     "execution_count": 102,
     "metadata": {},
     "output_type": "execute_result"
    }
   ],
   "source": [
    "#random forest\n",
    "rf_churn = RandomForestClassifier(n_estimators = 300, class_weight='balanced',max_depth=4,random_state=123)\n",
    "rf_churn.fit(trainingSet[fs.index[:15]],trainingSet[target])\n",
    "\n",
    "# Evaluate using cross-validation\n",
    "score = cross_val_score(rf_churn, campaign2013V1_upsampled[fs.index[:15]],campaign2013V1_upsampled[target], cv=5, scoring='roc_auc')  # k=5\n",
    "score.mean()"
   ]
  },
  {
   "cell_type": "code",
   "execution_count": 103,
   "metadata": {},
   "outputs": [
    {
     "data": {
      "text/plain": [
       "0.8399503040389229"
      ]
     },
     "execution_count": 103,
     "metadata": {},
     "output_type": "execute_result"
    }
   ],
   "source": [
    "# Gradient Boost Regression\n",
    "lr_churn = GradientBoostingClassifier(max_depth=4, n_estimators= 300, validation_fraction=0.2)\n",
    "lr_churn.fit(trainingSet[featselected],trainingSet[target])\n",
    "\n",
    "# Evaluate using cross-validation\n",
    "score = cross_val_score(lr_churn, campaign2013V1_upsampled[featselected],campaign2013V1_upsampled[target], cv=5, scoring='roc_auc')  # k=5\n",
    "score.mean()"
   ]
  },
  {
   "cell_type": "code",
   "execution_count": 104,
   "metadata": {},
   "outputs": [
    {
     "data": {
      "text/plain": [
       "0.8506736761957363"
      ]
     },
     "execution_count": 104,
     "metadata": {},
     "output_type": "execute_result"
    }
   ],
   "source": [
    "# Gradient Boost Regression\n",
    "lr_churn = GradientBoostingClassifier(max_depth=4, n_estimators= 300, validation_fraction=0.2)\n",
    "lr_churn.fit(trainingSet[fs.index[:15]],trainingSet[target])\n",
    "\n",
    "# Evaluate using cross-validation\n",
    "score = cross_val_score(lr_churn, campaign2013V1_upsampled[fs.index[:15]],campaign2013V1_upsampled[target], cv=5, scoring='roc_auc')  # k=5\n",
    "score.mean()"
   ]
  },
  {
   "cell_type": "code",
   "execution_count": 105,
   "metadata": {},
   "outputs": [],
   "source": [
    "#2. Instanciate the models\n",
    "\n",
    "tree         = DecisionTreeClassifier(max_depth=4)\n",
    "#logistic     = LogisticRegression(solver = \"lbfgs\", max_iter = 1000)\n",
    "#LogisticRegression has been trained before with its own feature selection\n",
    "randomForest = RandomForestClassifier(n_estimators = 300, class_weight='balanced',max_depth=4)\n",
    "boostedTree  = GradientBoostingClassifier(max_depth=4,learning_rate=0.1)\n",
    "neuralNet    = MLPClassifier(max_iter = 1000)\n",
    "neighbors    = KNeighborsClassifier(n_neighbors=4)\n",
    "\n",
    "models = {\"tree\"         :tree,\n",
    "          \"randomForest\" :randomForest, #has been trained above with its own feature selection process, is here for the sake of comparison\n",
    "          \"boostedTree\"  :boostedTree,\n",
    "          \"neuralNet\"    :neuralNet,\n",
    "          \"neighbors\"    :neighbors\n",
    "         }"
   ]
  },
  {
   "cell_type": "markdown",
   "metadata": {},
   "source": [
    "### The score are fairly close, our feature selection by correlation is valid."
   ]
  },
  {
   "cell_type": "code",
   "execution_count": 106,
   "metadata": {},
   "outputs": [
    {
     "name": "stdout",
     "output_type": "stream",
     "text": [
      "tree has been trained successfully\n",
      "randomForest has been trained successfully\n",
      "boostedTree has been trained successfully\n",
      "neuralNet has been trained successfully\n",
      "neighbors has been trained successfully\n"
     ]
    }
   ],
   "source": [
    "#3. Train the models on the training set\n",
    "\n",
    "for model in models:\n",
    "    models[model].fit(trainingSet[featselected],trainingSet[target])\n",
    "    print(f\"{model} has been trained successfully\")"
   ]
  },
  {
   "cell_type": "code",
   "execution_count": 107,
   "metadata": {},
   "outputs": [
    {
     "data": {
      "text/html": [
       "<div>\n",
       "<style scoped>\n",
       "    .dataframe tbody tr th:only-of-type {\n",
       "        vertical-align: middle;\n",
       "    }\n",
       "\n",
       "    .dataframe tbody tr th {\n",
       "        vertical-align: top;\n",
       "    }\n",
       "\n",
       "    .dataframe thead th {\n",
       "        text-align: right;\n",
       "    }\n",
       "</style>\n",
       "<table border=\"1\" class=\"dataframe\">\n",
       "  <thead>\n",
       "    <tr style=\"text-align: right;\">\n",
       "      <th></th>\n",
       "      <th>tree</th>\n",
       "      <th>randomForest</th>\n",
       "      <th>boostedTree</th>\n",
       "      <th>neuralNet</th>\n",
       "      <th>neighbors</th>\n",
       "    </tr>\n",
       "  </thead>\n",
       "  <tbody>\n",
       "    <tr>\n",
       "      <td>AUCValidation</td>\n",
       "      <td>0.698853</td>\n",
       "      <td>0.724192</td>\n",
       "      <td>0.868383</td>\n",
       "      <td>0.760786</td>\n",
       "      <td>0.980066</td>\n",
       "    </tr>\n",
       "  </tbody>\n",
       "</table>\n",
       "</div>"
      ],
      "text/plain": [
       "                   tree  randomForest  boostedTree  neuralNet  neighbors\n",
       "AUCValidation  0.698853      0.724192     0.868383   0.760786   0.980066"
      ]
     },
     "execution_count": 107,
     "metadata": {},
     "output_type": "execute_result"
    }
   ],
   "source": [
    "#4. Compute Accuracy and AUC for each model\n",
    "\n",
    "performances = {}\n",
    "\n",
    "for model in models:\n",
    "    predictions   = models[model].predict(validationSet[featselected])\n",
    "    probabilities = DataFrame(models[model].predict_proba(validationSet[featselected]))[1]\n",
    "    accuracy      = accuracy_score(validationSet[target],predictions)\n",
    "    auc           = roc_auc_score(array(validationSet[target]),array(probabilities))\n",
    "    \n",
    "    performances[model] = {\"AUCValidation\":auc}\n",
    "    \n",
    "DataFrame(performances)"
   ]
  },
  {
   "cell_type": "code",
   "execution_count": 126,
   "metadata": {},
   "outputs": [
    {
     "name": "stderr",
     "output_type": "stream",
     "text": [
      "C:\\Users\\jmotyl\\Documents\\Predictive analysis\\group project\\ieseg.py:70: SettingWithCopyWarning: \n",
      "A value is trying to be set on a copy of a slice from a DataFrame.\n",
      "Try using .loc[row_indexer,col_indexer] = value instead\n",
      "\n",
      "See the caveats in the documentation: http://pandas.pydata.org/pandas-docs/stable/user_guide/indexing.html#returning-a-view-versus-a-copy\n",
      "  internalSet[\"Bin\"] = 0\n",
      "C:\\Users\\jmotyl\\Documents\\Predictive analysis\\group project\\ieseg.py:70: SettingWithCopyWarning: \n",
      "A value is trying to be set on a copy of a slice from a DataFrame.\n",
      "Try using .loc[row_indexer,col_indexer] = value instead\n",
      "\n",
      "See the caveats in the documentation: http://pandas.pydata.org/pandas-docs/stable/user_guide/indexing.html#returning-a-view-versus-a-copy\n",
      "  internalSet[\"Bin\"] = 0\n",
      "C:\\Users\\jmotyl\\Documents\\Predictive analysis\\group project\\ieseg.py:70: SettingWithCopyWarning: \n",
      "A value is trying to be set on a copy of a slice from a DataFrame.\n",
      "Try using .loc[row_indexer,col_indexer] = value instead\n",
      "\n",
      "See the caveats in the documentation: http://pandas.pydata.org/pandas-docs/stable/user_guide/indexing.html#returning-a-view-versus-a-copy\n",
      "  internalSet[\"Bin\"] = 0\n",
      "C:\\Users\\jmotyl\\Documents\\Predictive analysis\\group project\\ieseg.py:70: SettingWithCopyWarning: \n",
      "A value is trying to be set on a copy of a slice from a DataFrame.\n",
      "Try using .loc[row_indexer,col_indexer] = value instead\n",
      "\n",
      "See the caveats in the documentation: http://pandas.pydata.org/pandas-docs/stable/user_guide/indexing.html#returning-a-view-versus-a-copy\n",
      "  internalSet[\"Bin\"] = 0\n",
      "C:\\Users\\jmotyl\\AppData\\Local\\Continuum\\anaconda3\\lib\\site-packages\\pandas\\core\\indexing.py:376: SettingWithCopyWarning: \n",
      "A value is trying to be set on a copy of a slice from a DataFrame.\n",
      "Try using .loc[row_indexer,col_indexer] = value instead\n",
      "\n",
      "See the caveats in the documentation: http://pandas.pydata.org/pandas-docs/stable/user_guide/indexing.html#returning-a-view-versus-a-copy\n",
      "  self.obj[key] = _infer_fill_value(value)\n",
      "C:\\Users\\jmotyl\\AppData\\Local\\Continuum\\anaconda3\\lib\\site-packages\\pandas\\core\\indexing.py:494: SettingWithCopyWarning: \n",
      "A value is trying to be set on a copy of a slice from a DataFrame.\n",
      "Try using .loc[row_indexer,col_indexer] = value instead\n",
      "\n",
      "See the caveats in the documentation: http://pandas.pydata.org/pandas-docs/stable/user_guide/indexing.html#returning-a-view-versus-a-copy\n",
      "  self.obj[item] = s\n",
      "C:\\Users\\jmotyl\\Documents\\Predictive analysis\\group project\\ieseg.py:70: SettingWithCopyWarning: \n",
      "A value is trying to be set on a copy of a slice from a DataFrame.\n",
      "Try using .loc[row_indexer,col_indexer] = value instead\n",
      "\n",
      "See the caveats in the documentation: http://pandas.pydata.org/pandas-docs/stable/user_guide/indexing.html#returning-a-view-versus-a-copy\n",
      "  internalSet[\"Bin\"] = 0\n",
      "C:\\Users\\jmotyl\\AppData\\Local\\Continuum\\anaconda3\\lib\\site-packages\\pandas\\core\\indexing.py:376: SettingWithCopyWarning: \n",
      "A value is trying to be set on a copy of a slice from a DataFrame.\n",
      "Try using .loc[row_indexer,col_indexer] = value instead\n",
      "\n",
      "See the caveats in the documentation: http://pandas.pydata.org/pandas-docs/stable/user_guide/indexing.html#returning-a-view-versus-a-copy\n",
      "  self.obj[key] = _infer_fill_value(value)\n",
      "C:\\Users\\jmotyl\\AppData\\Local\\Continuum\\anaconda3\\lib\\site-packages\\pandas\\core\\indexing.py:494: SettingWithCopyWarning: \n",
      "A value is trying to be set on a copy of a slice from a DataFrame.\n",
      "Try using .loc[row_indexer,col_indexer] = value instead\n",
      "\n",
      "See the caveats in the documentation: http://pandas.pydata.org/pandas-docs/stable/user_guide/indexing.html#returning-a-view-versus-a-copy\n",
      "  self.obj[item] = s\n",
      "C:\\Users\\jmotyl\\Documents\\Predictive analysis\\group project\\ieseg.py:70: SettingWithCopyWarning: \n",
      "A value is trying to be set on a copy of a slice from a DataFrame.\n",
      "Try using .loc[row_indexer,col_indexer] = value instead\n",
      "\n",
      "See the caveats in the documentation: http://pandas.pydata.org/pandas-docs/stable/user_guide/indexing.html#returning-a-view-versus-a-copy\n",
      "  internalSet[\"Bin\"] = 0\n",
      "C:\\Users\\jmotyl\\AppData\\Local\\Continuum\\anaconda3\\lib\\site-packages\\pandas\\core\\indexing.py:376: SettingWithCopyWarning: \n",
      "A value is trying to be set on a copy of a slice from a DataFrame.\n",
      "Try using .loc[row_indexer,col_indexer] = value instead\n",
      "\n",
      "See the caveats in the documentation: http://pandas.pydata.org/pandas-docs/stable/user_guide/indexing.html#returning-a-view-versus-a-copy\n",
      "  self.obj[key] = _infer_fill_value(value)\n",
      "C:\\Users\\jmotyl\\AppData\\Local\\Continuum\\anaconda3\\lib\\site-packages\\pandas\\core\\indexing.py:494: SettingWithCopyWarning: \n",
      "A value is trying to be set on a copy of a slice from a DataFrame.\n",
      "Try using .loc[row_indexer,col_indexer] = value instead\n",
      "\n",
      "See the caveats in the documentation: http://pandas.pydata.org/pandas-docs/stable/user_guide/indexing.html#returning-a-view-versus-a-copy\n",
      "  self.obj[item] = s\n",
      "C:\\Users\\jmotyl\\Documents\\Predictive analysis\\group project\\ieseg.py:70: SettingWithCopyWarning: \n",
      "A value is trying to be set on a copy of a slice from a DataFrame.\n",
      "Try using .loc[row_indexer,col_indexer] = value instead\n",
      "\n",
      "See the caveats in the documentation: http://pandas.pydata.org/pandas-docs/stable/user_guide/indexing.html#returning-a-view-versus-a-copy\n",
      "  internalSet[\"Bin\"] = 0\n",
      "C:\\Users\\jmotyl\\AppData\\Local\\Continuum\\anaconda3\\lib\\site-packages\\pandas\\core\\indexing.py:376: SettingWithCopyWarning: \n",
      "A value is trying to be set on a copy of a slice from a DataFrame.\n",
      "Try using .loc[row_indexer,col_indexer] = value instead\n",
      "\n",
      "See the caveats in the documentation: http://pandas.pydata.org/pandas-docs/stable/user_guide/indexing.html#returning-a-view-versus-a-copy\n",
      "  self.obj[key] = _infer_fill_value(value)\n",
      "C:\\Users\\jmotyl\\AppData\\Local\\Continuum\\anaconda3\\lib\\site-packages\\pandas\\core\\indexing.py:494: SettingWithCopyWarning: \n",
      "A value is trying to be set on a copy of a slice from a DataFrame.\n",
      "Try using .loc[row_indexer,col_indexer] = value instead\n",
      "\n",
      "See the caveats in the documentation: http://pandas.pydata.org/pandas-docs/stable/user_guide/indexing.html#returning-a-view-versus-a-copy\n",
      "  self.obj[item] = s\n",
      "C:\\Users\\jmotyl\\Documents\\Predictive analysis\\group project\\ieseg.py:31: SettingWithCopyWarning: \n",
      "A value is trying to be set on a copy of a slice from a DataFrame.\n",
      "Try using .loc[row_indexer,col_indexer] = value instead\n",
      "\n",
      "See the caveats in the documentation: http://pandas.pydata.org/pandas-docs/stable/user_guide/indexing.html#returning-a-view-versus-a-copy\n",
      "  internalSet[\"Quantile\"] = internalSet[probability + \"_bin\"] / precision\n",
      "C:\\Users\\jmotyl\\Documents\\Predictive analysis\\group project\\ieseg.py:70: SettingWithCopyWarning: \n",
      "A value is trying to be set on a copy of a slice from a DataFrame.\n",
      "Try using .loc[row_indexer,col_indexer] = value instead\n",
      "\n",
      "See the caveats in the documentation: http://pandas.pydata.org/pandas-docs/stable/user_guide/indexing.html#returning-a-view-versus-a-copy\n",
      "  internalSet[\"Bin\"] = 0\n",
      "C:\\Users\\jmotyl\\AppData\\Local\\Continuum\\anaconda3\\lib\\site-packages\\pandas\\core\\indexing.py:376: SettingWithCopyWarning: \n",
      "A value is trying to be set on a copy of a slice from a DataFrame.\n",
      "Try using .loc[row_indexer,col_indexer] = value instead\n",
      "\n",
      "See the caveats in the documentation: http://pandas.pydata.org/pandas-docs/stable/user_guide/indexing.html#returning-a-view-versus-a-copy\n",
      "  self.obj[key] = _infer_fill_value(value)\n",
      "C:\\Users\\jmotyl\\AppData\\Local\\Continuum\\anaconda3\\lib\\site-packages\\pandas\\core\\indexing.py:494: SettingWithCopyWarning: \n",
      "A value is trying to be set on a copy of a slice from a DataFrame.\n",
      "Try using .loc[row_indexer,col_indexer] = value instead\n",
      "\n",
      "See the caveats in the documentation: http://pandas.pydata.org/pandas-docs/stable/user_guide/indexing.html#returning-a-view-versus-a-copy\n",
      "  self.obj[item] = s\n",
      "C:\\Users\\jmotyl\\Documents\\Predictive analysis\\group project\\ieseg.py:31: SettingWithCopyWarning: \n",
      "A value is trying to be set on a copy of a slice from a DataFrame.\n",
      "Try using .loc[row_indexer,col_indexer] = value instead\n",
      "\n",
      "See the caveats in the documentation: http://pandas.pydata.org/pandas-docs/stable/user_guide/indexing.html#returning-a-view-versus-a-copy\n",
      "  internalSet[\"Quantile\"] = internalSet[probability + \"_bin\"] / precision\n",
      "C:\\Users\\jmotyl\\Documents\\Predictive analysis\\group project\\ieseg.py:70: SettingWithCopyWarning: \n",
      "A value is trying to be set on a copy of a slice from a DataFrame.\n",
      "Try using .loc[row_indexer,col_indexer] = value instead\n",
      "\n",
      "See the caveats in the documentation: http://pandas.pydata.org/pandas-docs/stable/user_guide/indexing.html#returning-a-view-versus-a-copy\n",
      "  internalSet[\"Bin\"] = 0\n",
      "C:\\Users\\jmotyl\\AppData\\Local\\Continuum\\anaconda3\\lib\\site-packages\\pandas\\core\\indexing.py:376: SettingWithCopyWarning: \n",
      "A value is trying to be set on a copy of a slice from a DataFrame.\n",
      "Try using .loc[row_indexer,col_indexer] = value instead\n",
      "\n",
      "See the caveats in the documentation: http://pandas.pydata.org/pandas-docs/stable/user_guide/indexing.html#returning-a-view-versus-a-copy\n",
      "  self.obj[key] = _infer_fill_value(value)\n",
      "C:\\Users\\jmotyl\\AppData\\Local\\Continuum\\anaconda3\\lib\\site-packages\\pandas\\core\\indexing.py:494: SettingWithCopyWarning: \n",
      "A value is trying to be set on a copy of a slice from a DataFrame.\n",
      "Try using .loc[row_indexer,col_indexer] = value instead\n",
      "\n",
      "See the caveats in the documentation: http://pandas.pydata.org/pandas-docs/stable/user_guide/indexing.html#returning-a-view-versus-a-copy\n",
      "  self.obj[item] = s\n",
      "C:\\Users\\jmotyl\\Documents\\Predictive analysis\\group project\\ieseg.py:47: SettingWithCopyWarning: \n",
      "A value is trying to be set on a copy of a slice from a DataFrame.\n",
      "Try using .loc[row_indexer,col_indexer] = value instead\n",
      "\n",
      "See the caveats in the documentation: http://pandas.pydata.org/pandas-docs/stable/user_guide/indexing.html#returning-a-view-versus-a-copy\n",
      "  internalSet[\"Quantile\"] = internalSet[probability + \"_bin\"] / precision\n"
     ]
    }
   ],
   "source": [
    "#For each algorithm plot the following on validation set:\n",
    "    #  - Lift curve\n",
    "    #  - Cumulative response\n",
    "    #  - Cumulative gains\n",
    "\n",
    "lifts     = {}\n",
    "responses = {}\n",
    "gains     = {}\n",
    "data      = DataFrame(validationSet[target]).copy() \n",
    "\n",
    "for (index,model) in enumerate(models):\n",
    "    data[f\"proba {model}\"] = DataFrame(models[model].predict_proba(validationSet[featselected]))[1]\n",
    "    lifts[model] = lift(dataSet = data, actuals = \"above35\", probability = \"proba \"+str(model))\n",
    "    responses[model] = cumulativeResponse(dataSet = data, actuals = \"above35\", probability = \"proba \"+str(model))\n",
    "    gains[model] = cumulativeGains(dataSet = data, actuals = \"above35\", probability = \"proba \"+str(model))"
   ]
  },
  {
   "cell_type": "markdown",
   "metadata": {},
   "source": [
    "### Lift, cumulative gains and response curves for the Boosted Tree"
   ]
  },
  {
   "cell_type": "markdown",
   "metadata": {},
   "source": [
    "### Lift, cumulative gains and cumulative responses for all models"
   ]
  },
  {
   "cell_type": "code",
   "execution_count": 109,
   "metadata": {},
   "outputs": [
    {
     "name": "stdout",
     "output_type": "stream",
     "text": [
      "tree    Quantile  Cumulative response  Average response\n",
      "9      1.00             0.712142          0.499525\n",
      "8      0.85             0.697501          0.499525\n",
      "7      0.75             0.691587          0.499525\n",
      "6      0.70             0.665009          0.499525\n",
      "5      0.60             0.655730          0.499525\n",
      "4      0.55             0.578436          0.499525\n",
      "3      0.25             0.571983          0.499525\n",
      "2      0.20             0.532681          0.499525\n",
      "1      0.10             0.515846          0.499525\n",
      "0      0.05             0.499525          0.499525\n",
      "randomForest     Quantile  Cumulative response  Average response\n",
      "19      1.00             0.791367          0.499525\n",
      "18      0.95             0.756718          0.499525\n",
      "17      0.90             0.754854          0.499525\n",
      "16      0.85             0.741736          0.499525\n",
      "15      0.80             0.726954          0.499525\n",
      "14      0.75             0.712378          0.499525\n",
      "13      0.70             0.698706          0.499525\n",
      "12      0.65             0.677355          0.499525\n",
      "11      0.60             0.658612          0.499525\n",
      "10      0.55             0.651689          0.499525\n",
      "9       0.50             0.642184          0.499525\n",
      "8       0.45             0.630570          0.499525\n",
      "7       0.40             0.618834          0.499525\n",
      "6       0.35             0.609718          0.499525\n",
      "5       0.30             0.591684          0.499525\n",
      "4       0.25             0.577070          0.499525\n",
      "3       0.20             0.569771          0.499525\n",
      "2       0.15             0.550130          0.499525\n",
      "1       0.10             0.525555          0.499525\n",
      "0       0.05             0.499525          0.499525\n",
      "boostedTree     Quantile  Cumulative response  Average response\n",
      "19      1.00             0.958153          0.499525\n",
      "18      0.95             0.935084          0.499525\n",
      "17      0.90             0.922265          0.499525\n",
      "16      0.85             0.896941          0.499525\n",
      "15      0.80             0.885714          0.499525\n",
      "14      0.75             0.867801          0.499525\n",
      "13      0.70             0.844245          0.499525\n",
      "12      0.65             0.815727          0.499525\n",
      "11      0.60             0.800519          0.499525\n",
      "10      0.55             0.778572          0.499525\n",
      "9       0.50             0.758529          0.499525\n",
      "8       0.45             0.727870          0.499525\n",
      "7       0.40             0.703757          0.499525\n",
      "6       0.35             0.675537          0.499525\n",
      "5       0.30             0.650141          0.499525\n",
      "4       0.25             0.621577          0.499525\n",
      "3       0.20             0.584755          0.499525\n",
      "2       0.15             0.555032          0.499525\n",
      "1       0.10             0.525717          0.499525\n",
      "0       0.05             0.499525          0.499525\n",
      "neuralNet     Quantile  Cumulative response  Average response\n",
      "19      1.00             0.788630          0.499525\n",
      "18      0.95             0.784938          0.499525\n",
      "17      0.90             0.765823          0.499525\n",
      "16      0.85             0.771106          0.499525\n",
      "15      0.80             0.756204          0.499525\n",
      "14      0.75             0.733301          0.499525\n",
      "13      0.70             0.726667          0.499525\n",
      "12      0.65             0.709277          0.499525\n",
      "11      0.60             0.702483          0.499525\n",
      "10      0.55             0.692027          0.499525\n",
      "9       0.50             0.678675          0.499525\n",
      "8       0.45             0.662690          0.499525\n",
      "7       0.40             0.646444          0.499525\n",
      "6       0.35             0.627051          0.499525\n",
      "5       0.30             0.613129          0.499525\n",
      "4       0.25             0.593353          0.499525\n",
      "3       0.20             0.578654          0.499525\n",
      "2       0.15             0.555032          0.499525\n",
      "1       0.10             0.525838          0.499525\n",
      "0       0.05             0.499525          0.499525\n",
      "neighbors    Quantile  Cumulative response  Average response\n",
      "2      1.00             0.972089          0.499525\n",
      "1      0.55             0.956084          0.499525\n",
      "0      0.50             0.499525          0.499525\n"
     ]
    }
   ],
   "source": [
    "for model in models:\n",
    "    print(model, responses[model])"
   ]
  },
  {
   "cell_type": "code",
   "execution_count": 110,
   "metadata": {},
   "outputs": [
    {
     "name": "stdout",
     "output_type": "stream",
     "text": [
      "tree    Quantile      Lift  Base\n",
      "9      1.00  1.425638   1.0\n",
      "8      0.85  1.396327   1.0\n",
      "7      0.75  1.384488   1.0\n",
      "6      0.70  1.331283   1.0\n",
      "5      0.60  1.312706   1.0\n",
      "4      0.55  1.157972   1.0\n",
      "3      0.25  1.145053   1.0\n",
      "2      0.20  1.066374   1.0\n",
      "1      0.10  1.032673   1.0\n",
      "0      0.05  1.000000   1.0\n",
      "randomForest     Quantile      Lift  Base\n",
      "19      1.00  1.584238   1.0\n",
      "18      0.95  1.514874   1.0\n",
      "17      0.90  1.511144   1.0\n",
      "16      0.85  1.484883   1.0\n",
      "15      0.80  1.455291   1.0\n",
      "14      0.75  1.426110   1.0\n",
      "13      0.70  1.398741   1.0\n",
      "12      0.65  1.355997   1.0\n",
      "11      0.60  1.318476   1.0\n",
      "10      0.55  1.304616   1.0\n",
      "9       0.50  1.285588   1.0\n",
      "8       0.45  1.262339   1.0\n",
      "7       0.40  1.238844   1.0\n",
      "6       0.35  1.220595   1.0\n",
      "5       0.30  1.184492   1.0\n",
      "4       0.25  1.155238   1.0\n",
      "3       0.20  1.140626   1.0\n",
      "2       0.15  1.101305   1.0\n",
      "1       0.10  1.052110   1.0\n",
      "0       0.05  1.000000   1.0\n",
      "boostedTree     Quantile      Lift  Base\n",
      "19      1.00  1.918127   1.0\n",
      "18      0.95  1.871945   1.0\n",
      "17      0.90  1.846283   1.0\n",
      "16      0.85  1.795587   1.0\n",
      "15      0.80  1.773112   1.0\n",
      "14      0.75  1.737251   1.0\n",
      "13      0.70  1.690095   1.0\n",
      "12      0.65  1.633005   1.0\n",
      "11      0.60  1.602561   1.0\n",
      "10      0.55  1.558625   1.0\n",
      "9       0.50  1.518500   1.0\n",
      "8       0.45  1.457123   1.0\n",
      "7       0.40  1.408853   1.0\n",
      "6       0.35  1.352359   1.0\n",
      "5       0.30  1.301518   1.0\n",
      "4       0.25  1.244336   1.0\n",
      "3       0.20  1.170622   1.0\n",
      "2       0.15  1.111120   1.0\n",
      "1       0.10  1.052433   1.0\n",
      "0       0.05  1.000000   1.0\n",
      "neuralNet     Quantile      Lift  Base\n",
      "19      1.00  1.578759   1.0\n",
      "18      0.95  1.571369   1.0\n",
      "17      0.90  1.533102   1.0\n",
      "16      0.85  1.543678   1.0\n",
      "15      0.80  1.513846   1.0\n",
      "14      0.75  1.467996   1.0\n",
      "13      0.70  1.454715   1.0\n",
      "12      0.65  1.419902   1.0\n",
      "11      0.60  1.406302   1.0\n",
      "10      0.55  1.385370   1.0\n",
      "9       0.50  1.358641   1.0\n",
      "8       0.45  1.326640   1.0\n",
      "7       0.40  1.294117   1.0\n",
      "6       0.35  1.255295   1.0\n",
      "5       0.30  1.227425   1.0\n",
      "4       0.25  1.187835   1.0\n",
      "3       0.20  1.158407   1.0\n",
      "2       0.15  1.111120   1.0\n",
      "1       0.10  1.052676   1.0\n",
      "0       0.05  1.000000   1.0\n",
      "neighbors    Quantile      Lift  Base\n",
      "2      1.00  1.946026   1.0\n",
      "1      0.55  1.913985   1.0\n",
      "0      0.50  1.000000   1.0\n"
     ]
    }
   ],
   "source": [
    "#CHOSING WHICH MODEL TO USE: Basically, you pick the percentile you want and you check the difference in results. Highest\n",
    "#results is the model you chose to pick.\n",
    "for model in models:\n",
    "    print(model, lifts[model])"
   ]
  },
  {
   "cell_type": "code",
   "execution_count": 111,
   "metadata": {},
   "outputs": [
    {
     "data": {
      "image/png": "[encoded data removed]",
      "text/plain": [
       "<Figure size 432x288 with 1 Axes>"
      ]
     },
     "metadata": {},
     "output_type": "display_data"
    }
   ],
   "source": [
    "for model in models:\n",
    "    pyplot.plot(lifts[model][\"Quantile\"], lifts[model][\"Lift\"])\n",
    "    pyplot.gca().invert_xaxis()\n",
    "    pyplot.xlabel(\"Quantile\")\n",
    "    pyplot.ylabel(\"lift\")\n",
    "    pyplot.title(\"Lift\")"
   ]
  },
  {
   "cell_type": "code",
   "execution_count": 112,
   "metadata": {},
   "outputs": [
    {
     "data": {
      "image/png": "[encoded data removed]",
      "text/plain": [
       "<Figure size 432x288 with 1 Axes>"
      ]
     },
     "metadata": {},
     "output_type": "display_data"
    }
   ],
   "source": [
    "for model in models:\n",
    "    pyplot.plot(gains[model][\"Quantile\"], gains[model][\"Cumulative gains\"])\n",
    "    pyplot.gca().invert_xaxis()\n",
    "    pyplot.xlabel(\"Quantile\")\n",
    "    pyplot.ylabel(\"Cumulative gains\")\n",
    "    pyplot.title(\"Cumulative gains\")"
   ]
  },
  {
   "cell_type": "code",
   "execution_count": 113,
   "metadata": {},
   "outputs": [
    {
     "data": {
      "image/png": "[encoded data removed]",
      "text/plain": [
       "<Figure size 432x288 with 1 Axes>"
      ]
     },
     "metadata": {},
     "output_type": "display_data"
    }
   ],
   "source": [
    "for model in models:\n",
    "    pyplot.plot(responses[model][\"Quantile\"], responses[model][\"Cumulative response\"])\n",
    "    pyplot.gca().invert_xaxis()\n",
    "    pyplot.xlabel(\"Quantile\")\n",
    "    pyplot.ylabel(\"Cumulative response\")\n",
    "    pyplot.title(\"Cumulative response\")"
   ]
  },
  {
   "cell_type": "code",
   "execution_count": 114,
   "metadata": {},
   "outputs": [
    {
     "data": {
      "text/html": [
       "<div>\n",
       "<style scoped>\n",
       "    .dataframe tbody tr th:only-of-type {\n",
       "        vertical-align: middle;\n",
       "    }\n",
       "\n",
       "    .dataframe tbody tr th {\n",
       "        vertical-align: top;\n",
       "    }\n",
       "\n",
       "    .dataframe thead th {\n",
       "        text-align: right;\n",
       "    }\n",
       "</style>\n",
       "<table border=\"1\" class=\"dataframe\">\n",
       "  <thead>\n",
       "    <tr style=\"text-align: right;\">\n",
       "      <th></th>\n",
       "      <th>tree</th>\n",
       "      <th>randomForest</th>\n",
       "      <th>boostedTree</th>\n",
       "      <th>neuralNet</th>\n",
       "      <th>neighbors</th>\n",
       "    </tr>\n",
       "  </thead>\n",
       "  <tbody>\n",
       "    <tr>\n",
       "      <td>AUCTest</td>\n",
       "      <td>0.685336</td>\n",
       "      <td>0.678214</td>\n",
       "      <td>0.662179</td>\n",
       "      <td>0.657242</td>\n",
       "      <td>0.528389</td>\n",
       "    </tr>\n",
       "  </tbody>\n",
       "</table>\n",
       "</div>"
      ],
      "text/plain": [
       "             tree  randomForest  boostedTree  neuralNet  neighbors\n",
       "AUCTest  0.685336      0.678214     0.662179   0.657242   0.528389"
      ]
     },
     "execution_count": 114,
     "metadata": {},
     "output_type": "execute_result"
    }
   ],
   "source": [
    "#4. Compute Accuracy and AUC for each model on test Set \n",
    "\n",
    "performances = {}\n",
    "\n",
    "for model in models:\n",
    "    predictions   = models[model].predict(testSet[featselected])\n",
    "    probabilities = DataFrame(models[model].predict_proba(testSet[featselected]))[1]\n",
    "    accuracy      = accuracy_score(testSet[target],predictions)\n",
    "    auc           = roc_auc_score(array(testSet[target]),array(probabilities))\n",
    "    \n",
    "    performances[model] = {\"AUCTest\":auc}\n",
    "    \n",
    "DataFrame(performances)"
   ]
  },
  {
   "cell_type": "code",
   "execution_count": 115,
   "metadata": {},
   "outputs": [
    {
     "name": "stdout",
     "output_type": "stream",
     "text": [
      "[[4748 2103]\n",
      " [ 895 5943]]\n",
      "[[17277  8081]\n",
      " [   74    77]]\n"
     ]
    }
   ],
   "source": [
    "#Boosted Tree is more accurate at predicting the people that will actually give more than 35 €\n",
    "print(confusion_matrix(validationSet[target], boostedTree.predict(validationSet[featselected])))\n",
    "print(confusion_matrix(testSet[target], boostedTree.predict(testSet[featselected])))"
   ]
  },
  {
   "cell_type": "code",
   "execution_count": 116,
   "metadata": {},
   "outputs": [
    {
     "name": "stderr",
     "output_type": "stream",
     "text": [
      "C:\\Users\\jmotyl\\Documents\\Predictive analysis\\group project\\ieseg.py:70: SettingWithCopyWarning: \n",
      "A value is trying to be set on a copy of a slice from a DataFrame.\n",
      "Try using .loc[row_indexer,col_indexer] = value instead\n",
      "\n",
      "See the caveats in the documentation: http://pandas.pydata.org/pandas-docs/stable/user_guide/indexing.html#returning-a-view-versus-a-copy\n",
      "  internalSet[\"Bin\"] = 0\n",
      "C:\\Users\\jmotyl\\Documents\\Predictive analysis\\group project\\ieseg.py:70: SettingWithCopyWarning: \n",
      "A value is trying to be set on a copy of a slice from a DataFrame.\n",
      "Try using .loc[row_indexer,col_indexer] = value instead\n",
      "\n",
      "See the caveats in the documentation: http://pandas.pydata.org/pandas-docs/stable/user_guide/indexing.html#returning-a-view-versus-a-copy\n",
      "  internalSet[\"Bin\"] = 0\n",
      "C:\\Users\\jmotyl\\Documents\\Predictive analysis\\group project\\ieseg.py:70: SettingWithCopyWarning: \n",
      "A value is trying to be set on a copy of a slice from a DataFrame.\n",
      "Try using .loc[row_indexer,col_indexer] = value instead\n",
      "\n",
      "See the caveats in the documentation: http://pandas.pydata.org/pandas-docs/stable/user_guide/indexing.html#returning-a-view-versus-a-copy\n",
      "  internalSet[\"Bin\"] = 0\n",
      "C:\\Users\\jmotyl\\Documents\\Predictive analysis\\group project\\ieseg.py:70: SettingWithCopyWarning: \n",
      "A value is trying to be set on a copy of a slice from a DataFrame.\n",
      "Try using .loc[row_indexer,col_indexer] = value instead\n",
      "\n",
      "See the caveats in the documentation: http://pandas.pydata.org/pandas-docs/stable/user_guide/indexing.html#returning-a-view-versus-a-copy\n",
      "  internalSet[\"Bin\"] = 0\n",
      "C:\\Users\\jmotyl\\AppData\\Local\\Continuum\\anaconda3\\lib\\site-packages\\pandas\\core\\indexing.py:376: SettingWithCopyWarning: \n",
      "A value is trying to be set on a copy of a slice from a DataFrame.\n",
      "Try using .loc[row_indexer,col_indexer] = value instead\n",
      "\n",
      "See the caveats in the documentation: http://pandas.pydata.org/pandas-docs/stable/user_guide/indexing.html#returning-a-view-versus-a-copy\n",
      "  self.obj[key] = _infer_fill_value(value)\n",
      "C:\\Users\\jmotyl\\AppData\\Local\\Continuum\\anaconda3\\lib\\site-packages\\pandas\\core\\indexing.py:494: SettingWithCopyWarning: \n",
      "A value is trying to be set on a copy of a slice from a DataFrame.\n",
      "Try using .loc[row_indexer,col_indexer] = value instead\n",
      "\n",
      "See the caveats in the documentation: http://pandas.pydata.org/pandas-docs/stable/user_guide/indexing.html#returning-a-view-versus-a-copy\n",
      "  self.obj[item] = s\n",
      "C:\\Users\\jmotyl\\Documents\\Predictive analysis\\group project\\ieseg.py:70: SettingWithCopyWarning: \n",
      "A value is trying to be set on a copy of a slice from a DataFrame.\n",
      "Try using .loc[row_indexer,col_indexer] = value instead\n",
      "\n",
      "See the caveats in the documentation: http://pandas.pydata.org/pandas-docs/stable/user_guide/indexing.html#returning-a-view-versus-a-copy\n",
      "  internalSet[\"Bin\"] = 0\n",
      "C:\\Users\\jmotyl\\AppData\\Local\\Continuum\\anaconda3\\lib\\site-packages\\pandas\\core\\indexing.py:376: SettingWithCopyWarning: \n",
      "A value is trying to be set on a copy of a slice from a DataFrame.\n",
      "Try using .loc[row_indexer,col_indexer] = value instead\n",
      "\n",
      "See the caveats in the documentation: http://pandas.pydata.org/pandas-docs/stable/user_guide/indexing.html#returning-a-view-versus-a-copy\n",
      "  self.obj[key] = _infer_fill_value(value)\n",
      "C:\\Users\\jmotyl\\AppData\\Local\\Continuum\\anaconda3\\lib\\site-packages\\pandas\\core\\indexing.py:494: SettingWithCopyWarning: \n",
      "A value is trying to be set on a copy of a slice from a DataFrame.\n",
      "Try using .loc[row_indexer,col_indexer] = value instead\n",
      "\n",
      "See the caveats in the documentation: http://pandas.pydata.org/pandas-docs/stable/user_guide/indexing.html#returning-a-view-versus-a-copy\n",
      "  self.obj[item] = s\n",
      "C:\\Users\\jmotyl\\Documents\\Predictive analysis\\group project\\ieseg.py:70: SettingWithCopyWarning: \n",
      "A value is trying to be set on a copy of a slice from a DataFrame.\n",
      "Try using .loc[row_indexer,col_indexer] = value instead\n",
      "\n",
      "See the caveats in the documentation: http://pandas.pydata.org/pandas-docs/stable/user_guide/indexing.html#returning-a-view-versus-a-copy\n",
      "  internalSet[\"Bin\"] = 0\n",
      "C:\\Users\\jmotyl\\AppData\\Local\\Continuum\\anaconda3\\lib\\site-packages\\pandas\\core\\indexing.py:376: SettingWithCopyWarning: \n",
      "A value is trying to be set on a copy of a slice from a DataFrame.\n",
      "Try using .loc[row_indexer,col_indexer] = value instead\n",
      "\n",
      "See the caveats in the documentation: http://pandas.pydata.org/pandas-docs/stable/user_guide/indexing.html#returning-a-view-versus-a-copy\n",
      "  self.obj[key] = _infer_fill_value(value)\n",
      "C:\\Users\\jmotyl\\AppData\\Local\\Continuum\\anaconda3\\lib\\site-packages\\pandas\\core\\indexing.py:494: SettingWithCopyWarning: \n",
      "A value is trying to be set on a copy of a slice from a DataFrame.\n",
      "Try using .loc[row_indexer,col_indexer] = value instead\n",
      "\n",
      "See the caveats in the documentation: http://pandas.pydata.org/pandas-docs/stable/user_guide/indexing.html#returning-a-view-versus-a-copy\n",
      "  self.obj[item] = s\n",
      "C:\\Users\\jmotyl\\Documents\\Predictive analysis\\group project\\ieseg.py:70: SettingWithCopyWarning: \n",
      "A value is trying to be set on a copy of a slice from a DataFrame.\n",
      "Try using .loc[row_indexer,col_indexer] = value instead\n",
      "\n",
      "See the caveats in the documentation: http://pandas.pydata.org/pandas-docs/stable/user_guide/indexing.html#returning-a-view-versus-a-copy\n",
      "  internalSet[\"Bin\"] = 0\n",
      "C:\\Users\\jmotyl\\AppData\\Local\\Continuum\\anaconda3\\lib\\site-packages\\pandas\\core\\indexing.py:376: SettingWithCopyWarning: \n",
      "A value is trying to be set on a copy of a slice from a DataFrame.\n",
      "Try using .loc[row_indexer,col_indexer] = value instead\n",
      "\n",
      "See the caveats in the documentation: http://pandas.pydata.org/pandas-docs/stable/user_guide/indexing.html#returning-a-view-versus-a-copy\n",
      "  self.obj[key] = _infer_fill_value(value)\n",
      "C:\\Users\\jmotyl\\AppData\\Local\\Continuum\\anaconda3\\lib\\site-packages\\pandas\\core\\indexing.py:494: SettingWithCopyWarning: \n",
      "A value is trying to be set on a copy of a slice from a DataFrame.\n",
      "Try using .loc[row_indexer,col_indexer] = value instead\n",
      "\n",
      "See the caveats in the documentation: http://pandas.pydata.org/pandas-docs/stable/user_guide/indexing.html#returning-a-view-versus-a-copy\n",
      "  self.obj[item] = s\n",
      "C:\\Users\\jmotyl\\Documents\\Predictive analysis\\group project\\ieseg.py:31: SettingWithCopyWarning: \n",
      "A value is trying to be set on a copy of a slice from a DataFrame.\n",
      "Try using .loc[row_indexer,col_indexer] = value instead\n",
      "\n",
      "See the caveats in the documentation: http://pandas.pydata.org/pandas-docs/stable/user_guide/indexing.html#returning-a-view-versus-a-copy\n",
      "  internalSet[\"Quantile\"] = internalSet[probability + \"_bin\"] / precision\n",
      "C:\\Users\\jmotyl\\Documents\\Predictive analysis\\group project\\ieseg.py:70: SettingWithCopyWarning: \n",
      "A value is trying to be set on a copy of a slice from a DataFrame.\n",
      "Try using .loc[row_indexer,col_indexer] = value instead\n",
      "\n",
      "See the caveats in the documentation: http://pandas.pydata.org/pandas-docs/stable/user_guide/indexing.html#returning-a-view-versus-a-copy\n",
      "  internalSet[\"Bin\"] = 0\n",
      "C:\\Users\\jmotyl\\AppData\\Local\\Continuum\\anaconda3\\lib\\site-packages\\pandas\\core\\indexing.py:376: SettingWithCopyWarning: \n",
      "A value is trying to be set on a copy of a slice from a DataFrame.\n",
      "Try using .loc[row_indexer,col_indexer] = value instead\n",
      "\n",
      "See the caveats in the documentation: http://pandas.pydata.org/pandas-docs/stable/user_guide/indexing.html#returning-a-view-versus-a-copy\n",
      "  self.obj[key] = _infer_fill_value(value)\n",
      "C:\\Users\\jmotyl\\AppData\\Local\\Continuum\\anaconda3\\lib\\site-packages\\pandas\\core\\indexing.py:494: SettingWithCopyWarning: \n",
      "A value is trying to be set on a copy of a slice from a DataFrame.\n",
      "Try using .loc[row_indexer,col_indexer] = value instead\n",
      "\n",
      "See the caveats in the documentation: http://pandas.pydata.org/pandas-docs/stable/user_guide/indexing.html#returning-a-view-versus-a-copy\n",
      "  self.obj[item] = s\n",
      "C:\\Users\\jmotyl\\Documents\\Predictive analysis\\group project\\ieseg.py:31: SettingWithCopyWarning: \n",
      "A value is trying to be set on a copy of a slice from a DataFrame.\n",
      "Try using .loc[row_indexer,col_indexer] = value instead\n",
      "\n",
      "See the caveats in the documentation: http://pandas.pydata.org/pandas-docs/stable/user_guide/indexing.html#returning-a-view-versus-a-copy\n",
      "  internalSet[\"Quantile\"] = internalSet[probability + \"_bin\"] / precision\n",
      "C:\\Users\\jmotyl\\Documents\\Predictive analysis\\group project\\ieseg.py:70: SettingWithCopyWarning: \n",
      "A value is trying to be set on a copy of a slice from a DataFrame.\n",
      "Try using .loc[row_indexer,col_indexer] = value instead\n",
      "\n",
      "See the caveats in the documentation: http://pandas.pydata.org/pandas-docs/stable/user_guide/indexing.html#returning-a-view-versus-a-copy\n",
      "  internalSet[\"Bin\"] = 0\n",
      "C:\\Users\\jmotyl\\AppData\\Local\\Continuum\\anaconda3\\lib\\site-packages\\pandas\\core\\indexing.py:376: SettingWithCopyWarning: \n",
      "A value is trying to be set on a copy of a slice from a DataFrame.\n",
      "Try using .loc[row_indexer,col_indexer] = value instead\n",
      "\n",
      "See the caveats in the documentation: http://pandas.pydata.org/pandas-docs/stable/user_guide/indexing.html#returning-a-view-versus-a-copy\n",
      "  self.obj[key] = _infer_fill_value(value)\n",
      "C:\\Users\\jmotyl\\AppData\\Local\\Continuum\\anaconda3\\lib\\site-packages\\pandas\\core\\indexing.py:494: SettingWithCopyWarning: \n",
      "A value is trying to be set on a copy of a slice from a DataFrame.\n",
      "Try using .loc[row_indexer,col_indexer] = value instead\n",
      "\n",
      "See the caveats in the documentation: http://pandas.pydata.org/pandas-docs/stable/user_guide/indexing.html#returning-a-view-versus-a-copy\n",
      "  self.obj[item] = s\n",
      "C:\\Users\\jmotyl\\Documents\\Predictive analysis\\group project\\ieseg.py:47: SettingWithCopyWarning: \n",
      "A value is trying to be set on a copy of a slice from a DataFrame.\n",
      "Try using .loc[row_indexer,col_indexer] = value instead\n",
      "\n",
      "See the caveats in the documentation: http://pandas.pydata.org/pandas-docs/stable/user_guide/indexing.html#returning-a-view-versus-a-copy\n",
      "  internalSet[\"Quantile\"] = internalSet[probability + \"_bin\"] / precision\n"
     ]
    }
   ],
   "source": [
    "#For every model plot the following on test set:\n",
    "    #  - Lift curve\n",
    "    #  - Cumulative response\n",
    "    #  - Cumulative gains\n",
    "\n",
    "lifts     = {}\n",
    "responses = {}\n",
    "gains     = {}\n",
    "data      = DataFrame(testSet[target]).copy() \n",
    "\n",
    "for (index,model) in enumerate(models):\n",
    "    data[f\"proba {model}\"] = DataFrame(models[model].predict_proba(testSet[featselected]))[1]\n",
    "    lifts[model] = lift(dataSet = data, actuals = \"above35\", probability = \"proba \"+str(model))\n",
    "    responses[model] = cumulativeResponse(dataSet = data, actuals = \"above35\", probability = \"proba \"+str(model))\n",
    "    gains[model] = cumulativeGains(dataSet = data, actuals = \"above35\", probability = \"proba \"+str(model))"
   ]
  },
  {
   "cell_type": "code",
   "execution_count": 127,
   "metadata": {},
   "outputs": [
    {
     "data": {
      "text/plain": [
       "Text(0.5, 1.0, 'Lift')"
      ]
     },
     "execution_count": 127,
     "metadata": {},
     "output_type": "execute_result"
    },
    {
     "data": {
      "image/png": "[encoded data removed]",
      "text/plain": [
       "<Figure size 432x288 with 1 Axes>"
      ]
     },
     "metadata": {},
     "output_type": "display_data"
    }
   ],
   "source": [
    "#Taking a look at the Boosted Tree lift curve\n",
    "pyplot.plot(lifts[\"boostedTree\"][\"Quantile\"], lifts[\"boostedTree\"][\"Lift\"],color='red')\n",
    "pyplot.gca().invert_xaxis()\n",
    "pyplot.xlabel(\"Quantile\")\n",
    "pyplot.ylabel(\"lift\")\n",
    "pyplot.title(\"Lift\")"
   ]
  },
  {
   "cell_type": "code",
   "execution_count": 141,
   "metadata": {},
   "outputs": [
    {
     "data": {
      "image/png": "[encoded data removed]",
      "text/plain": [
       "<Figure size 432x288 with 1 Axes>"
      ]
     },
     "metadata": {},
     "output_type": "display_data"
    }
   ],
   "source": [
    "#Taking a look at the Boosted Tree cumulative gain curve\n",
    "import scikitplot as skplt\n",
    "import matplotlib.pyplot as plt\n",
    "\n",
    "\n",
    "boostedTree.fit(trainingSet[featselected],trainingSet[target])\n",
    "predicted_probas = boostedTree.predict_proba(testSet[featselected])\n",
    "\n",
    "\n",
    "\n",
    "skplt.metrics.plot_cumulative_gain(testSet[target], predicted_probas)\n",
    "\n",
    "plt.show()"
   ]
  },
  {
   "cell_type": "code",
   "execution_count": 136,
   "metadata": {},
   "outputs": [
    {
     "data": {
      "text/plain": [
       "Text(0.5, 1.0, 'Cumulative response')"
      ]
     },
     "execution_count": 136,
     "metadata": {},
     "output_type": "execute_result"
    },
    {
     "data": {
      "image/png": "[encoded data removed]",
      "text/plain": [
       "<Figure size 432x288 with 1 Axes>"
      ]
     },
     "metadata": {},
     "output_type": "display_data"
    }
   ],
   "source": [
    "#Taking a look at the Boosted Tree cumulative response curve\n",
    "pyplot.plot(responses[\"boostedTree\"][\"Quantile\"], responses[\"boostedTree\"][\"Cumulative response\"],color='red')\n",
    "pyplot.gca().invert_xaxis()\n",
    "pyplot.xlabel(\"Quantile\")\n",
    "pyplot.ylabel(\"Cumulative response\")\n",
    "pyplot.title(\"Cumulative response\")"
   ]
  }
 ],
 "metadata": {
  "celltoolbar": "Raw Cell Format",
  "kernelspec": {
   "display_name": "Python 3",
   "language": "python",
   "name": "python3"
  },
  "language_info": {
   "codemirror_mode": {
    "name": "ipython",
    "version": 3
   },
   "file_extension": ".py",
   "mimetype": "text/x-python",
   "name": "python",
   "nbconvert_exporter": "python",
   "pygments_lexer": "ipython3",
   "version": "3.7.4"
  }
 },
 "nbformat": 4,
 "nbformat_minor": 2
}
